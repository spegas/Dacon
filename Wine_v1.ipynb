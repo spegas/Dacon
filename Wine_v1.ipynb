{
  "nbformat": 4,
  "nbformat_minor": 0,
  "metadata": {
    "colab": {
      "name": "Get_Price_Data.ipynb",
      "provenance": [],
      "collapsed_sections": []
    },
    "kernelspec": {
      "name": "python3",
      "display_name": "Python 3"
    },
    "language_info": {
      "name": "python"
    }
  },
  "cells": [
    {
      "cell_type": "code",
      "metadata": {
        "colab": {
          "base_uri": "https://localhost:8080/"
        },
        "id": "efv1huvLo3vp",
        "outputId": "abb6b8d0-9e76-433e-d928-ad4b038ee195"
      },
      "source": [
        "!pip install wget"
      ],
      "execution_count": 1,
      "outputs": [
        {
          "output_type": "stream",
          "name": "stdout",
          "text": [
            "Collecting wget\n",
            "  Downloading wget-3.2.zip (10 kB)\n",
            "Building wheels for collected packages: wget\n",
            "  Building wheel for wget (setup.py) ... \u001b[?25l\u001b[?25hdone\n",
            "  Created wheel for wget: filename=wget-3.2-py3-none-any.whl size=9672 sha256=ffb87b235c287ac405e91772e3eb5fb163db2dc392d04a3b6f28c5e68e9008d5\n",
            "  Stored in directory: /root/.cache/pip/wheels/a1/b6/7c/0e63e34eb06634181c63adacca38b79ff8f35c37e3c13e3c02\n",
            "Successfully built wget\n",
            "Installing collected packages: wget\n",
            "Successfully installed wget-3.2\n"
          ]
        }
      ]
    },
    {
      "cell_type": "code",
      "metadata": {
        "colab": {
          "base_uri": "https://localhost:8080/"
        },
        "id": "ytsQPlBApwUR",
        "outputId": "54e7922a-ea86-4db6-d4eb-ea0bc948f188"
      },
      "source": [
        "pip install gdown"
      ],
      "execution_count": 2,
      "outputs": [
        {
          "output_type": "stream",
          "name": "stdout",
          "text": [
            "Requirement already satisfied: gdown in /usr/local/lib/python3.7/dist-packages (3.6.4)\n",
            "Requirement already satisfied: requests in /usr/local/lib/python3.7/dist-packages (from gdown) (2.23.0)\n",
            "Requirement already satisfied: six in /usr/local/lib/python3.7/dist-packages (from gdown) (1.15.0)\n",
            "Requirement already satisfied: tqdm in /usr/local/lib/python3.7/dist-packages (from gdown) (4.62.3)\n",
            "Requirement already satisfied: urllib3!=1.25.0,!=1.25.1,<1.26,>=1.21.1 in /usr/local/lib/python3.7/dist-packages (from requests->gdown) (1.24.3)\n",
            "Requirement already satisfied: idna<3,>=2.5 in /usr/local/lib/python3.7/dist-packages (from requests->gdown) (2.10)\n",
            "Requirement already satisfied: certifi>=2017.4.17 in /usr/local/lib/python3.7/dist-packages (from requests->gdown) (2021.10.8)\n",
            "Requirement already satisfied: chardet<4,>=3.0.2 in /usr/local/lib/python3.7/dist-packages (from requests->gdown) (3.0.4)\n"
          ]
        }
      ]
    },
    {
      "cell_type": "code",
      "metadata": {
        "id": "uKp31eutsWDi"
      },
      "source": [
        "import gdown"
      ],
      "execution_count": 3,
      "outputs": []
    },
    {
      "cell_type": "code",
      "metadata": {
        "id": "6KvTyaFhrlvU"
      },
      "source": [
        "data_path = 'https://drive.google.com/uc?id='\n",
        "data_file_id = '1i9s4gLqKw19gknr3BVW5L_5PbaOg-_Bj'\n",
        "output_name = 'data.zip'"
      ],
      "execution_count": 4,
      "outputs": []
    },
    {
      "cell_type": "code",
      "metadata": {
        "colab": {
          "base_uri": "https://localhost:8080/",
          "height": 107
        },
        "id": "1oxkrq28rq32",
        "outputId": "84270831-c146-4083-f861-282aa4dd5562"
      },
      "source": [
        "gdown.download(data_path+data_file_id, output_name, quiet=False)"
      ],
      "execution_count": 5,
      "outputs": [
        {
          "output_type": "stream",
          "name": "stderr",
          "text": [
            "Downloading...\n",
            "From: https://drive.google.com/uc?id=1i9s4gLqKw19gknr3BVW5L_5PbaOg-_Bj\n",
            "To: /content/data.zip\n",
            "100%|██████████| 134k/134k [00:00<00:00, 53.3MB/s]\n"
          ]
        },
        {
          "output_type": "execute_result",
          "data": {
            "application/vnd.google.colaboratory.intrinsic+json": {
              "type": "string"
            },
            "text/plain": [
              "'data.zip'"
            ]
          },
          "metadata": {},
          "execution_count": 5
        }
      ]
    },
    {
      "cell_type": "code",
      "metadata": {
        "id": "ephF95aVsRRI"
      },
      "source": [
        "import zipfile\n",
        "with zipfile.ZipFile('data.zip', 'r') as zip_ref:\n",
        "    zip_ref.extractall('data')\n"
      ],
      "execution_count": 6,
      "outputs": []
    },
    {
      "cell_type": "code",
      "metadata": {
        "id": "acgTnmp6t8A_"
      },
      "source": [
        "import os\n",
        "if not os.path.exists('result'):\n",
        "  os.makedirs('result')"
      ],
      "execution_count": 7,
      "outputs": []
    },
    {
      "cell_type": "code",
      "metadata": {
        "id": "UFn0ZKSbuGGH"
      },
      "source": [
        "import numpy as np\n",
        "import pandas as pd"
      ],
      "execution_count": 8,
      "outputs": []
    },
    {
      "cell_type": "code",
      "metadata": {
        "id": "vT8kZr2uuNLp"
      },
      "source": [
        "pd_wine_data = pd.read_csv('data/train.csv')"
      ],
      "execution_count": 96,
      "outputs": []
    },
    {
      "cell_type": "code",
      "metadata": {
        "id": "CNm84a7TuRq3",
        "outputId": "9a820f47-4197-45fd-b509-77d713041621",
        "colab": {
          "base_uri": "https://localhost:8080/",
          "height": 363
        }
      },
      "source": [
        "pd_wine_data.head(10)"
      ],
      "execution_count": 97,
      "outputs": [
        {
          "output_type": "execute_result",
          "data": {
            "text/html": [
              "<div>\n",
              "<style scoped>\n",
              "    .dataframe tbody tr th:only-of-type {\n",
              "        vertical-align: middle;\n",
              "    }\n",
              "\n",
              "    .dataframe tbody tr th {\n",
              "        vertical-align: top;\n",
              "    }\n",
              "\n",
              "    .dataframe thead th {\n",
              "        text-align: right;\n",
              "    }\n",
              "</style>\n",
              "<table border=\"1\" class=\"dataframe\">\n",
              "  <thead>\n",
              "    <tr style=\"text-align: right;\">\n",
              "      <th></th>\n",
              "      <th>id</th>\n",
              "      <th>fixed acidity</th>\n",
              "      <th>volatile acidity</th>\n",
              "      <th>citric acid</th>\n",
              "      <th>residual sugar</th>\n",
              "      <th>chlorides</th>\n",
              "      <th>free sulfur dioxide</th>\n",
              "      <th>total sulfur dioxide</th>\n",
              "      <th>density</th>\n",
              "      <th>pH</th>\n",
              "      <th>sulphates</th>\n",
              "      <th>alcohol</th>\n",
              "      <th>type</th>\n",
              "      <th>quality</th>\n",
              "    </tr>\n",
              "  </thead>\n",
              "  <tbody>\n",
              "    <tr>\n",
              "      <th>0</th>\n",
              "      <td>1</td>\n",
              "      <td>8.0</td>\n",
              "      <td>0.18</td>\n",
              "      <td>0.37</td>\n",
              "      <td>1.3</td>\n",
              "      <td>0.040</td>\n",
              "      <td>15.0</td>\n",
              "      <td>96.0</td>\n",
              "      <td>0.99120</td>\n",
              "      <td>3.06</td>\n",
              "      <td>0.61</td>\n",
              "      <td>12.1</td>\n",
              "      <td>white</td>\n",
              "      <td>6</td>\n",
              "    </tr>\n",
              "    <tr>\n",
              "      <th>1</th>\n",
              "      <td>2</td>\n",
              "      <td>7.5</td>\n",
              "      <td>0.38</td>\n",
              "      <td>0.29</td>\n",
              "      <td>4.9</td>\n",
              "      <td>0.021</td>\n",
              "      <td>38.0</td>\n",
              "      <td>113.0</td>\n",
              "      <td>0.99026</td>\n",
              "      <td>3.08</td>\n",
              "      <td>0.48</td>\n",
              "      <td>13.0</td>\n",
              "      <td>white</td>\n",
              "      <td>7</td>\n",
              "    </tr>\n",
              "    <tr>\n",
              "      <th>2</th>\n",
              "      <td>3</td>\n",
              "      <td>6.1</td>\n",
              "      <td>0.27</td>\n",
              "      <td>0.33</td>\n",
              "      <td>2.2</td>\n",
              "      <td>0.021</td>\n",
              "      <td>26.0</td>\n",
              "      <td>117.0</td>\n",
              "      <td>0.98860</td>\n",
              "      <td>3.12</td>\n",
              "      <td>0.30</td>\n",
              "      <td>12.5</td>\n",
              "      <td>white</td>\n",
              "      <td>6</td>\n",
              "    </tr>\n",
              "    <tr>\n",
              "      <th>3</th>\n",
              "      <td>4</td>\n",
              "      <td>6.4</td>\n",
              "      <td>0.32</td>\n",
              "      <td>0.50</td>\n",
              "      <td>10.7</td>\n",
              "      <td>0.047</td>\n",
              "      <td>57.0</td>\n",
              "      <td>206.0</td>\n",
              "      <td>0.99680</td>\n",
              "      <td>3.08</td>\n",
              "      <td>0.60</td>\n",
              "      <td>9.4</td>\n",
              "      <td>white</td>\n",
              "      <td>5</td>\n",
              "    </tr>\n",
              "    <tr>\n",
              "      <th>4</th>\n",
              "      <td>5</td>\n",
              "      <td>8.4</td>\n",
              "      <td>0.37</td>\n",
              "      <td>0.43</td>\n",
              "      <td>2.3</td>\n",
              "      <td>0.063</td>\n",
              "      <td>12.0</td>\n",
              "      <td>19.0</td>\n",
              "      <td>0.99550</td>\n",
              "      <td>3.17</td>\n",
              "      <td>0.81</td>\n",
              "      <td>11.2</td>\n",
              "      <td>red</td>\n",
              "      <td>7</td>\n",
              "    </tr>\n",
              "    <tr>\n",
              "      <th>5</th>\n",
              "      <td>6</td>\n",
              "      <td>6.0</td>\n",
              "      <td>0.33</td>\n",
              "      <td>0.38</td>\n",
              "      <td>9.7</td>\n",
              "      <td>0.040</td>\n",
              "      <td>29.0</td>\n",
              "      <td>124.0</td>\n",
              "      <td>0.99540</td>\n",
              "      <td>3.47</td>\n",
              "      <td>0.48</td>\n",
              "      <td>11.0</td>\n",
              "      <td>white</td>\n",
              "      <td>6</td>\n",
              "    </tr>\n",
              "    <tr>\n",
              "      <th>6</th>\n",
              "      <td>7</td>\n",
              "      <td>6.1</td>\n",
              "      <td>0.30</td>\n",
              "      <td>0.56</td>\n",
              "      <td>2.7</td>\n",
              "      <td>0.046</td>\n",
              "      <td>46.0</td>\n",
              "      <td>184.0</td>\n",
              "      <td>0.99240</td>\n",
              "      <td>3.31</td>\n",
              "      <td>0.57</td>\n",
              "      <td>10.9</td>\n",
              "      <td>white</td>\n",
              "      <td>6</td>\n",
              "    </tr>\n",
              "    <tr>\n",
              "      <th>7</th>\n",
              "      <td>8</td>\n",
              "      <td>6.9</td>\n",
              "      <td>0.41</td>\n",
              "      <td>0.33</td>\n",
              "      <td>2.2</td>\n",
              "      <td>0.081</td>\n",
              "      <td>22.0</td>\n",
              "      <td>36.0</td>\n",
              "      <td>0.99490</td>\n",
              "      <td>3.41</td>\n",
              "      <td>0.75</td>\n",
              "      <td>11.1</td>\n",
              "      <td>red</td>\n",
              "      <td>6</td>\n",
              "    </tr>\n",
              "    <tr>\n",
              "      <th>8</th>\n",
              "      <td>9</td>\n",
              "      <td>7.4</td>\n",
              "      <td>0.44</td>\n",
              "      <td>0.20</td>\n",
              "      <td>11.5</td>\n",
              "      <td>0.049</td>\n",
              "      <td>44.0</td>\n",
              "      <td>157.0</td>\n",
              "      <td>0.99800</td>\n",
              "      <td>3.27</td>\n",
              "      <td>0.44</td>\n",
              "      <td>9.0</td>\n",
              "      <td>white</td>\n",
              "      <td>5</td>\n",
              "    </tr>\n",
              "    <tr>\n",
              "      <th>9</th>\n",
              "      <td>10</td>\n",
              "      <td>6.8</td>\n",
              "      <td>0.59</td>\n",
              "      <td>0.06</td>\n",
              "      <td>6.0</td>\n",
              "      <td>0.060</td>\n",
              "      <td>11.0</td>\n",
              "      <td>18.0</td>\n",
              "      <td>0.99620</td>\n",
              "      <td>3.41</td>\n",
              "      <td>0.59</td>\n",
              "      <td>10.8</td>\n",
              "      <td>red</td>\n",
              "      <td>7</td>\n",
              "    </tr>\n",
              "  </tbody>\n",
              "</table>\n",
              "</div>"
            ],
            "text/plain": [
              "   id  fixed acidity  volatile acidity  ...  alcohol   type  quality\n",
              "0   1            8.0              0.18  ...     12.1  white        6\n",
              "1   2            7.5              0.38  ...     13.0  white        7\n",
              "2   3            6.1              0.27  ...     12.5  white        6\n",
              "3   4            6.4              0.32  ...      9.4  white        5\n",
              "4   5            8.4              0.37  ...     11.2    red        7\n",
              "5   6            6.0              0.33  ...     11.0  white        6\n",
              "6   7            6.1              0.30  ...     10.9  white        6\n",
              "7   8            6.9              0.41  ...     11.1    red        6\n",
              "8   9            7.4              0.44  ...      9.0  white        5\n",
              "9  10            6.8              0.59  ...     10.8    red        7\n",
              "\n",
              "[10 rows x 14 columns]"
            ]
          },
          "metadata": {},
          "execution_count": 97
        }
      ]
    },
    {
      "cell_type": "code",
      "metadata": {
        "id": "T31vmgTguro9",
        "outputId": "cc7ff221-6fb4-4401-b4f1-4ad2385807c4",
        "colab": {
          "base_uri": "https://localhost:8080/"
        }
      },
      "source": [
        "pd_wine_data.shape"
      ],
      "execution_count": 98,
      "outputs": [
        {
          "output_type": "execute_result",
          "data": {
            "text/plain": [
              "(3231, 14)"
            ]
          },
          "metadata": {},
          "execution_count": 98
        }
      ]
    },
    {
      "cell_type": "code",
      "metadata": {
        "id": "kLoZgWC4udu6",
        "outputId": "0a827873-7f01-4e89-af79-bee1115c269f",
        "colab": {
          "base_uri": "https://localhost:8080/"
        }
      },
      "source": [
        "pd_wine_data.info()"
      ],
      "execution_count": 99,
      "outputs": [
        {
          "output_type": "stream",
          "name": "stdout",
          "text": [
            "<class 'pandas.core.frame.DataFrame'>\n",
            "RangeIndex: 3231 entries, 0 to 3230\n",
            "Data columns (total 14 columns):\n",
            " #   Column                Non-Null Count  Dtype  \n",
            "---  ------                --------------  -----  \n",
            " 0   id                    3231 non-null   int64  \n",
            " 1   fixed acidity         3231 non-null   float64\n",
            " 2   volatile acidity      3231 non-null   float64\n",
            " 3   citric acid           3231 non-null   float64\n",
            " 4   residual sugar        3231 non-null   float64\n",
            " 5   chlorides             3231 non-null   float64\n",
            " 6   free sulfur dioxide   3231 non-null   float64\n",
            " 7   total sulfur dioxide  3231 non-null   float64\n",
            " 8   density               3231 non-null   float64\n",
            " 9   pH                    3231 non-null   float64\n",
            " 10  sulphates             3231 non-null   float64\n",
            " 11  alcohol               3231 non-null   float64\n",
            " 12  type                  3231 non-null   object \n",
            " 13  quality               3231 non-null   int64  \n",
            "dtypes: float64(11), int64(2), object(1)\n",
            "memory usage: 353.5+ KB\n"
          ]
        }
      ]
    },
    {
      "cell_type": "code",
      "metadata": {
        "id": "dTAI4LaNvPfz",
        "outputId": "f30ca65c-8958-4b0e-9448-06296599ed2f",
        "colab": {
          "base_uri": "https://localhost:8080/",
          "height": 318
        }
      },
      "source": [
        "pd_wine_data.describe()"
      ],
      "execution_count": 100,
      "outputs": [
        {
          "output_type": "execute_result",
          "data": {
            "text/html": [
              "<div>\n",
              "<style scoped>\n",
              "    .dataframe tbody tr th:only-of-type {\n",
              "        vertical-align: middle;\n",
              "    }\n",
              "\n",
              "    .dataframe tbody tr th {\n",
              "        vertical-align: top;\n",
              "    }\n",
              "\n",
              "    .dataframe thead th {\n",
              "        text-align: right;\n",
              "    }\n",
              "</style>\n",
              "<table border=\"1\" class=\"dataframe\">\n",
              "  <thead>\n",
              "    <tr style=\"text-align: right;\">\n",
              "      <th></th>\n",
              "      <th>id</th>\n",
              "      <th>fixed acidity</th>\n",
              "      <th>volatile acidity</th>\n",
              "      <th>citric acid</th>\n",
              "      <th>residual sugar</th>\n",
              "      <th>chlorides</th>\n",
              "      <th>free sulfur dioxide</th>\n",
              "      <th>total sulfur dioxide</th>\n",
              "      <th>density</th>\n",
              "      <th>pH</th>\n",
              "      <th>sulphates</th>\n",
              "      <th>alcohol</th>\n",
              "      <th>quality</th>\n",
              "    </tr>\n",
              "  </thead>\n",
              "  <tbody>\n",
              "    <tr>\n",
              "      <th>count</th>\n",
              "      <td>3231.000000</td>\n",
              "      <td>3231.000000</td>\n",
              "      <td>3231.000000</td>\n",
              "      <td>3231.000000</td>\n",
              "      <td>3231.000000</td>\n",
              "      <td>3231.000000</td>\n",
              "      <td>3231.000000</td>\n",
              "      <td>3231.000000</td>\n",
              "      <td>3231.000000</td>\n",
              "      <td>3231.000000</td>\n",
              "      <td>3231.000000</td>\n",
              "      <td>3231.000000</td>\n",
              "      <td>3231.000000</td>\n",
              "    </tr>\n",
              "    <tr>\n",
              "      <th>mean</th>\n",
              "      <td>1616.000000</td>\n",
              "      <td>7.205772</td>\n",
              "      <td>0.336072</td>\n",
              "      <td>0.319496</td>\n",
              "      <td>5.454813</td>\n",
              "      <td>0.055890</td>\n",
              "      <td>30.583720</td>\n",
              "      <td>116.256577</td>\n",
              "      <td>0.994667</td>\n",
              "      <td>3.214166</td>\n",
              "      <td>0.531455</td>\n",
              "      <td>10.497108</td>\n",
              "      <td>5.829155</td>\n",
              "    </tr>\n",
              "    <tr>\n",
              "      <th>std</th>\n",
              "      <td>932.853686</td>\n",
              "      <td>1.295494</td>\n",
              "      <td>0.160285</td>\n",
              "      <td>0.145854</td>\n",
              "      <td>4.816098</td>\n",
              "      <td>0.035722</td>\n",
              "      <td>17.387143</td>\n",
              "      <td>55.759070</td>\n",
              "      <td>0.003054</td>\n",
              "      <td>0.161873</td>\n",
              "      <td>0.149686</td>\n",
              "      <td>1.193813</td>\n",
              "      <td>0.850003</td>\n",
              "    </tr>\n",
              "    <tr>\n",
              "      <th>min</th>\n",
              "      <td>1.000000</td>\n",
              "      <td>3.800000</td>\n",
              "      <td>0.080000</td>\n",
              "      <td>0.000000</td>\n",
              "      <td>0.600000</td>\n",
              "      <td>0.012000</td>\n",
              "      <td>1.000000</td>\n",
              "      <td>6.000000</td>\n",
              "      <td>0.987110</td>\n",
              "      <td>2.720000</td>\n",
              "      <td>0.220000</td>\n",
              "      <td>8.400000</td>\n",
              "      <td>4.000000</td>\n",
              "    </tr>\n",
              "    <tr>\n",
              "      <th>25%</th>\n",
              "      <td>808.500000</td>\n",
              "      <td>6.400000</td>\n",
              "      <td>0.227500</td>\n",
              "      <td>0.250000</td>\n",
              "      <td>1.800000</td>\n",
              "      <td>0.038000</td>\n",
              "      <td>17.000000</td>\n",
              "      <td>78.000000</td>\n",
              "      <td>0.992205</td>\n",
              "      <td>3.100000</td>\n",
              "      <td>0.430000</td>\n",
              "      <td>9.500000</td>\n",
              "      <td>5.000000</td>\n",
              "    </tr>\n",
              "    <tr>\n",
              "      <th>50%</th>\n",
              "      <td>1616.000000</td>\n",
              "      <td>7.000000</td>\n",
              "      <td>0.290000</td>\n",
              "      <td>0.310000</td>\n",
              "      <td>3.100000</td>\n",
              "      <td>0.047000</td>\n",
              "      <td>29.000000</td>\n",
              "      <td>119.000000</td>\n",
              "      <td>0.994840</td>\n",
              "      <td>3.200000</td>\n",
              "      <td>0.510000</td>\n",
              "      <td>10.300000</td>\n",
              "      <td>6.000000</td>\n",
              "    </tr>\n",
              "    <tr>\n",
              "      <th>75%</th>\n",
              "      <td>2423.500000</td>\n",
              "      <td>7.700000</td>\n",
              "      <td>0.400000</td>\n",
              "      <td>0.390000</td>\n",
              "      <td>8.100000</td>\n",
              "      <td>0.064000</td>\n",
              "      <td>42.000000</td>\n",
              "      <td>156.000000</td>\n",
              "      <td>0.996900</td>\n",
              "      <td>3.320000</td>\n",
              "      <td>0.600000</td>\n",
              "      <td>11.300000</td>\n",
              "      <td>6.000000</td>\n",
              "    </tr>\n",
              "    <tr>\n",
              "      <th>max</th>\n",
              "      <td>3231.000000</td>\n",
              "      <td>15.900000</td>\n",
              "      <td>1.040000</td>\n",
              "      <td>1.660000</td>\n",
              "      <td>65.800000</td>\n",
              "      <td>0.611000</td>\n",
              "      <td>131.000000</td>\n",
              "      <td>344.000000</td>\n",
              "      <td>1.038980</td>\n",
              "      <td>4.010000</td>\n",
              "      <td>1.980000</td>\n",
              "      <td>14.900000</td>\n",
              "      <td>8.000000</td>\n",
              "    </tr>\n",
              "  </tbody>\n",
              "</table>\n",
              "</div>"
            ],
            "text/plain": [
              "                id  fixed acidity  ...      alcohol      quality\n",
              "count  3231.000000    3231.000000  ...  3231.000000  3231.000000\n",
              "mean   1616.000000       7.205772  ...    10.497108     5.829155\n",
              "std     932.853686       1.295494  ...     1.193813     0.850003\n",
              "min       1.000000       3.800000  ...     8.400000     4.000000\n",
              "25%     808.500000       6.400000  ...     9.500000     5.000000\n",
              "50%    1616.000000       7.000000  ...    10.300000     6.000000\n",
              "75%    2423.500000       7.700000  ...    11.300000     6.000000\n",
              "max    3231.000000      15.900000  ...    14.900000     8.000000\n",
              "\n",
              "[8 rows x 13 columns]"
            ]
          },
          "metadata": {},
          "execution_count": 100
        }
      ]
    },
    {
      "cell_type": "code",
      "metadata": {
        "id": "niyDdeKoLZ7o",
        "outputId": "6d7d85fb-8ba6-478c-985c-028355427f90",
        "colab": {
          "base_uri": "https://localhost:8080/"
        }
      },
      "source": [
        "pd_wine_data['type'].unique()"
      ],
      "execution_count": 125,
      "outputs": [
        {
          "output_type": "execute_result",
          "data": {
            "text/plain": [
              "array(['white', 'red'], dtype=object)"
            ]
          },
          "metadata": {},
          "execution_count": 125
        }
      ]
    },
    {
      "cell_type": "code",
      "metadata": {
        "id": "N0z1s0cjvcIQ"
      },
      "source": [
        "import seaborn as sns\n",
        "import matplotlib.pyplot as plt"
      ],
      "execution_count": 101,
      "outputs": []
    },
    {
      "cell_type": "code",
      "metadata": {
        "id": "VTMHLSdSLe7L"
      },
      "source": [
        ""
      ],
      "execution_count": null,
      "outputs": []
    },
    {
      "cell_type": "code",
      "metadata": {
        "id": "P49qeO_hv29S",
        "outputId": "c563e907-ed85-4809-ed7d-d2ef2cec6610",
        "colab": {
          "base_uri": "https://localhost:8080/",
          "height": 300
        }
      },
      "source": [
        "sns.histplot(pd_wine_data['quality'])"
      ],
      "execution_count": 102,
      "outputs": [
        {
          "output_type": "execute_result",
          "data": {
            "text/plain": [
              "<matplotlib.axes._subplots.AxesSubplot at 0x7fd2c95e7e10>"
            ]
          },
          "metadata": {},
          "execution_count": 102
        },
        {
          "output_type": "display_data",
          "data": {
            "image/png": "[encoded data removed]",
            "text/plain": [
              "<Figure size 432x288 with 1 Axes>"
            ]
          },
          "metadata": {}
        }
      ]
    },
    {
      "cell_type": "code",
      "metadata": {
        "id": "70SdBQ1BwMZ1",
        "outputId": "0cb04032-0f59-481c-ee57-60452a5bd9dc",
        "colab": {
          "base_uri": "https://localhost:8080/",
          "height": 300
        }
      },
      "source": [
        "sns.histplot(pd_wine_data['fixed acidity'])"
      ],
      "execution_count": 103,
      "outputs": [
        {
          "output_type": "execute_result",
          "data": {
            "text/plain": [
              "<matplotlib.axes._subplots.AxesSubplot at 0x7fd2c94cc290>"
            ]
          },
          "metadata": {},
          "execution_count": 103
        },
        {
          "output_type": "display_data",
          "data": {
            "image/png": "[encoded data removed]",
            "text/plain": [
              "<Figure size 432x288 with 1 Axes>"
            ]
          },
          "metadata": {}
        }
      ]
    },
    {
      "cell_type": "code",
      "metadata": {
        "id": "V-t4WVPHwwl-",
        "outputId": "b069f273-c053-4d5b-f22a-1100c6904f13",
        "colab": {
          "base_uri": "https://localhost:8080/",
          "height": 300
        }
      },
      "source": [
        "sns.histplot(pd_wine_data['volatile acidity'])"
      ],
      "execution_count": 104,
      "outputs": [
        {
          "output_type": "execute_result",
          "data": {
            "text/plain": [
              "<matplotlib.axes._subplots.AxesSubplot at 0x7fd2c933b410>"
            ]
          },
          "metadata": {},
          "execution_count": 104
        },
        {
          "output_type": "display_data",
          "data": {
            "image/png": "[encoded data removed]",
            "text/plain": [
              "<Figure size 432x288 with 1 Axes>"
            ]
          },
          "metadata": {}
        }
      ]
    },
    {
      "cell_type": "code",
      "metadata": {
        "id": "hydb4WLpwq6R",
        "outputId": "db1211e8-6c27-47ea-d28c-6a1088787792",
        "colab": {
          "base_uri": "https://localhost:8080/",
          "height": 300
        }
      },
      "source": [
        "sns.histplot(pd_wine_data['citric acid'])"
      ],
      "execution_count": 105,
      "outputs": [
        {
          "output_type": "execute_result",
          "data": {
            "text/plain": [
              "<matplotlib.axes._subplots.AxesSubplot at 0x7fd2c923ba50>"
            ]
          },
          "metadata": {},
          "execution_count": 105
        },
        {
          "output_type": "display_data",
          "data": {
            "image/png": "[encoded data removed]",
            "text/plain": [
              "<Figure size 432x288 with 1 Axes>"
            ]
          },
          "metadata": {}
        }
      ]
    },
    {
      "cell_type": "code",
      "metadata": {
        "id": "y5ej9SHhwxFp",
        "outputId": "79ca28cd-0a0f-4a80-fa97-0182f02decc0",
        "colab": {
          "base_uri": "https://localhost:8080/",
          "height": 303
        }
      },
      "source": [
        "sns.histplot(pd_wine_data['residual sugar'])"
      ],
      "execution_count": 106,
      "outputs": [
        {
          "output_type": "execute_result",
          "data": {
            "text/plain": [
              "<matplotlib.axes._subplots.AxesSubplot at 0x7fd2c9112550>"
            ]
          },
          "metadata": {},
          "execution_count": 106
        },
        {
          "output_type": "display_data",
          "data": {
            "image/png": "[encoded data removed]",
            "text/plain": [
              "<Figure size 432x288 with 1 Axes>"
            ]
          },
          "metadata": {}
        }
      ]
    },
    {
      "cell_type": "code",
      "metadata": {
        "id": "UhAIOewww8rE",
        "outputId": "7d9c5e48-fe75-49c1-d7ef-70a0152d1392",
        "colab": {
          "base_uri": "https://localhost:8080/",
          "height": 300
        }
      },
      "source": [
        "sns.histplot(pd_wine_data['chlorides'])"
      ],
      "execution_count": 107,
      "outputs": [
        {
          "output_type": "execute_result",
          "data": {
            "text/plain": [
              "<matplotlib.axes._subplots.AxesSubplot at 0x7fd2c8f85990>"
            ]
          },
          "metadata": {},
          "execution_count": 107
        },
        {
          "output_type": "display_data",
          "data": {
            "image/png": "[encoded data removed]",
            "text/plain": [
              "<Figure size 432x288 with 1 Axes>"
            ]
          },
          "metadata": {}
        }
      ]
    },
    {
      "cell_type": "code",
      "metadata": {
        "id": "4PXAQlMJw_-A",
        "outputId": "08160da4-d962-4aec-853c-8ee12ebfcf5f",
        "colab": {
          "base_uri": "https://localhost:8080/",
          "height": 300
        }
      },
      "source": [
        "sns.histplot(pd_wine_data['free sulfur dioxide'])"
      ],
      "execution_count": 108,
      "outputs": [
        {
          "output_type": "execute_result",
          "data": {
            "text/plain": [
              "<matplotlib.axes._subplots.AxesSubplot at 0x7fd2c95b8890>"
            ]
          },
          "metadata": {},
          "execution_count": 108
        },
        {
          "output_type": "display_data",
          "data": {
            "image/png": "[encoded data removed]",
            "text/plain": [
              "<Figure size 432x288 with 1 Axes>"
            ]
          },
          "metadata": {}
        }
      ]
    },
    {
      "cell_type": "code",
      "metadata": {
        "id": "Q-rN3wI_xEup",
        "outputId": "55374482-3646-407d-f3e5-252232abc31b",
        "colab": {
          "base_uri": "https://localhost:8080/",
          "height": 300
        }
      },
      "source": [
        "sns.histplot(pd_wine_data['total sulfur dioxide'])"
      ],
      "execution_count": 109,
      "outputs": [
        {
          "output_type": "execute_result",
          "data": {
            "text/plain": [
              "<matplotlib.axes._subplots.AxesSubplot at 0x7fd2c95de310>"
            ]
          },
          "metadata": {},
          "execution_count": 109
        },
        {
          "output_type": "display_data",
          "data": {
            "image/png": "[encoded data removed]",
            "text/plain": [
              "<Figure size 432x288 with 1 Axes>"
            ]
          },
          "metadata": {}
        }
      ]
    },
    {
      "cell_type": "code",
      "metadata": {
        "id": "zjFshXK_xHPq",
        "outputId": "4f9fcd23-ad37-4062-b4c8-0049fbb26fc3",
        "colab": {
          "base_uri": "https://localhost:8080/",
          "height": 300
        }
      },
      "source": [
        "sns.histplot(pd_wine_data['density'])"
      ],
      "execution_count": 110,
      "outputs": [
        {
          "output_type": "execute_result",
          "data": {
            "text/plain": [
              "<matplotlib.axes._subplots.AxesSubplot at 0x7fd2c8c48a50>"
            ]
          },
          "metadata": {},
          "execution_count": 110
        },
        {
          "output_type": "display_data",
          "data": {
            "image/png": "[encoded data removed]",
            "text/plain": [
              "<Figure size 432x288 with 1 Axes>"
            ]
          },
          "metadata": {}
        }
      ]
    },
    {
      "cell_type": "code",
      "metadata": {
        "id": "JxThvw2ZxK5T",
        "outputId": "fb0ac673-89e0-4596-8ab6-0ef8bd7c466a",
        "colab": {
          "base_uri": "https://localhost:8080/",
          "height": 300
        }
      },
      "source": [
        "sns.histplot(pd_wine_data['pH'])"
      ],
      "execution_count": 111,
      "outputs": [
        {
          "output_type": "execute_result",
          "data": {
            "text/plain": [
              "<matplotlib.axes._subplots.AxesSubplot at 0x7fd2c957e450>"
            ]
          },
          "metadata": {},
          "execution_count": 111
        },
        {
          "output_type": "display_data",
          "data": {
            "image/png": "[encoded data removed]",
            "text/plain": [
              "<Figure size 432x288 with 1 Axes>"
            ]
          },
          "metadata": {}
        }
      ]
    },
    {
      "cell_type": "code",
      "metadata": {
        "id": "nDPpBYAJxNmH",
        "outputId": "093feb18-a444-4f09-d480-01ab6547111d",
        "colab": {
          "base_uri": "https://localhost:8080/",
          "height": 300
        }
      },
      "source": [
        "sns.histplot(pd_wine_data['sulphates'])"
      ],
      "execution_count": 112,
      "outputs": [
        {
          "output_type": "execute_result",
          "data": {
            "text/plain": [
              "<matplotlib.axes._subplots.AxesSubplot at 0x7fd2c8a1b090>"
            ]
          },
          "metadata": {},
          "execution_count": 112
        },
        {
          "output_type": "display_data",
          "data": {
            "image/png": "[encoded data removed]",
            "text/plain": [
              "<Figure size 432x288 with 1 Axes>"
            ]
          },
          "metadata": {}
        }
      ]
    },
    {
      "cell_type": "code",
      "metadata": {
        "id": "vWaJxgwwxP9y",
        "outputId": "b4dff7af-c9b7-4941-da55-f9da414eec5b",
        "colab": {
          "base_uri": "https://localhost:8080/",
          "height": 300
        }
      },
      "source": [
        "sns.histplot(pd_wine_data['alcohol'])"
      ],
      "execution_count": 113,
      "outputs": [
        {
          "output_type": "execute_result",
          "data": {
            "text/plain": [
              "<matplotlib.axes._subplots.AxesSubplot at 0x7fd2c887a550>"
            ]
          },
          "metadata": {},
          "execution_count": 113
        },
        {
          "output_type": "display_data",
          "data": {
            "image/png": "[encoded data removed]",
            "text/plain": [
              "<Figure size 432x288 with 1 Axes>"
            ]
          },
          "metadata": {}
        }
      ]
    },
    {
      "cell_type": "code",
      "metadata": {
        "id": "1lg0aRVOu942"
      },
      "source": [
        "total_corr = pd_wine_data.corr()"
      ],
      "execution_count": 114,
      "outputs": []
    },
    {
      "cell_type": "code",
      "metadata": {
        "id": "TLtM_rxLF33D",
        "outputId": "138580fa-ccdd-465c-bb2b-a896f1f90b6c",
        "colab": {
          "base_uri": "https://localhost:8080/",
          "height": 509
        }
      },
      "source": [
        "total_corr"
      ],
      "execution_count": 115,
      "outputs": [
        {
          "output_type": "execute_result",
          "data": {
            "text/html": [
              "<div>\n",
              "<style scoped>\n",
              "    .dataframe tbody tr th:only-of-type {\n",
              "        vertical-align: middle;\n",
              "    }\n",
              "\n",
              "    .dataframe tbody tr th {\n",
              "        vertical-align: top;\n",
              "    }\n",
              "\n",
              "    .dataframe thead th {\n",
              "        text-align: right;\n",
              "    }\n",
              "</style>\n",
              "<table border=\"1\" class=\"dataframe\">\n",
              "  <thead>\n",
              "    <tr style=\"text-align: right;\">\n",
              "      <th></th>\n",
              "      <th>id</th>\n",
              "      <th>fixed acidity</th>\n",
              "      <th>volatile acidity</th>\n",
              "      <th>citric acid</th>\n",
              "      <th>residual sugar</th>\n",
              "      <th>chlorides</th>\n",
              "      <th>free sulfur dioxide</th>\n",
              "      <th>total sulfur dioxide</th>\n",
              "      <th>density</th>\n",
              "      <th>pH</th>\n",
              "      <th>sulphates</th>\n",
              "      <th>alcohol</th>\n",
              "      <th>quality</th>\n",
              "    </tr>\n",
              "  </thead>\n",
              "  <tbody>\n",
              "    <tr>\n",
              "      <th>id</th>\n",
              "      <td>1.000000</td>\n",
              "      <td>0.018970</td>\n",
              "      <td>0.006596</td>\n",
              "      <td>0.011222</td>\n",
              "      <td>-0.037193</td>\n",
              "      <td>-0.018822</td>\n",
              "      <td>-0.000888</td>\n",
              "      <td>-0.012760</td>\n",
              "      <td>-0.021715</td>\n",
              "      <td>-0.010712</td>\n",
              "      <td>-0.031720</td>\n",
              "      <td>-0.000821</td>\n",
              "      <td>-0.011903</td>\n",
              "    </tr>\n",
              "    <tr>\n",
              "      <th>fixed acidity</th>\n",
              "      <td>0.018970</td>\n",
              "      <td>1.000000</td>\n",
              "      <td>0.232630</td>\n",
              "      <td>0.322810</td>\n",
              "      <td>-0.103202</td>\n",
              "      <td>0.293142</td>\n",
              "      <td>-0.280763</td>\n",
              "      <td>-0.321019</td>\n",
              "      <td>0.455402</td>\n",
              "      <td>-0.262493</td>\n",
              "      <td>0.287222</td>\n",
              "      <td>-0.095422</td>\n",
              "      <td>-0.081833</td>\n",
              "    </tr>\n",
              "    <tr>\n",
              "      <th>volatile acidity</th>\n",
              "      <td>0.006596</td>\n",
              "      <td>0.232630</td>\n",
              "      <td>1.000000</td>\n",
              "      <td>-0.345733</td>\n",
              "      <td>-0.188803</td>\n",
              "      <td>0.364315</td>\n",
              "      <td>-0.361046</td>\n",
              "      <td>-0.412550</td>\n",
              "      <td>0.279816</td>\n",
              "      <td>0.241005</td>\n",
              "      <td>0.250557</td>\n",
              "      <td>-0.044734</td>\n",
              "      <td>-0.255084</td>\n",
              "    </tr>\n",
              "    <tr>\n",
              "      <th>citric acid</th>\n",
              "      <td>0.011222</td>\n",
              "      <td>0.322810</td>\n",
              "      <td>-0.345733</td>\n",
              "      <td>1.000000</td>\n",
              "      <td>0.143676</td>\n",
              "      <td>0.065396</td>\n",
              "      <td>0.136252</td>\n",
              "      <td>0.179739</td>\n",
              "      <td>0.112365</td>\n",
              "      <td>-0.303586</td>\n",
              "      <td>0.055739</td>\n",
              "      <td>-0.013053</td>\n",
              "      <td>0.066630</td>\n",
              "    </tr>\n",
              "    <tr>\n",
              "      <th>residual sugar</th>\n",
              "      <td>-0.037193</td>\n",
              "      <td>-0.103202</td>\n",
              "      <td>-0.188803</td>\n",
              "      <td>0.143676</td>\n",
              "      <td>1.000000</td>\n",
              "      <td>-0.124167</td>\n",
              "      <td>0.400449</td>\n",
              "      <td>0.486119</td>\n",
              "      <td>0.567618</td>\n",
              "      <td>-0.260946</td>\n",
              "      <td>-0.175722</td>\n",
              "      <td>-0.352132</td>\n",
              "      <td>-0.045225</td>\n",
              "    </tr>\n",
              "    <tr>\n",
              "      <th>chlorides</th>\n",
              "      <td>-0.018822</td>\n",
              "      <td>0.293142</td>\n",
              "      <td>0.364315</td>\n",
              "      <td>0.065396</td>\n",
              "      <td>-0.124167</td>\n",
              "      <td>1.000000</td>\n",
              "      <td>-0.190749</td>\n",
              "      <td>-0.276137</td>\n",
              "      <td>0.352764</td>\n",
              "      <td>0.034020</td>\n",
              "      <td>0.398705</td>\n",
              "      <td>-0.262646</td>\n",
              "      <td>-0.185623</td>\n",
              "    </tr>\n",
              "    <tr>\n",
              "      <th>free sulfur dioxide</th>\n",
              "      <td>-0.000888</td>\n",
              "      <td>-0.280763</td>\n",
              "      <td>-0.361046</td>\n",
              "      <td>0.136252</td>\n",
              "      <td>0.400449</td>\n",
              "      <td>-0.190749</td>\n",
              "      <td>1.000000</td>\n",
              "      <td>0.721963</td>\n",
              "      <td>0.024838</td>\n",
              "      <td>-0.138593</td>\n",
              "      <td>-0.193609</td>\n",
              "      <td>-0.180137</td>\n",
              "      <td>0.068432</td>\n",
              "    </tr>\n",
              "    <tr>\n",
              "      <th>total sulfur dioxide</th>\n",
              "      <td>-0.012760</td>\n",
              "      <td>-0.321019</td>\n",
              "      <td>-0.412550</td>\n",
              "      <td>0.179739</td>\n",
              "      <td>0.486119</td>\n",
              "      <td>-0.276137</td>\n",
              "      <td>0.721963</td>\n",
              "      <td>1.000000</td>\n",
              "      <td>0.045679</td>\n",
              "      <td>-0.218352</td>\n",
              "      <td>-0.266420</td>\n",
              "      <td>-0.268022</td>\n",
              "      <td>-0.043504</td>\n",
              "    </tr>\n",
              "    <tr>\n",
              "      <th>density</th>\n",
              "      <td>-0.021715</td>\n",
              "      <td>0.455402</td>\n",
              "      <td>0.279816</td>\n",
              "      <td>0.112365</td>\n",
              "      <td>0.567618</td>\n",
              "      <td>0.352764</td>\n",
              "      <td>0.024838</td>\n",
              "      <td>0.045679</td>\n",
              "      <td>1.000000</td>\n",
              "      <td>0.001155</td>\n",
              "      <td>0.253116</td>\n",
              "      <td>-0.677935</td>\n",
              "      <td>-0.309164</td>\n",
              "    </tr>\n",
              "    <tr>\n",
              "      <th>pH</th>\n",
              "      <td>-0.010712</td>\n",
              "      <td>-0.262493</td>\n",
              "      <td>0.241005</td>\n",
              "      <td>-0.303586</td>\n",
              "      <td>-0.260946</td>\n",
              "      <td>0.034020</td>\n",
              "      <td>-0.138593</td>\n",
              "      <td>-0.218352</td>\n",
              "      <td>0.001155</td>\n",
              "      <td>1.000000</td>\n",
              "      <td>0.189430</td>\n",
              "      <td>0.121912</td>\n",
              "      <td>0.036293</td>\n",
              "    </tr>\n",
              "    <tr>\n",
              "      <th>sulphates</th>\n",
              "      <td>-0.031720</td>\n",
              "      <td>0.287222</td>\n",
              "      <td>0.250557</td>\n",
              "      <td>0.055739</td>\n",
              "      <td>-0.175722</td>\n",
              "      <td>0.398705</td>\n",
              "      <td>-0.193609</td>\n",
              "      <td>-0.266420</td>\n",
              "      <td>0.253116</td>\n",
              "      <td>0.189430</td>\n",
              "      <td>1.000000</td>\n",
              "      <td>-0.004172</td>\n",
              "      <td>0.026895</td>\n",
              "    </tr>\n",
              "    <tr>\n",
              "      <th>alcohol</th>\n",
              "      <td>-0.000821</td>\n",
              "      <td>-0.095422</td>\n",
              "      <td>-0.044734</td>\n",
              "      <td>-0.013053</td>\n",
              "      <td>-0.352132</td>\n",
              "      <td>-0.262646</td>\n",
              "      <td>-0.180137</td>\n",
              "      <td>-0.268022</td>\n",
              "      <td>-0.677935</td>\n",
              "      <td>0.121912</td>\n",
              "      <td>-0.004172</td>\n",
              "      <td>1.000000</td>\n",
              "      <td>0.451999</td>\n",
              "    </tr>\n",
              "    <tr>\n",
              "      <th>quality</th>\n",
              "      <td>-0.011903</td>\n",
              "      <td>-0.081833</td>\n",
              "      <td>-0.255084</td>\n",
              "      <td>0.066630</td>\n",
              "      <td>-0.045225</td>\n",
              "      <td>-0.185623</td>\n",
              "      <td>0.068432</td>\n",
              "      <td>-0.043504</td>\n",
              "      <td>-0.309164</td>\n",
              "      <td>0.036293</td>\n",
              "      <td>0.026895</td>\n",
              "      <td>0.451999</td>\n",
              "      <td>1.000000</td>\n",
              "    </tr>\n",
              "  </tbody>\n",
              "</table>\n",
              "</div>"
            ],
            "text/plain": [
              "                            id  fixed acidity  ...   alcohol   quality\n",
              "id                    1.000000       0.018970  ... -0.000821 -0.011903\n",
              "fixed acidity         0.018970       1.000000  ... -0.095422 -0.081833\n",
              "volatile acidity      0.006596       0.232630  ... -0.044734 -0.255084\n",
              "citric acid           0.011222       0.322810  ... -0.013053  0.066630\n",
              "residual sugar       -0.037193      -0.103202  ... -0.352132 -0.045225\n",
              "chlorides            -0.018822       0.293142  ... -0.262646 -0.185623\n",
              "free sulfur dioxide  -0.000888      -0.280763  ... -0.180137  0.068432\n",
              "total sulfur dioxide -0.012760      -0.321019  ... -0.268022 -0.043504\n",
              "density              -0.021715       0.455402  ... -0.677935 -0.309164\n",
              "pH                   -0.010712      -0.262493  ...  0.121912  0.036293\n",
              "sulphates            -0.031720       0.287222  ... -0.004172  0.026895\n",
              "alcohol              -0.000821      -0.095422  ...  1.000000  0.451999\n",
              "quality              -0.011903      -0.081833  ...  0.451999  1.000000\n",
              "\n",
              "[13 rows x 13 columns]"
            ]
          },
          "metadata": {},
          "execution_count": 115
        }
      ]
    },
    {
      "cell_type": "code",
      "metadata": {
        "id": "Ffoh42VsuTWe",
        "outputId": "10daa5ba-c271-44b5-8dfd-af3b956b87cd",
        "colab": {
          "base_uri": "https://localhost:8080/"
        }
      },
      "source": [
        "total_corr['quality'][1:]"
      ],
      "execution_count": 116,
      "outputs": [
        {
          "output_type": "execute_result",
          "data": {
            "text/plain": [
              "fixed acidity          -0.081833\n",
              "volatile acidity       -0.255084\n",
              "citric acid             0.066630\n",
              "residual sugar         -0.045225\n",
              "chlorides              -0.185623\n",
              "free sulfur dioxide     0.068432\n",
              "total sulfur dioxide   -0.043504\n",
              "density                -0.309164\n",
              "pH                      0.036293\n",
              "sulphates               0.026895\n",
              "alcohol                 0.451999\n",
              "quality                 1.000000\n",
              "Name: quality, dtype: float64"
            ]
          },
          "metadata": {},
          "execution_count": 116
        }
      ]
    },
    {
      "cell_type": "code",
      "metadata": {
        "id": "WtV60yVHFv_p",
        "outputId": "02d0a4b7-49c0-47c0-881d-21e724432549",
        "colab": {
          "base_uri": "https://localhost:8080/"
        }
      },
      "source": [
        "pd_wine_data[pd_wine_data.columns[1:]].corr()['quality'][:-1]"
      ],
      "execution_count": 117,
      "outputs": [
        {
          "output_type": "execute_result",
          "data": {
            "text/plain": [
              "fixed acidity          -0.081833\n",
              "volatile acidity       -0.255084\n",
              "citric acid             0.066630\n",
              "residual sugar         -0.045225\n",
              "chlorides              -0.185623\n",
              "free sulfur dioxide     0.068432\n",
              "total sulfur dioxide   -0.043504\n",
              "density                -0.309164\n",
              "pH                      0.036293\n",
              "sulphates               0.026895\n",
              "alcohol                 0.451999\n",
              "Name: quality, dtype: float64"
            ]
          },
          "metadata": {},
          "execution_count": 117
        }
      ]
    },
    {
      "cell_type": "code",
      "metadata": {
        "id": "WmnEF3pUGF57"
      },
      "source": [
        "from itertools import permutations, combinations"
      ],
      "execution_count": 118,
      "outputs": []
    },
    {
      "cell_type": "code",
      "metadata": {
        "id": "mkEmhaNpKWo1",
        "outputId": "ceb5a87d-3f56-45f1-81ca-b6ab1a0c01ba",
        "colab": {
          "base_uri": "https://localhost:8080/"
        }
      },
      "source": [
        "columns_name = pd_wine_data.columns\n",
        "print(columns_name)\n",
        "columns_name = columns_name[1:]\n",
        "print(columns_name)"
      ],
      "execution_count": 124,
      "outputs": [
        {
          "output_type": "stream",
          "name": "stdout",
          "text": [
            "Index(['id', 'fixed acidity', 'volatile acidity', 'citric acid',\n",
            "       'residual sugar', 'chlorides', 'free sulfur dioxide',\n",
            "       'total sulfur dioxide', 'density', 'pH', 'sulphates', 'alcohol', 'type',\n",
            "       'quality'],\n",
            "      dtype='object')\n",
            "Index(['fixed acidity', 'volatile acidity', 'citric acid', 'residual sugar',\n",
            "       'chlorides', 'free sulfur dioxide', 'total sulfur dioxide', 'density',\n",
            "       'pH', 'sulphates', 'alcohol', 'type', 'quality'],\n",
            "      dtype='object')\n"
          ]
        }
      ]
    },
    {
      "cell_type": "code",
      "metadata": {
        "id": "EFSFeZpcLJod",
        "outputId": "ef09e87a-0370-41f7-a5c0-d48f2e4af427",
        "colab": {
          "base_uri": "https://localhost:8080/"
        }
      },
      "source": [
        "# total_comb_list = list(combinations(columns_name, 2))\n",
        "list(combinations(columns_name, 2))"
      ],
      "execution_count": 137,
      "outputs": [
        {
          "output_type": "execute_result",
          "data": {
            "text/plain": [
              "[('fixed acidity', 'volatile acidity'),\n",
              " ('fixed acidity', 'citric acid'),\n",
              " ('fixed acidity', 'residual sugar'),\n",
              " ('fixed acidity', 'chlorides'),\n",
              " ('fixed acidity', 'free sulfur dioxide'),\n",
              " ('fixed acidity', 'total sulfur dioxide'),\n",
              " ('fixed acidity', 'density'),\n",
              " ('fixed acidity', 'pH'),\n",
              " ('fixed acidity', 'sulphates'),\n",
              " ('fixed acidity', 'alcohol'),\n",
              " ('fixed acidity', 'type'),\n",
              " ('fixed acidity', 'quality'),\n",
              " ('volatile acidity', 'citric acid'),\n",
              " ('volatile acidity', 'residual sugar'),\n",
              " ('volatile acidity', 'chlorides'),\n",
              " ('volatile acidity', 'free sulfur dioxide'),\n",
              " ('volatile acidity', 'total sulfur dioxide'),\n",
              " ('volatile acidity', 'density'),\n",
              " ('volatile acidity', 'pH'),\n",
              " ('volatile acidity', 'sulphates'),\n",
              " ('volatile acidity', 'alcohol'),\n",
              " ('volatile acidity', 'type'),\n",
              " ('volatile acidity', 'quality'),\n",
              " ('citric acid', 'residual sugar'),\n",
              " ('citric acid', 'chlorides'),\n",
              " ('citric acid', 'free sulfur dioxide'),\n",
              " ('citric acid', 'total sulfur dioxide'),\n",
              " ('citric acid', 'density'),\n",
              " ('citric acid', 'pH'),\n",
              " ('citric acid', 'sulphates'),\n",
              " ('citric acid', 'alcohol'),\n",
              " ('citric acid', 'type'),\n",
              " ('citric acid', 'quality'),\n",
              " ('residual sugar', 'chlorides'),\n",
              " ('residual sugar', 'free sulfur dioxide'),\n",
              " ('residual sugar', 'total sulfur dioxide'),\n",
              " ('residual sugar', 'density'),\n",
              " ('residual sugar', 'pH'),\n",
              " ('residual sugar', 'sulphates'),\n",
              " ('residual sugar', 'alcohol'),\n",
              " ('residual sugar', 'type'),\n",
              " ('residual sugar', 'quality'),\n",
              " ('chlorides', 'free sulfur dioxide'),\n",
              " ('chlorides', 'total sulfur dioxide'),\n",
              " ('chlorides', 'density'),\n",
              " ('chlorides', 'pH'),\n",
              " ('chlorides', 'sulphates'),\n",
              " ('chlorides', 'alcohol'),\n",
              " ('chlorides', 'type'),\n",
              " ('chlorides', 'quality'),\n",
              " ('free sulfur dioxide', 'total sulfur dioxide'),\n",
              " ('free sulfur dioxide', 'density'),\n",
              " ('free sulfur dioxide', 'pH'),\n",
              " ('free sulfur dioxide', 'sulphates'),\n",
              " ('free sulfur dioxide', 'alcohol'),\n",
              " ('free sulfur dioxide', 'type'),\n",
              " ('free sulfur dioxide', 'quality'),\n",
              " ('total sulfur dioxide', 'density'),\n",
              " ('total sulfur dioxide', 'pH'),\n",
              " ('total sulfur dioxide', 'sulphates'),\n",
              " ('total sulfur dioxide', 'alcohol'),\n",
              " ('total sulfur dioxide', 'type'),\n",
              " ('total sulfur dioxide', 'quality'),\n",
              " ('density', 'pH'),\n",
              " ('density', 'sulphates'),\n",
              " ('density', 'alcohol'),\n",
              " ('density', 'type'),\n",
              " ('density', 'quality'),\n",
              " ('pH', 'sulphates'),\n",
              " ('pH', 'alcohol'),\n",
              " ('pH', 'type'),\n",
              " ('pH', 'quality'),\n",
              " ('sulphates', 'alcohol'),\n",
              " ('sulphates', 'type'),\n",
              " ('sulphates', 'quality'),\n",
              " ('alcohol', 'type'),\n",
              " ('alcohol', 'quality'),\n",
              " ('type', 'quality')]"
            ]
          },
          "metadata": {},
          "execution_count": 137
        }
      ]
    },
    {
      "cell_type": "code",
      "metadata": {
        "id": "pDsbqlJ4Gkp7",
        "outputId": "88120c54-d11b-48e0-9fe0-c1bf8702df78",
        "colab": {
          "base_uri": "https://localhost:8080/",
          "height": 336
        }
      },
      "source": [
        "sns.kdeplot(data=pd_wine_data, x='fixed acidity', y='alcohol', hue='quality', cmap='Reds')\n",
        "#sns.scatterplot(data=pd_wine_data, x='fixed acidity', y='alcohol', hue='quality', color='red')\n",
        "#sns.histplot(data=pd_wine_data, x='fixed acidity', y='alcohol', bins=50, hue='quality', color='red')"
      ],
      "execution_count": 149,
      "outputs": [
        {
          "output_type": "stream",
          "name": "stderr",
          "text": [
            "/usr/local/lib/python3.7/dist-packages/seaborn/distributions.py:1163: UserWarning: cmap parameter ignored when using hue mapping.\n",
            "  warnings.warn(msg, UserWarning)\n"
          ]
        },
        {
          "output_type": "execute_result",
          "data": {
            "text/plain": [
              "<matplotlib.axes._subplots.AxesSubplot at 0x7fd2ad9e0710>"
            ]
          },
          "metadata": {},
          "execution_count": 149
        },
        {
          "output_type": "display_data",
          "data": {
            "image/png": "[encoded data removed]",
            "text/plain": [
              "<Figure size 432x288 with 1 Axes>"
            ]
          },
          "metadata": {}
        }
      ]
    },
    {
      "cell_type": "code",
      "metadata": {
        "id": "4vjcsJtMOOpl",
        "outputId": "ab2c5e1d-fd54-4e63-82a2-7691f43eaf86",
        "colab": {
          "base_uri": "https://localhost:8080/",
          "height": 300
        }
      },
      "source": [
        "sns.histplot(data=pd_wine_data, x='fixed acidity', y='citric acid', bins=50, hue='quality')"
      ],
      "execution_count": 139,
      "outputs": [
        {
          "output_type": "execute_result",
          "data": {
            "text/plain": [
              "<matplotlib.axes._subplots.AxesSubplot at 0x7fd2b40b2d50>"
            ]
          },
          "metadata": {},
          "execution_count": 139
        },
        {
          "output_type": "display_data",
          "data": {
            "image/png": "[encoded data removed]",
            "text/plain": [
              "<Figure size 432x288 with 1 Axes>"
            ]
          },
          "metadata": {}
        }
      ]
    },
    {
      "cell_type": "code",
      "metadata": {
        "id": "FWKfQpBhH_ry",
        "outputId": "73b79172-3828-4ed0-b558-4c24570c06eb",
        "colab": {
          "base_uri": "https://localhost:8080/",
          "height": 300
        }
      },
      "source": [
        "sns.histplot(data=pd_wine_data, x='type', y='fixed acidity', bins=50, hue='quality')"
      ],
      "execution_count": 127,
      "outputs": [
        {
          "output_type": "execute_result",
          "data": {
            "text/plain": [
              "<matplotlib.axes._subplots.AxesSubplot at 0x7fd2c7850d10>"
            ]
          },
          "metadata": {},
          "execution_count": 127
        },
        {
          "output_type": "display_data",
          "data": {
            "image/png": "[encoded data removed]",
            "text/plain": [
              "<Figure size 432x288 with 1 Axes>"
            ]
          },
          "metadata": {}
        }
      ]
    },
    {
      "cell_type": "code",
      "metadata": {
        "id": "rwL0Fu5CIRf-",
        "outputId": "e86e3ec8-a290-4b72-8823-4f020f3124c1",
        "colab": {
          "base_uri": "https://localhost:8080/",
          "height": 300
        }
      },
      "source": [
        "sns.histplot(data=pd_wine_data, x='pH', y='volatile acidity', bins=50, hue='quality')"
      ],
      "execution_count": 123,
      "outputs": [
        {
          "output_type": "execute_result",
          "data": {
            "text/plain": [
              "<matplotlib.axes._subplots.AxesSubplot at 0x7fd2c7fca610>"
            ]
          },
          "metadata": {},
          "execution_count": 123
        },
        {
          "output_type": "display_data",
          "data": {
            "image/png": "[encoded data removed]",
            "text/plain": [
              "<Figure size 432x288 with 1 Axes>"
            ]
          },
          "metadata": {}
        }
      ]
    }
  ]
}