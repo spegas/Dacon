{
  "nbformat": 4,
  "nbformat_minor": 0,
  "metadata": {
    "colab": {
      "name": "Get_Price_Data.ipynb",
      "provenance": [],
      "collapsed_sections": [],
      "authorship_tag": "ABX9TyPE0vzNG+CYphLwTKMbIiba",
      "include_colab_link": true
    },
    "kernelspec": {
      "name": "python3",
      "display_name": "Python 3"
    },
    "language_info": {
      "name": "python"
    }
  },
  "cells": [
    {
      "cell_type": "markdown",
      "metadata": {
        "id": "view-in-github",
        "colab_type": "text"
      },
      "source": [
        "<a href=\"https://colab.research.google.com/github/spegas/Dacon/blob/main/Get_Price_Data.ipynb\" target=\"_parent\"><img src=\"https://colab.research.google.com/assets/colab-badge.svg\" alt=\"Open In Colab\"/></a>"
      ]
    },
    {
      "cell_type": "code",
      "metadata": {
        "colab": {
          "base_uri": "https://localhost:8080/"
        },
        "id": "g3J3S1HAswgc",
        "outputId": "1a9a0fdf-84f7-4d71-bf1c-f9adf7788661"
      },
      "source": [
        "!pip install finance-datareader"
      ],
      "execution_count": 1,
      "outputs": [
        {
          "output_type": "stream",
          "name": "stdout",
          "text": [
            "Collecting finance-datareader\n",
            "  Downloading finance_datareader-0.9.31-py3-none-any.whl (17 kB)\n",
            "Collecting requests-file\n",
            "  Downloading requests_file-1.5.1-py2.py3-none-any.whl (3.7 kB)\n",
            "Requirement already satisfied: tqdm in /usr/local/lib/python3.7/dist-packages (from finance-datareader) (4.62.3)\n",
            "Requirement already satisfied: lxml in /usr/local/lib/python3.7/dist-packages (from finance-datareader) (4.2.6)\n",
            "Requirement already satisfied: requests>=2.3.0 in /usr/local/lib/python3.7/dist-packages (from finance-datareader) (2.23.0)\n",
            "Requirement already satisfied: pandas>=0.19.2 in /usr/local/lib/python3.7/dist-packages (from finance-datareader) (1.1.5)\n",
            "Requirement already satisfied: python-dateutil>=2.7.3 in /usr/local/lib/python3.7/dist-packages (from pandas>=0.19.2->finance-datareader) (2.8.2)\n",
            "Requirement already satisfied: numpy>=1.15.4 in /usr/local/lib/python3.7/dist-packages (from pandas>=0.19.2->finance-datareader) (1.19.5)\n",
            "Requirement already satisfied: pytz>=2017.2 in /usr/local/lib/python3.7/dist-packages (from pandas>=0.19.2->finance-datareader) (2018.9)\n",
            "Requirement already satisfied: six>=1.5 in /usr/local/lib/python3.7/dist-packages (from python-dateutil>=2.7.3->pandas>=0.19.2->finance-datareader) (1.15.0)\n",
            "Requirement already satisfied: idna<3,>=2.5 in /usr/local/lib/python3.7/dist-packages (from requests>=2.3.0->finance-datareader) (2.10)\n",
            "Requirement already satisfied: certifi>=2017.4.17 in /usr/local/lib/python3.7/dist-packages (from requests>=2.3.0->finance-datareader) (2021.10.8)\n",
            "Requirement already satisfied: urllib3!=1.25.0,!=1.25.1,<1.26,>=1.21.1 in /usr/local/lib/python3.7/dist-packages (from requests>=2.3.0->finance-datareader) (1.24.3)\n",
            "Requirement already satisfied: chardet<4,>=3.0.2 in /usr/local/lib/python3.7/dist-packages (from requests>=2.3.0->finance-datareader) (3.0.4)\n",
            "Installing collected packages: requests-file, finance-datareader\n",
            "Successfully installed finance-datareader-0.9.31 requests-file-1.5.1\n"
          ]
        }
      ]
    },
    {
      "cell_type": "code",
      "metadata": {
        "colab": {
          "base_uri": "https://localhost:8080/"
        },
        "id": "zDldBr3ttOwb",
        "outputId": "dddceb87-858a-45e6-9993-1bacedf4ed4e"
      },
      "source": [
        "!pip install wget"
      ],
      "execution_count": 2,
      "outputs": [
        {
          "output_type": "stream",
          "name": "stdout",
          "text": [
            "Collecting wget\n",
            "  Downloading wget-3.2.zip (10 kB)\n",
            "Building wheels for collected packages: wget\n",
            "  Building wheel for wget (setup.py) ... \u001b[?25l\u001b[?25hdone\n",
            "  Created wheel for wget: filename=wget-3.2-py3-none-any.whl size=9672 sha256=0aac2173c28b79e092605c1f3de19f892fa6b78d1fd1a7c2d53fbe7a04fe7ab3\n",
            "  Stored in directory: /root/.cache/pip/wheels/a1/b6/7c/0e63e34eb06634181c63adacca38b79ff8f35c37e3c13e3c02\n",
            "Successfully built wget\n",
            "Installing collected packages: wget\n",
            "Successfully installed wget-3.2\n"
          ]
        }
      ]
    },
    {
      "cell_type": "code",
      "metadata": {
        "id": "jRl1AiHstGQ5"
      },
      "source": [
        "import pandas as pd\n",
        "import numpy as np\n",
        "import os\n",
        "import FinanceDataReader as fdr\n",
        "import wget\n",
        "\n",
        "from zipfile import ZipFile\n",
        "from os.path import basename"
      ],
      "execution_count": 69,
      "outputs": []
    },
    {
      "cell_type": "code",
      "metadata": {
        "id": "DDcJu5upvpml"
      },
      "source": [
        "if not os.path.isdir(\"base\"):\n",
        "  print(\"base 디렉토리 생성\")\n",
        "  os.makedirs(\"base\")\n",
        "\n",
        "if not os.path.isdir(\"price\"):\n",
        "  print(\"price 디렉토리 생성\")\n",
        "  os.makedirs(\"price\")"
      ],
      "execution_count": 7,
      "outputs": []
    },
    {
      "cell_type": "code",
      "metadata": {
        "colab": {
          "base_uri": "https://localhost:8080/"
        },
        "id": "ZdtUujcrvwKA",
        "outputId": "820829b7-c2e6-4eea-b557-2bbcdc4f8047"
      },
      "source": [
        "stock_list_file_url = \"https://raw.githubusercontent.com/spegas/Dacon/main/stock_list.csv\"\n",
        "if os.path.exists('base/stock_list.csv'):\n",
        "  os.remove('base/stock_list.csv')\n",
        "  print('이전에 저장된 주식 종목 리스트 파일을 삭제 합니다.')\n",
        "wget.download(stock_list_file_url, 'base/stock_list.csv')\n",
        "print('주식 종목 리스트 파일 다운로드 완료')"
      ],
      "execution_count": 10,
      "outputs": [
        {
          "output_type": "stream",
          "name": "stdout",
          "text": [
            "주식 종목 리스트 파일 다운로드 완료\n"
          ]
        }
      ]
    },
    {
      "cell_type": "code",
      "metadata": {
        "id": "yTXwab-FwKxb"
      },
      "source": [
        "stock_list_name = 'base/stock_list.csv'\n",
        "pd_stock_list = pd.read_csv(stock_list_name)\n",
        "pd_stock_list['종목코드'] = pd_stock_list['종목코드'].apply(lambda x : str(x).zfill(6))\n",
        "pd_stock_list.head(10)"
      ],
      "execution_count": null,
      "outputs": []
    },
    {
      "cell_type": "code",
      "metadata": {
        "id": "XMPpBg6Mv0aY"
      },
      "source": [
        "start_date = '20200101'\n",
        "end_date = '20211031'"
      ],
      "execution_count": 14,
      "outputs": []
    },
    {
      "cell_type": "code",
      "metadata": {
        "id": "s2ZDm_E6v4wH"
      },
      "source": [
        "for f_index in range(0, pd_stock_list.shape[0]):\n",
        "  f_code = pd_stock_list.iloc[f_index]['종목코드']\n",
        "  f_name = pd_stock_list.iloc[f_index]['종목명']\n",
        "  price_filename = str('price/') + str(f_code) + str('_price.csv')\n",
        "  if not os.path.exists(price_filename):\n",
        "    f_price = fdr.DataReader(f_code, start = start_date, end = end_date)\n",
        "    f_price.to_csv(price_filename)\n",
        "    print('[종목코드 : %s, 종목명 : %s] 가격 정보 저장 완료' % (str(f_code), str(f_name)))\n",
        "  else:\n",
        "    print('[종목코드 : %s, 종목명 : %s] 가격 정보 파일 존재' % (str(f_code), str(f_name)))"
      ],
      "execution_count": null,
      "outputs": []
    },
    {
      "cell_type": "code",
      "metadata": {
        "id": "xSSO4jU-6WCd"
      },
      "source": [
        "# Zip the files from given directory that matches the filter\n",
        "def zipFilesInDir(dirName, zipFileName, filter):\n",
        "   # create a ZipFile object\n",
        "   with ZipFile(zipFileName, 'w') as zipObj:\n",
        "       # Iterate over all the files in directory\n",
        "       for folderName, subfolders, filenames in os.walk(dirName):\n",
        "           for filename in filenames:\n",
        "               if filter(filename):\n",
        "                   # create complete filepath of file in directory\n",
        "                   filePath = os.path.join(folderName, filename)\n",
        "                   # Add file to zip\n",
        "                   zipObj.write(filePath, basename(filePath))"
      ],
      "execution_count": 25,
      "outputs": []
    },
    {
      "cell_type": "code",
      "metadata": {
        "id": "1lfaKaW_6ZF9"
      },
      "source": [
        "zipFilesInDir('price', 'price.zip', lambda name : 'csv' in name)"
      ],
      "execution_count": 29,
      "outputs": []
    },
    {
      "cell_type": "code",
      "metadata": {
        "id": "c2puLLmGC4nh"
      },
      "source": [
        "pd_price = pd.read_csv('price/005830_price.csv')"
      ],
      "execution_count": 143,
      "outputs": []
    },
    {
      "cell_type": "code",
      "metadata": {
        "colab": {
          "base_uri": "https://localhost:8080/",
          "height": 424
        },
        "id": "DPJSzVPaDMys",
        "outputId": "20c22143-ff1d-4ee3-8554-a0ed91da02d1"
      },
      "source": [
        "pd_price"
      ],
      "execution_count": 144,
      "outputs": [
        {
          "output_type": "execute_result",
          "data": {
            "text/html": [
              "<div>\n",
              "<style scoped>\n",
              "    .dataframe tbody tr th:only-of-type {\n",
              "        vertical-align: middle;\n",
              "    }\n",
              "\n",
              "    .dataframe tbody tr th {\n",
              "        vertical-align: top;\n",
              "    }\n",
              "\n",
              "    .dataframe thead th {\n",
              "        text-align: right;\n",
              "    }\n",
              "</style>\n",
              "<table border=\"1\" class=\"dataframe\">\n",
              "  <thead>\n",
              "    <tr style=\"text-align: right;\">\n",
              "      <th></th>\n",
              "      <th>Date</th>\n",
              "      <th>Open</th>\n",
              "      <th>High</th>\n",
              "      <th>Low</th>\n",
              "      <th>Close</th>\n",
              "      <th>Volume</th>\n",
              "      <th>Change</th>\n",
              "    </tr>\n",
              "  </thead>\n",
              "  <tbody>\n",
              "    <tr>\n",
              "      <th>0</th>\n",
              "      <td>2020-01-02</td>\n",
              "      <td>52400</td>\n",
              "      <td>52600</td>\n",
              "      <td>50000</td>\n",
              "      <td>50100</td>\n",
              "      <td>194505</td>\n",
              "      <td>-0.042065</td>\n",
              "    </tr>\n",
              "    <tr>\n",
              "      <th>1</th>\n",
              "      <td>2020-01-03</td>\n",
              "      <td>50500</td>\n",
              "      <td>51300</td>\n",
              "      <td>50100</td>\n",
              "      <td>50800</td>\n",
              "      <td>246721</td>\n",
              "      <td>0.013972</td>\n",
              "    </tr>\n",
              "    <tr>\n",
              "      <th>2</th>\n",
              "      <td>2020-01-06</td>\n",
              "      <td>50800</td>\n",
              "      <td>50800</td>\n",
              "      <td>49900</td>\n",
              "      <td>50200</td>\n",
              "      <td>142825</td>\n",
              "      <td>-0.011811</td>\n",
              "    </tr>\n",
              "    <tr>\n",
              "      <th>3</th>\n",
              "      <td>2020-01-07</td>\n",
              "      <td>50500</td>\n",
              "      <td>50500</td>\n",
              "      <td>49450</td>\n",
              "      <td>49750</td>\n",
              "      <td>192139</td>\n",
              "      <td>-0.008964</td>\n",
              "    </tr>\n",
              "    <tr>\n",
              "      <th>4</th>\n",
              "      <td>2020-01-08</td>\n",
              "      <td>49250</td>\n",
              "      <td>49300</td>\n",
              "      <td>47950</td>\n",
              "      <td>48550</td>\n",
              "      <td>211203</td>\n",
              "      <td>-0.024121</td>\n",
              "    </tr>\n",
              "    <tr>\n",
              "      <th>...</th>\n",
              "      <td>...</td>\n",
              "      <td>...</td>\n",
              "      <td>...</td>\n",
              "      <td>...</td>\n",
              "      <td>...</td>\n",
              "      <td>...</td>\n",
              "      <td>...</td>\n",
              "    </tr>\n",
              "    <tr>\n",
              "      <th>447</th>\n",
              "      <td>2021-10-25</td>\n",
              "      <td>66000</td>\n",
              "      <td>66900</td>\n",
              "      <td>65600</td>\n",
              "      <td>66400</td>\n",
              "      <td>75686</td>\n",
              "      <td>0.004539</td>\n",
              "    </tr>\n",
              "    <tr>\n",
              "      <th>448</th>\n",
              "      <td>2021-10-26</td>\n",
              "      <td>67100</td>\n",
              "      <td>67100</td>\n",
              "      <td>65400</td>\n",
              "      <td>66000</td>\n",
              "      <td>82375</td>\n",
              "      <td>-0.006024</td>\n",
              "    </tr>\n",
              "    <tr>\n",
              "      <th>449</th>\n",
              "      <td>2021-10-27</td>\n",
              "      <td>65700</td>\n",
              "      <td>65900</td>\n",
              "      <td>64400</td>\n",
              "      <td>65300</td>\n",
              "      <td>116769</td>\n",
              "      <td>-0.010606</td>\n",
              "    </tr>\n",
              "    <tr>\n",
              "      <th>450</th>\n",
              "      <td>2021-10-28</td>\n",
              "      <td>64900</td>\n",
              "      <td>65000</td>\n",
              "      <td>60600</td>\n",
              "      <td>60800</td>\n",
              "      <td>282584</td>\n",
              "      <td>-0.068913</td>\n",
              "    </tr>\n",
              "    <tr>\n",
              "      <th>451</th>\n",
              "      <td>2021-10-29</td>\n",
              "      <td>60700</td>\n",
              "      <td>61500</td>\n",
              "      <td>58400</td>\n",
              "      <td>59200</td>\n",
              "      <td>302475</td>\n",
              "      <td>-0.026316</td>\n",
              "    </tr>\n",
              "  </tbody>\n",
              "</table>\n",
              "<p>452 rows × 7 columns</p>\n",
              "</div>"
            ],
            "text/plain": [
              "           Date   Open   High    Low  Close  Volume    Change\n",
              "0    2020-01-02  52400  52600  50000  50100  194505 -0.042065\n",
              "1    2020-01-03  50500  51300  50100  50800  246721  0.013972\n",
              "2    2020-01-06  50800  50800  49900  50200  142825 -0.011811\n",
              "3    2020-01-07  50500  50500  49450  49750  192139 -0.008964\n",
              "4    2020-01-08  49250  49300  47950  48550  211203 -0.024121\n",
              "..          ...    ...    ...    ...    ...     ...       ...\n",
              "447  2021-10-25  66000  66900  65600  66400   75686  0.004539\n",
              "448  2021-10-26  67100  67100  65400  66000   82375 -0.006024\n",
              "449  2021-10-27  65700  65900  64400  65300  116769 -0.010606\n",
              "450  2021-10-28  64900  65000  60600  60800  282584 -0.068913\n",
              "451  2021-10-29  60700  61500  58400  59200  302475 -0.026316\n",
              "\n",
              "[452 rows x 7 columns]"
            ]
          },
          "metadata": {},
          "execution_count": 144
        }
      ]
    },
    {
      "cell_type": "code",
      "metadata": {
        "id": "np1ydmhGDPC8"
      },
      "source": [
        "# create 20 days simple moving average column\n",
        "pd_price['20_SMA'] = pd_price['Close'].rolling(window = 20, min_periods = 1).mean()\n",
        "pd_price['50_SMA'] = pd_price['Close'].rolling(window = 50, min_periods = 1).mean()"
      ],
      "execution_count": 145,
      "outputs": []
    },
    {
      "cell_type": "markdown",
      "metadata": {
        "id": "0M221OiLEQW-"
      },
      "source": [
        ""
      ]
    },
    {
      "cell_type": "code",
      "metadata": {
        "id": "6XWoUEidDcNL"
      },
      "source": [
        "pd_price['20_EMA'] = round(pd_price['Close'].ewm(span = 20, adjust = False).mean(), 2)\n",
        "pd_price['50_EMA'] = round(pd_price['Close'].ewm(span = 50, adjust = False).mean(), 2)"
      ],
      "execution_count": 146,
      "outputs": []
    },
    {
      "cell_type": "code",
      "metadata": {
        "colab": {
          "base_uri": "https://localhost:8080/",
          "height": 424
        },
        "id": "Z6XY5xvkEFsq",
        "outputId": "1b5ef40c-b35b-4737-8a8e-2045837de1f3"
      },
      "source": [
        "pd_price"
      ],
      "execution_count": 147,
      "outputs": [
        {
          "output_type": "execute_result",
          "data": {
            "text/html": [
              "<div>\n",
              "<style scoped>\n",
              "    .dataframe tbody tr th:only-of-type {\n",
              "        vertical-align: middle;\n",
              "    }\n",
              "\n",
              "    .dataframe tbody tr th {\n",
              "        vertical-align: top;\n",
              "    }\n",
              "\n",
              "    .dataframe thead th {\n",
              "        text-align: right;\n",
              "    }\n",
              "</style>\n",
              "<table border=\"1\" class=\"dataframe\">\n",
              "  <thead>\n",
              "    <tr style=\"text-align: right;\">\n",
              "      <th></th>\n",
              "      <th>Date</th>\n",
              "      <th>Open</th>\n",
              "      <th>High</th>\n",
              "      <th>Low</th>\n",
              "      <th>Close</th>\n",
              "      <th>Volume</th>\n",
              "      <th>Change</th>\n",
              "      <th>20_SMA</th>\n",
              "      <th>50_SMA</th>\n",
              "      <th>20_EMA</th>\n",
              "      <th>50_EMA</th>\n",
              "    </tr>\n",
              "  </thead>\n",
              "  <tbody>\n",
              "    <tr>\n",
              "      <th>0</th>\n",
              "      <td>2020-01-02</td>\n",
              "      <td>52400</td>\n",
              "      <td>52600</td>\n",
              "      <td>50000</td>\n",
              "      <td>50100</td>\n",
              "      <td>194505</td>\n",
              "      <td>-0.042065</td>\n",
              "      <td>50100.000000</td>\n",
              "      <td>50100.000000</td>\n",
              "      <td>50100.00</td>\n",
              "      <td>50100.00</td>\n",
              "    </tr>\n",
              "    <tr>\n",
              "      <th>1</th>\n",
              "      <td>2020-01-03</td>\n",
              "      <td>50500</td>\n",
              "      <td>51300</td>\n",
              "      <td>50100</td>\n",
              "      <td>50800</td>\n",
              "      <td>246721</td>\n",
              "      <td>0.013972</td>\n",
              "      <td>50450.000000</td>\n",
              "      <td>50450.000000</td>\n",
              "      <td>50166.67</td>\n",
              "      <td>50127.45</td>\n",
              "    </tr>\n",
              "    <tr>\n",
              "      <th>2</th>\n",
              "      <td>2020-01-06</td>\n",
              "      <td>50800</td>\n",
              "      <td>50800</td>\n",
              "      <td>49900</td>\n",
              "      <td>50200</td>\n",
              "      <td>142825</td>\n",
              "      <td>-0.011811</td>\n",
              "      <td>50366.666667</td>\n",
              "      <td>50366.666667</td>\n",
              "      <td>50169.84</td>\n",
              "      <td>50130.30</td>\n",
              "    </tr>\n",
              "    <tr>\n",
              "      <th>3</th>\n",
              "      <td>2020-01-07</td>\n",
              "      <td>50500</td>\n",
              "      <td>50500</td>\n",
              "      <td>49450</td>\n",
              "      <td>49750</td>\n",
              "      <td>192139</td>\n",
              "      <td>-0.008964</td>\n",
              "      <td>50212.500000</td>\n",
              "      <td>50212.500000</td>\n",
              "      <td>50129.86</td>\n",
              "      <td>50115.38</td>\n",
              "    </tr>\n",
              "    <tr>\n",
              "      <th>4</th>\n",
              "      <td>2020-01-08</td>\n",
              "      <td>49250</td>\n",
              "      <td>49300</td>\n",
              "      <td>47950</td>\n",
              "      <td>48550</td>\n",
              "      <td>211203</td>\n",
              "      <td>-0.024121</td>\n",
              "      <td>49880.000000</td>\n",
              "      <td>49880.000000</td>\n",
              "      <td>49979.39</td>\n",
              "      <td>50053.99</td>\n",
              "    </tr>\n",
              "    <tr>\n",
              "      <th>...</th>\n",
              "      <td>...</td>\n",
              "      <td>...</td>\n",
              "      <td>...</td>\n",
              "      <td>...</td>\n",
              "      <td>...</td>\n",
              "      <td>...</td>\n",
              "      <td>...</td>\n",
              "      <td>...</td>\n",
              "      <td>...</td>\n",
              "      <td>...</td>\n",
              "      <td>...</td>\n",
              "    </tr>\n",
              "    <tr>\n",
              "      <th>447</th>\n",
              "      <td>2021-10-25</td>\n",
              "      <td>66000</td>\n",
              "      <td>66900</td>\n",
              "      <td>65600</td>\n",
              "      <td>66400</td>\n",
              "      <td>75686</td>\n",
              "      <td>0.004539</td>\n",
              "      <td>65025.000000</td>\n",
              "      <td>61806.000000</td>\n",
              "      <td>64848.80</td>\n",
              "      <td>62111.20</td>\n",
              "    </tr>\n",
              "    <tr>\n",
              "      <th>448</th>\n",
              "      <td>2021-10-26</td>\n",
              "      <td>67100</td>\n",
              "      <td>67100</td>\n",
              "      <td>65400</td>\n",
              "      <td>66000</td>\n",
              "      <td>82375</td>\n",
              "      <td>-0.006024</td>\n",
              "      <td>65190.000000</td>\n",
              "      <td>61970.000000</td>\n",
              "      <td>64958.43</td>\n",
              "      <td>62263.70</td>\n",
              "    </tr>\n",
              "    <tr>\n",
              "      <th>449</th>\n",
              "      <td>2021-10-27</td>\n",
              "      <td>65700</td>\n",
              "      <td>65900</td>\n",
              "      <td>64400</td>\n",
              "      <td>65300</td>\n",
              "      <td>116769</td>\n",
              "      <td>-0.010606</td>\n",
              "      <td>65325.000000</td>\n",
              "      <td>62134.000000</td>\n",
              "      <td>64990.96</td>\n",
              "      <td>62382.78</td>\n",
              "    </tr>\n",
              "    <tr>\n",
              "      <th>450</th>\n",
              "      <td>2021-10-28</td>\n",
              "      <td>64900</td>\n",
              "      <td>65000</td>\n",
              "      <td>60600</td>\n",
              "      <td>60800</td>\n",
              "      <td>282584</td>\n",
              "      <td>-0.068913</td>\n",
              "      <td>65120.000000</td>\n",
              "      <td>62184.000000</td>\n",
              "      <td>64591.82</td>\n",
              "      <td>62320.71</td>\n",
              "    </tr>\n",
              "    <tr>\n",
              "      <th>451</th>\n",
              "      <td>2021-10-29</td>\n",
              "      <td>60700</td>\n",
              "      <td>61500</td>\n",
              "      <td>58400</td>\n",
              "      <td>59200</td>\n",
              "      <td>302475</td>\n",
              "      <td>-0.026316</td>\n",
              "      <td>64965.000000</td>\n",
              "      <td>62208.000000</td>\n",
              "      <td>64078.32</td>\n",
              "      <td>62198.33</td>\n",
              "    </tr>\n",
              "  </tbody>\n",
              "</table>\n",
              "<p>452 rows × 11 columns</p>\n",
              "</div>"
            ],
            "text/plain": [
              "           Date   Open   High  ...        50_SMA    20_EMA    50_EMA\n",
              "0    2020-01-02  52400  52600  ...  50100.000000  50100.00  50100.00\n",
              "1    2020-01-03  50500  51300  ...  50450.000000  50166.67  50127.45\n",
              "2    2020-01-06  50800  50800  ...  50366.666667  50169.84  50130.30\n",
              "3    2020-01-07  50500  50500  ...  50212.500000  50129.86  50115.38\n",
              "4    2020-01-08  49250  49300  ...  49880.000000  49979.39  50053.99\n",
              "..          ...    ...    ...  ...           ...       ...       ...\n",
              "447  2021-10-25  66000  66900  ...  61806.000000  64848.80  62111.20\n",
              "448  2021-10-26  67100  67100  ...  61970.000000  64958.43  62263.70\n",
              "449  2021-10-27  65700  65900  ...  62134.000000  64990.96  62382.78\n",
              "450  2021-10-28  64900  65000  ...  62184.000000  64591.82  62320.71\n",
              "451  2021-10-29  60700  61500  ...  62208.000000  64078.32  62198.33\n",
              "\n",
              "[452 rows x 11 columns]"
            ]
          },
          "metadata": {},
          "execution_count": 147
        }
      ]
    },
    {
      "cell_type": "code",
      "metadata": {
        "colab": {
          "base_uri": "https://localhost:8080/",
          "height": 363
        },
        "id": "W3bjvx5rEH07",
        "outputId": "90409d14-96a6-42ab-e335-f1d0ce16b90a"
      },
      "source": [
        "pd_price.corr()"
      ],
      "execution_count": 148,
      "outputs": [
        {
          "output_type": "execute_result",
          "data": {
            "text/html": [
              "<div>\n",
              "<style scoped>\n",
              "    .dataframe tbody tr th:only-of-type {\n",
              "        vertical-align: middle;\n",
              "    }\n",
              "\n",
              "    .dataframe tbody tr th {\n",
              "        vertical-align: top;\n",
              "    }\n",
              "\n",
              "    .dataframe thead th {\n",
              "        text-align: right;\n",
              "    }\n",
              "</style>\n",
              "<table border=\"1\" class=\"dataframe\">\n",
              "  <thead>\n",
              "    <tr style=\"text-align: right;\">\n",
              "      <th></th>\n",
              "      <th>Open</th>\n",
              "      <th>High</th>\n",
              "      <th>Low</th>\n",
              "      <th>Close</th>\n",
              "      <th>Volume</th>\n",
              "      <th>Change</th>\n",
              "      <th>20_SMA</th>\n",
              "      <th>50_SMA</th>\n",
              "      <th>20_EMA</th>\n",
              "      <th>50_EMA</th>\n",
              "    </tr>\n",
              "  </thead>\n",
              "  <tbody>\n",
              "    <tr>\n",
              "      <th>Open</th>\n",
              "      <td>1.000000</td>\n",
              "      <td>0.994792</td>\n",
              "      <td>0.995971</td>\n",
              "      <td>0.990030</td>\n",
              "      <td>-0.487829</td>\n",
              "      <td>-0.046606</td>\n",
              "      <td>0.941300</td>\n",
              "      <td>0.842325</td>\n",
              "      <td>0.960179</td>\n",
              "      <td>0.897233</td>\n",
              "    </tr>\n",
              "    <tr>\n",
              "      <th>High</th>\n",
              "      <td>0.994792</td>\n",
              "      <td>1.000000</td>\n",
              "      <td>0.994160</td>\n",
              "      <td>0.995576</td>\n",
              "      <td>-0.458572</td>\n",
              "      <td>0.020093</td>\n",
              "      <td>0.938323</td>\n",
              "      <td>0.842136</td>\n",
              "      <td>0.957781</td>\n",
              "      <td>0.896339</td>\n",
              "    </tr>\n",
              "    <tr>\n",
              "      <th>Low</th>\n",
              "      <td>0.995971</td>\n",
              "      <td>0.994160</td>\n",
              "      <td>1.000000</td>\n",
              "      <td>0.995834</td>\n",
              "      <td>-0.511856</td>\n",
              "      <td>0.007130</td>\n",
              "      <td>0.939727</td>\n",
              "      <td>0.840776</td>\n",
              "      <td>0.959067</td>\n",
              "      <td>0.894939</td>\n",
              "    </tr>\n",
              "    <tr>\n",
              "      <th>Close</th>\n",
              "      <td>0.990030</td>\n",
              "      <td>0.995576</td>\n",
              "      <td>0.995834</td>\n",
              "      <td>1.000000</td>\n",
              "      <td>-0.485917</td>\n",
              "      <td>0.073626</td>\n",
              "      <td>0.934374</td>\n",
              "      <td>0.836900</td>\n",
              "      <td>0.954169</td>\n",
              "      <td>0.890590</td>\n",
              "    </tr>\n",
              "    <tr>\n",
              "      <th>Volume</th>\n",
              "      <td>-0.487829</td>\n",
              "      <td>-0.458572</td>\n",
              "      <td>-0.511856</td>\n",
              "      <td>-0.485917</td>\n",
              "      <td>1.000000</td>\n",
              "      <td>0.050780</td>\n",
              "      <td>-0.454384</td>\n",
              "      <td>-0.405544</td>\n",
              "      <td>-0.466941</td>\n",
              "      <td>-0.416713</td>\n",
              "    </tr>\n",
              "    <tr>\n",
              "      <th>Change</th>\n",
              "      <td>-0.046606</td>\n",
              "      <td>0.020093</td>\n",
              "      <td>0.007130</td>\n",
              "      <td>0.073626</td>\n",
              "      <td>0.050780</td>\n",
              "      <td>1.000000</td>\n",
              "      <td>-0.071877</td>\n",
              "      <td>-0.069756</td>\n",
              "      <td>-0.063835</td>\n",
              "      <td>-0.074470</td>\n",
              "    </tr>\n",
              "    <tr>\n",
              "      <th>20_SMA</th>\n",
              "      <td>0.941300</td>\n",
              "      <td>0.938323</td>\n",
              "      <td>0.939727</td>\n",
              "      <td>0.934374</td>\n",
              "      <td>-0.454384</td>\n",
              "      <td>-0.071877</td>\n",
              "      <td>1.000000</td>\n",
              "      <td>0.932991</td>\n",
              "      <td>0.996159</td>\n",
              "      <td>0.972104</td>\n",
              "    </tr>\n",
              "    <tr>\n",
              "      <th>50_SMA</th>\n",
              "      <td>0.842325</td>\n",
              "      <td>0.842136</td>\n",
              "      <td>0.840776</td>\n",
              "      <td>0.836900</td>\n",
              "      <td>-0.405544</td>\n",
              "      <td>-0.069756</td>\n",
              "      <td>0.932991</td>\n",
              "      <td>1.000000</td>\n",
              "      <td>0.935392</td>\n",
              "      <td>0.984858</td>\n",
              "    </tr>\n",
              "    <tr>\n",
              "      <th>20_EMA</th>\n",
              "      <td>0.960179</td>\n",
              "      <td>0.957781</td>\n",
              "      <td>0.959067</td>\n",
              "      <td>0.954169</td>\n",
              "      <td>-0.466941</td>\n",
              "      <td>-0.063835</td>\n",
              "      <td>0.996159</td>\n",
              "      <td>0.935392</td>\n",
              "      <td>1.000000</td>\n",
              "      <td>0.974114</td>\n",
              "    </tr>\n",
              "    <tr>\n",
              "      <th>50_EMA</th>\n",
              "      <td>0.897233</td>\n",
              "      <td>0.896339</td>\n",
              "      <td>0.894939</td>\n",
              "      <td>0.890590</td>\n",
              "      <td>-0.416713</td>\n",
              "      <td>-0.074470</td>\n",
              "      <td>0.972104</td>\n",
              "      <td>0.984858</td>\n",
              "      <td>0.974114</td>\n",
              "      <td>1.000000</td>\n",
              "    </tr>\n",
              "  </tbody>\n",
              "</table>\n",
              "</div>"
            ],
            "text/plain": [
              "            Open      High       Low  ...    50_SMA    20_EMA    50_EMA\n",
              "Open    1.000000  0.994792  0.995971  ...  0.842325  0.960179  0.897233\n",
              "High    0.994792  1.000000  0.994160  ...  0.842136  0.957781  0.896339\n",
              "Low     0.995971  0.994160  1.000000  ...  0.840776  0.959067  0.894939\n",
              "Close   0.990030  0.995576  0.995834  ...  0.836900  0.954169  0.890590\n",
              "Volume -0.487829 -0.458572 -0.511856  ... -0.405544 -0.466941 -0.416713\n",
              "Change -0.046606  0.020093  0.007130  ... -0.069756 -0.063835 -0.074470\n",
              "20_SMA  0.941300  0.938323  0.939727  ...  0.932991  0.996159  0.972104\n",
              "50_SMA  0.842325  0.842136  0.840776  ...  1.000000  0.935392  0.984858\n",
              "20_EMA  0.960179  0.957781  0.959067  ...  0.935392  1.000000  0.974114\n",
              "50_EMA  0.897233  0.896339  0.894939  ...  0.984858  0.974114  1.000000\n",
              "\n",
              "[10 rows x 10 columns]"
            ]
          },
          "metadata": {},
          "execution_count": 148
        }
      ]
    },
    {
      "cell_type": "code",
      "metadata": {
        "id": "U4DChqkYEX-t"
      },
      "source": [
        "from sklearn.preprocessing import MinMaxScaler"
      ],
      "execution_count": 149,
      "outputs": []
    },
    {
      "cell_type": "code",
      "metadata": {
        "colab": {
          "base_uri": "https://localhost:8080/"
        },
        "id": "wyDdgNJlKBhO",
        "outputId": "f0646629-fd9c-4d42-8315-3aa8f66218c5"
      },
      "source": [
        "scaler = MinMaxScaler()\n",
        "scale_cols = ['Open', 'High', 'Low', 'Close', 'Volume', '20_SMA', '50_EMA', '20_EMA', '50_EMA']\n",
        "df_scaled = scaler.fit_transform(pd_price[scale_cols])\n",
        "\n",
        "pd_scaled_price = pd.DataFrame(df_scaled)\n",
        "pd_scaled_price.columns = scale_cols\n",
        "\n",
        "print(pd_scaled_price)"
      ],
      "execution_count": 150,
      "outputs": [
        {
          "output_type": "stream",
          "name": "stdout",
          "text": [
            "         Open      High       Low  ...    50_EMA    20_EMA    50_EMA\n",
            "0    0.653710  0.616867  0.621302  ...  0.512864  0.535152  0.512864\n",
            "1    0.608952  0.585542  0.623669  ...  0.513953  0.537233  0.513953\n",
            "2    0.616019  0.573494  0.618935  ...  0.514066  0.537332  0.514066\n",
            "3    0.608952  0.566265  0.608284  ...  0.513474  0.536084  0.513474\n",
            "4    0.579505  0.537349  0.572781  ...  0.511039  0.531387  0.511039\n",
            "..        ...       ...       ...  ...       ...       ...       ...\n",
            "447  0.974087  0.961446  0.990533  ...  0.989229  0.995562  0.989229\n",
            "448  1.000000  0.966265  0.985799  ...  0.995277  0.998985  0.995277\n",
            "449  0.967020  0.937349  0.962130  ...  1.000000  1.000000  1.000000\n",
            "450  0.948174  0.915663  0.872189  ...  0.997538  0.987540  0.997538\n",
            "451  0.849234  0.831325  0.820118  ...  0.992685  0.971510  0.992685\n",
            "\n",
            "[452 rows x 9 columns]\n"
          ]
        }
      ]
    },
    {
      "cell_type": "code",
      "metadata": {
        "colab": {
          "base_uri": "https://localhost:8080/"
        },
        "id": "1eZwDvNWK4xY",
        "outputId": "2bad8054-9956-4d52-c770-1a22b938803a"
      },
      "source": [
        "pd_scaled_price.shape"
      ],
      "execution_count": 151,
      "outputs": [
        {
          "output_type": "execute_result",
          "data": {
            "text/plain": [
              "(452, 9)"
            ]
          },
          "metadata": {},
          "execution_count": 151
        }
      ]
    },
    {
      "cell_type": "code",
      "metadata": {
        "id": "8dFPqZ1-K_ex"
      },
      "source": [
        "def make_dataset(data, label, window_size=20):\n",
        "    feature_list = []\n",
        "    label_list = []\n",
        "    for i in range(len(data) - window_size):\n",
        "        feature_list.append(np.array(data.iloc[i:i+window_size]))\n",
        "        label_list.append(np.array(label.iloc[i+window_size]))\n",
        "    return np.array(feature_list), np.array(label_list)\n"
      ],
      "execution_count": 152,
      "outputs": []
    },
    {
      "cell_type": "code",
      "metadata": {
        "id": "RyPJhA3AK1fn"
      },
      "source": [
        "TEST_SIZE = 350"
      ],
      "execution_count": 153,
      "outputs": []
    },
    {
      "cell_type": "code",
      "metadata": {
        "id": "mt34q9tFKp1Z"
      },
      "source": [
        "train = pd_scaled_price[:TEST_SIZE]\n",
        "test = pd_scaled_price[TEST_SIZE:]"
      ],
      "execution_count": 154,
      "outputs": []
    },
    {
      "cell_type": "code",
      "metadata": {
        "colab": {
          "base_uri": "https://localhost:8080/"
        },
        "id": "tTRbJxR5K__F",
        "outputId": "b0abe7f5-ef27-4d7e-d5fa-0ebb66090e48"
      },
      "source": [
        "feature_cols = ['Open', 'High', 'Low', 'Volume', '20_SMA', '50_EMA', '20_EMA', '50_EMA']\n",
        "label_cols = ['Close']\n",
        "\n",
        "train_feature = train[feature_cols]\n",
        "train_label = train[label_cols]\n",
        "\n",
        "# train dataset\n",
        "train_feature, train_label = make_dataset(train_feature, train_label, 20)\n",
        "\n",
        "# train, validation set 생성\n",
        "from sklearn.model_selection import train_test_split\n",
        "x_train, x_valid, y_train, y_valid = train_test_split(train_feature, train_label, test_size=0.2)\n",
        "\n",
        "print(x_train.shape, x_valid.shape)\n",
        "# ((6086, 20, 4), (1522, 20, 4))\n",
        "\n",
        "test_feature = test[feature_cols]\n",
        "test_label = test[label_cols]\n",
        "\n",
        "# test dataset (실제 예측 해볼 데이터)\n",
        "test_feature, test_label = make_dataset(test_feature, test_label, 20)\n",
        "\n",
        "print(test_feature.shape, test_label.shape)\n",
        "# ((180, 20, 4), (180, 1))"
      ],
      "execution_count": 155,
      "outputs": [
        {
          "output_type": "stream",
          "name": "stdout",
          "text": [
            "(264, 20, 10) (66, 20, 10)\n",
            "(82, 20, 10) (82, 1)\n"
          ]
        }
      ]
    },
    {
      "cell_type": "code",
      "metadata": {
        "id": "GBLtiaNXLNCw"
      },
      "source": [
        "from keras.models import Sequential\n",
        "from keras.layers import Dense\n",
        "from keras.callbacks import EarlyStopping, ModelCheckpoint\n",
        "from keras.layers import LSTM\n",
        "\n",
        "model = Sequential()\n",
        "model.add(LSTM(30, \n",
        "               input_shape=(train_feature.shape[1], train_feature.shape[2]), \n",
        "               activation='relu', \n",
        "               return_sequences=False)\n",
        "          )\n",
        "model.add(Dense(10))\n",
        "model.add(Dense(1))"
      ],
      "execution_count": 156,
      "outputs": []
    },
    {
      "cell_type": "code",
      "metadata": {
        "colab": {
          "base_uri": "https://localhost:8080/"
        },
        "id": "OBzOEktDM9Lj",
        "outputId": "017f693b-8729-4b62-a070-ddef23fc5f2e"
      },
      "source": [
        "model.compile(loss='mean_squared_error', optimizer='adam')\n",
        "early_stop = EarlyStopping(monitor='val_loss', patience=10)\n",
        "filename = os.path.join('result/', 'tmp_checkpoint.h5')\n",
        "checkpoint = ModelCheckpoint(filename, monitor='val_loss', verbose=1, save_best_only=True, mode='auto')\n",
        "\n",
        "history = model.fit(x_train, y_train,\n",
        "                    epochs=200, \n",
        "                    batch_size=16,\n",
        "                    validation_data=(x_valid, y_valid), \n",
        "                    callbacks=[early_stop, checkpoint])"
      ],
      "execution_count": 157,
      "outputs": [
        {
          "output_type": "stream",
          "name": "stdout",
          "text": [
            "Epoch 1/200\n",
            "15/17 [=========================>....] - ETA: 0s - loss: 0.0853\n",
            "Epoch 00001: val_loss improved from inf to 0.00459, saving model to result/tmp_checkpoint.h5\n",
            "17/17 [==============================] - 2s 24ms/step - loss: 0.0778 - val_loss: 0.0046\n",
            "Epoch 2/200\n",
            "13/17 [=====================>........] - ETA: 0s - loss: 0.0101\n",
            "Epoch 00002: val_loss improved from 0.00459 to 0.00232, saving model to result/tmp_checkpoint.h5\n",
            "17/17 [==============================] - 0s 12ms/step - loss: 0.0088 - val_loss: 0.0023\n",
            "Epoch 3/200\n",
            "12/17 [====================>.........] - ETA: 0s - loss: 0.0055\n",
            "Epoch 00003: val_loss improved from 0.00232 to 0.00212, saving model to result/tmp_checkpoint.h5\n",
            "17/17 [==============================] - 0s 13ms/step - loss: 0.0050 - val_loss: 0.0021\n",
            "Epoch 4/200\n",
            "13/17 [=====================>........] - ETA: 0s - loss: 0.0042\n",
            "Epoch 00004: val_loss improved from 0.00212 to 0.00190, saving model to result/tmp_checkpoint.h5\n",
            "17/17 [==============================] - 0s 13ms/step - loss: 0.0043 - val_loss: 0.0019\n",
            "Epoch 5/200\n",
            "14/17 [=======================>......] - ETA: 0s - loss: 0.0041\n",
            "Epoch 00005: val_loss improved from 0.00190 to 0.00157, saving model to result/tmp_checkpoint.h5\n",
            "17/17 [==============================] - 0s 12ms/step - loss: 0.0039 - val_loss: 0.0016\n",
            "Epoch 6/200\n",
            "13/17 [=====================>........] - ETA: 0s - loss: 0.0028\n",
            "Epoch 00006: val_loss improved from 0.00157 to 0.00138, saving model to result/tmp_checkpoint.h5\n",
            "17/17 [==============================] - 0s 13ms/step - loss: 0.0027 - val_loss: 0.0014\n",
            "Epoch 7/200\n",
            "13/17 [=====================>........] - ETA: 0s - loss: 0.0020\n",
            "Epoch 00007: val_loss improved from 0.00138 to 0.00128, saving model to result/tmp_checkpoint.h5\n",
            "17/17 [==============================] - 0s 12ms/step - loss: 0.0020 - val_loss: 0.0013\n",
            "Epoch 8/200\n",
            "15/17 [=========================>....] - ETA: 0s - loss: 0.0018\n",
            "Epoch 00008: val_loss did not improve from 0.00128\n",
            "17/17 [==============================] - 0s 11ms/step - loss: 0.0018 - val_loss: 0.0015\n",
            "Epoch 9/200\n",
            "13/17 [=====================>........] - ETA: 0s - loss: 0.0017\n",
            "Epoch 00009: val_loss did not improve from 0.00128\n",
            "17/17 [==============================] - 0s 11ms/step - loss: 0.0017 - val_loss: 0.0013\n",
            "Epoch 10/200\n",
            "14/17 [=======================>......] - ETA: 0s - loss: 0.0017\n",
            "Epoch 00010: val_loss improved from 0.00128 to 0.00112, saving model to result/tmp_checkpoint.h5\n",
            "17/17 [==============================] - 0s 12ms/step - loss: 0.0015 - val_loss: 0.0011\n",
            "Epoch 11/200\n",
            "15/17 [=========================>....] - ETA: 0s - loss: 0.0014\n",
            "Epoch 00011: val_loss improved from 0.00112 to 0.00109, saving model to result/tmp_checkpoint.h5\n",
            "17/17 [==============================] - 0s 12ms/step - loss: 0.0014 - val_loss: 0.0011\n",
            "Epoch 12/200\n",
            "13/17 [=====================>........] - ETA: 0s - loss: 0.0015\n",
            "Epoch 00012: val_loss did not improve from 0.00109\n",
            "17/17 [==============================] - 0s 11ms/step - loss: 0.0014 - val_loss: 0.0011\n",
            "Epoch 13/200\n",
            "13/17 [=====================>........] - ETA: 0s - loss: 0.0015\n",
            "Epoch 00013: val_loss improved from 0.00109 to 0.00106, saving model to result/tmp_checkpoint.h5\n",
            "17/17 [==============================] - 0s 12ms/step - loss: 0.0014 - val_loss: 0.0011\n",
            "Epoch 14/200\n",
            "14/17 [=======================>......] - ETA: 0s - loss: 0.0013\n",
            "Epoch 00014: val_loss did not improve from 0.00106\n",
            "17/17 [==============================] - 0s 11ms/step - loss: 0.0013 - val_loss: 0.0011\n",
            "Epoch 15/200\n",
            "17/17 [==============================] - ETA: 0s - loss: 0.0013\n",
            "Epoch 00015: val_loss improved from 0.00106 to 0.00102, saving model to result/tmp_checkpoint.h5\n",
            "17/17 [==============================] - 0s 13ms/step - loss: 0.0013 - val_loss: 0.0010\n",
            "Epoch 16/200\n",
            "13/17 [=====================>........] - ETA: 0s - loss: 0.0012\n",
            "Epoch 00016: val_loss improved from 0.00102 to 0.00102, saving model to result/tmp_checkpoint.h5\n",
            "17/17 [==============================] - 0s 12ms/step - loss: 0.0013 - val_loss: 0.0010\n",
            "Epoch 17/200\n",
            "13/17 [=====================>........] - ETA: 0s - loss: 0.0013\n",
            "Epoch 00017: val_loss did not improve from 0.00102\n",
            "17/17 [==============================] - 0s 11ms/step - loss: 0.0012 - val_loss: 0.0011\n",
            "Epoch 18/200\n",
            "13/17 [=====================>........] - ETA: 0s - loss: 0.0013\n",
            "Epoch 00018: val_loss did not improve from 0.00102\n",
            "17/17 [==============================] - 0s 12ms/step - loss: 0.0012 - val_loss: 0.0011\n",
            "Epoch 19/200\n",
            "12/17 [====================>.........] - ETA: 0s - loss: 0.0011\n",
            "Epoch 00019: val_loss improved from 0.00102 to 0.00098, saving model to result/tmp_checkpoint.h5\n",
            "17/17 [==============================] - 0s 13ms/step - loss: 0.0013 - val_loss: 9.7740e-04\n",
            "Epoch 20/200\n",
            "14/17 [=======================>......] - ETA: 0s - loss: 0.0012\n",
            "Epoch 00020: val_loss improved from 0.00098 to 0.00096, saving model to result/tmp_checkpoint.h5\n",
            "17/17 [==============================] - 0s 12ms/step - loss: 0.0012 - val_loss: 9.6385e-04\n",
            "Epoch 21/200\n",
            "15/17 [=========================>....] - ETA: 0s - loss: 0.0011\n",
            "Epoch 00021: val_loss did not improve from 0.00096\n",
            "17/17 [==============================] - 0s 11ms/step - loss: 0.0011 - val_loss: 9.6495e-04\n",
            "Epoch 22/200\n",
            "17/17 [==============================] - ETA: 0s - loss: 0.0013\n",
            "Epoch 00022: val_loss did not improve from 0.00096\n",
            "17/17 [==============================] - 0s 12ms/step - loss: 0.0013 - val_loss: 0.0010\n",
            "Epoch 23/200\n",
            "17/17 [==============================] - ETA: 0s - loss: 0.0012\n",
            "Epoch 00023: val_loss improved from 0.00096 to 0.00092, saving model to result/tmp_checkpoint.h5\n",
            "17/17 [==============================] - 0s 14ms/step - loss: 0.0012 - val_loss: 9.2026e-04\n",
            "Epoch 24/200\n",
            "14/17 [=======================>......] - ETA: 0s - loss: 0.0010    \n",
            "Epoch 00024: val_loss improved from 0.00092 to 0.00090, saving model to result/tmp_checkpoint.h5\n",
            "17/17 [==============================] - 0s 12ms/step - loss: 0.0011 - val_loss: 9.0069e-04\n",
            "Epoch 25/200\n",
            "15/17 [=========================>....] - ETA: 0s - loss: 0.0011\n",
            "Epoch 00025: val_loss improved from 0.00090 to 0.00090, saving model to result/tmp_checkpoint.h5\n",
            "17/17 [==============================] - 0s 12ms/step - loss: 0.0011 - val_loss: 8.9812e-04\n",
            "Epoch 26/200\n",
            "15/17 [=========================>....] - ETA: 0s - loss: 0.0011\n",
            "Epoch 00026: val_loss improved from 0.00090 to 0.00085, saving model to result/tmp_checkpoint.h5\n",
            "17/17 [==============================] - 0s 11ms/step - loss: 0.0011 - val_loss: 8.5435e-04\n",
            "Epoch 27/200\n",
            "17/17 [==============================] - ETA: 0s - loss: 0.0010    \n",
            "Epoch 00027: val_loss did not improve from 0.00085\n",
            "17/17 [==============================] - 0s 13ms/step - loss: 0.0010 - val_loss: 9.8193e-04\n",
            "Epoch 28/200\n",
            "13/17 [=====================>........] - ETA: 0s - loss: 0.0011\n",
            "Epoch 00028: val_loss improved from 0.00085 to 0.00084, saving model to result/tmp_checkpoint.h5\n",
            "17/17 [==============================] - 0s 12ms/step - loss: 0.0011 - val_loss: 8.3777e-04\n",
            "Epoch 29/200\n",
            "17/17 [==============================] - ETA: 0s - loss: 0.0010    \n",
            "Epoch 00029: val_loss did not improve from 0.00084\n",
            "17/17 [==============================] - 0s 12ms/step - loss: 0.0010 - val_loss: 8.9533e-04\n",
            "Epoch 30/200\n",
            "15/17 [=========================>....] - ETA: 0s - loss: 0.0011    \n",
            "Epoch 00030: val_loss did not improve from 0.00084\n",
            "17/17 [==============================] - 0s 11ms/step - loss: 0.0011 - val_loss: 8.7657e-04\n",
            "Epoch 31/200\n",
            "14/17 [=======================>......] - ETA: 0s - loss: 0.0010    \n",
            "Epoch 00031: val_loss improved from 0.00084 to 0.00079, saving model to result/tmp_checkpoint.h5\n",
            "17/17 [==============================] - 0s 12ms/step - loss: 0.0010 - val_loss: 7.8966e-04\n",
            "Epoch 32/200\n",
            "13/17 [=====================>........] - ETA: 0s - loss: 0.0011\n",
            "Epoch 00032: val_loss did not improve from 0.00079\n",
            "17/17 [==============================] - 0s 11ms/step - loss: 0.0010 - val_loss: 8.0222e-04\n",
            "Epoch 33/200\n",
            "14/17 [=======================>......] - ETA: 0s - loss: 9.9580e-04\n",
            "Epoch 00033: val_loss did not improve from 0.00079\n",
            "17/17 [==============================] - 0s 11ms/step - loss: 9.7516e-04 - val_loss: 8.3008e-04\n",
            "Epoch 34/200\n",
            "14/17 [=======================>......] - ETA: 0s - loss: 8.8165e-04\n",
            "Epoch 00034: val_loss did not improve from 0.00079\n",
            "17/17 [==============================] - 0s 11ms/step - loss: 9.6398e-04 - val_loss: 8.2806e-04\n",
            "Epoch 35/200\n",
            "13/17 [=====================>........] - ETA: 0s - loss: 8.8893e-04\n",
            "Epoch 00035: val_loss improved from 0.00079 to 0.00076, saving model to result/tmp_checkpoint.h5\n",
            "17/17 [==============================] - 0s 12ms/step - loss: 9.8239e-04 - val_loss: 7.6150e-04\n",
            "Epoch 36/200\n",
            "14/17 [=======================>......] - ETA: 0s - loss: 9.7788e-04\n",
            "Epoch 00036: val_loss did not improve from 0.00076\n",
            "17/17 [==============================] - 0s 10ms/step - loss: 9.6002e-04 - val_loss: 7.7646e-04\n",
            "Epoch 37/200\n",
            "13/17 [=====================>........] - ETA: 0s - loss: 0.0011\n",
            "Epoch 00037: val_loss did not improve from 0.00076\n",
            "17/17 [==============================] - 0s 10ms/step - loss: 9.7982e-04 - val_loss: 7.7182e-04\n",
            "Epoch 38/200\n",
            "15/17 [=========================>....] - ETA: 0s - loss: 9.2086e-04\n",
            "Epoch 00038: val_loss did not improve from 0.00076\n",
            "17/17 [==============================] - 0s 11ms/step - loss: 9.2432e-04 - val_loss: 0.0010\n",
            "Epoch 39/200\n",
            "13/17 [=====================>........] - ETA: 0s - loss: 0.0010\n",
            "Epoch 00039: val_loss improved from 0.00076 to 0.00076, saving model to result/tmp_checkpoint.h5\n",
            "17/17 [==============================] - 0s 12ms/step - loss: 0.0010 - val_loss: 7.5501e-04\n",
            "Epoch 40/200\n",
            "14/17 [=======================>......] - ETA: 0s - loss: 9.4319e-04\n",
            "Epoch 00040: val_loss improved from 0.00076 to 0.00075, saving model to result/tmp_checkpoint.h5\n",
            "17/17 [==============================] - 0s 12ms/step - loss: 9.3567e-04 - val_loss: 7.4581e-04\n",
            "Epoch 41/200\n",
            "15/17 [=========================>....] - ETA: 0s - loss: 9.3238e-04\n",
            "Epoch 00041: val_loss improved from 0.00075 to 0.00072, saving model to result/tmp_checkpoint.h5\n",
            "17/17 [==============================] - 0s 12ms/step - loss: 9.3998e-04 - val_loss: 7.2023e-04\n",
            "Epoch 42/200\n",
            "14/17 [=======================>......] - ETA: 0s - loss: 9.7767e-04\n",
            "Epoch 00042: val_loss did not improve from 0.00072\n",
            "17/17 [==============================] - 0s 10ms/step - loss: 9.1542e-04 - val_loss: 7.3020e-04\n",
            "Epoch 43/200\n",
            "12/17 [====================>.........] - ETA: 0s - loss: 8.9083e-04\n",
            "Epoch 00043: val_loss did not improve from 0.00072\n",
            "17/17 [==============================] - 0s 12ms/step - loss: 8.8269e-04 - val_loss: 7.3905e-04\n",
            "Epoch 44/200\n",
            "13/17 [=====================>........] - ETA: 0s - loss: 9.0428e-04\n",
            "Epoch 00044: val_loss improved from 0.00072 to 0.00070, saving model to result/tmp_checkpoint.h5\n",
            "17/17 [==============================] - 0s 12ms/step - loss: 8.7824e-04 - val_loss: 7.0242e-04\n",
            "Epoch 45/200\n",
            "13/17 [=====================>........] - ETA: 0s - loss: 8.6720e-04\n",
            "Epoch 00045: val_loss improved from 0.00070 to 0.00070, saving model to result/tmp_checkpoint.h5\n",
            "17/17 [==============================] - 0s 13ms/step - loss: 9.2037e-04 - val_loss: 7.0152e-04\n",
            "Epoch 46/200\n",
            "14/17 [=======================>......] - ETA: 0s - loss: 9.9918e-04\n",
            "Epoch 00046: val_loss improved from 0.00070 to 0.00070, saving model to result/tmp_checkpoint.h5\n",
            "17/17 [==============================] - 0s 13ms/step - loss: 9.7651e-04 - val_loss: 6.9771e-04\n",
            "Epoch 47/200\n",
            "13/17 [=====================>........] - ETA: 0s - loss: 0.0011    \n",
            "Epoch 00047: val_loss did not improve from 0.00070\n",
            "17/17 [==============================] - 0s 11ms/step - loss: 9.5005e-04 - val_loss: 7.7766e-04\n",
            "Epoch 48/200\n",
            "13/17 [=====================>........] - ETA: 0s - loss: 8.4549e-04\n",
            "Epoch 00048: val_loss did not improve from 0.00070\n",
            "17/17 [==============================] - 0s 11ms/step - loss: 8.7296e-04 - val_loss: 7.0960e-04\n",
            "Epoch 49/200\n",
            "13/17 [=====================>........] - ETA: 0s - loss: 9.2299e-04\n",
            "Epoch 00049: val_loss did not improve from 0.00070\n",
            "17/17 [==============================] - 0s 11ms/step - loss: 8.9496e-04 - val_loss: 7.5661e-04\n",
            "Epoch 50/200\n",
            "14/17 [=======================>......] - ETA: 0s - loss: 8.5099e-04\n",
            "Epoch 00050: val_loss improved from 0.00070 to 0.00069, saving model to result/tmp_checkpoint.h5\n",
            "17/17 [==============================] - 0s 12ms/step - loss: 8.7354e-04 - val_loss: 6.9152e-04\n",
            "Epoch 51/200\n",
            "15/17 [=========================>....] - ETA: 0s - loss: 8.2604e-04\n",
            "Epoch 00051: val_loss did not improve from 0.00069\n",
            "17/17 [==============================] - 0s 11ms/step - loss: 8.7124e-04 - val_loss: 6.9759e-04\n",
            "Epoch 52/200\n",
            "13/17 [=====================>........] - ETA: 0s - loss: 8.3299e-04\n",
            "Epoch 00052: val_loss improved from 0.00069 to 0.00069, saving model to result/tmp_checkpoint.h5\n",
            "17/17 [==============================] - 0s 13ms/step - loss: 8.4553e-04 - val_loss: 6.8569e-04\n",
            "Epoch 53/200\n",
            "13/17 [=====================>........] - ETA: 0s - loss: 9.2234e-04\n",
            "Epoch 00053: val_loss did not improve from 0.00069\n",
            "17/17 [==============================] - 0s 11ms/step - loss: 8.5036e-04 - val_loss: 6.8645e-04\n",
            "Epoch 54/200\n",
            "13/17 [=====================>........] - ETA: 0s - loss: 8.5087e-04\n",
            "Epoch 00054: val_loss did not improve from 0.00069\n",
            "17/17 [==============================] - 0s 11ms/step - loss: 8.6533e-04 - val_loss: 8.7826e-04\n",
            "Epoch 55/200\n",
            "14/17 [=======================>......] - ETA: 0s - loss: 9.7598e-04\n",
            "Epoch 00055: val_loss improved from 0.00069 to 0.00068, saving model to result/tmp_checkpoint.h5\n",
            "17/17 [==============================] - 0s 12ms/step - loss: 9.1428e-04 - val_loss: 6.7987e-04\n",
            "Epoch 56/200\n",
            "13/17 [=====================>........] - ETA: 0s - loss: 9.2106e-04\n",
            "Epoch 00056: val_loss did not improve from 0.00068\n",
            "17/17 [==============================] - 0s 12ms/step - loss: 9.0104e-04 - val_loss: 7.4651e-04\n",
            "Epoch 57/200\n",
            "13/17 [=====================>........] - ETA: 0s - loss: 8.9661e-04\n",
            "Epoch 00057: val_loss did not improve from 0.00068\n",
            "17/17 [==============================] - 0s 11ms/step - loss: 8.3461e-04 - val_loss: 6.9714e-04\n",
            "Epoch 58/200\n",
            "13/17 [=====================>........] - ETA: 0s - loss: 8.4336e-04\n",
            "Epoch 00058: val_loss did not improve from 0.00068\n",
            "17/17 [==============================] - 0s 11ms/step - loss: 8.5753e-04 - val_loss: 7.0509e-04\n",
            "Epoch 59/200\n",
            "17/17 [==============================] - ETA: 0s - loss: 8.5819e-04\n",
            "Epoch 00059: val_loss improved from 0.00068 to 0.00065, saving model to result/tmp_checkpoint.h5\n",
            "17/17 [==============================] - 0s 14ms/step - loss: 8.5819e-04 - val_loss: 6.5306e-04\n",
            "Epoch 60/200\n",
            "13/17 [=====================>........] - ETA: 0s - loss: 8.2549e-04\n",
            "Epoch 00060: val_loss did not improve from 0.00065\n",
            "17/17 [==============================] - 0s 11ms/step - loss: 8.7996e-04 - val_loss: 7.5051e-04\n",
            "Epoch 61/200\n",
            "16/17 [===========================>..] - ETA: 0s - loss: 8.7978e-04\n",
            "Epoch 00061: val_loss did not improve from 0.00065\n",
            "17/17 [==============================] - 0s 14ms/step - loss: 9.0065e-04 - val_loss: 6.6735e-04\n",
            "Epoch 62/200\n",
            "13/17 [=====================>........] - ETA: 0s - loss: 9.1037e-04\n",
            "Epoch 00062: val_loss did not improve from 0.00065\n",
            "17/17 [==============================] - 0s 11ms/step - loss: 8.6079e-04 - val_loss: 9.1885e-04\n",
            "Epoch 63/200\n",
            "13/17 [=====================>........] - ETA: 0s - loss: 8.7196e-04\n",
            "Epoch 00063: val_loss did not improve from 0.00065\n",
            "17/17 [==============================] - 0s 11ms/step - loss: 8.5172e-04 - val_loss: 6.7132e-04\n",
            "Epoch 64/200\n",
            "17/17 [==============================] - ETA: 0s - loss: 8.3275e-04\n",
            "Epoch 00064: val_loss improved from 0.00065 to 0.00065, saving model to result/tmp_checkpoint.h5\n",
            "17/17 [==============================] - 0s 14ms/step - loss: 8.3275e-04 - val_loss: 6.4589e-04\n",
            "Epoch 65/200\n",
            "14/17 [=======================>......] - ETA: 0s - loss: 8.2792e-04\n",
            "Epoch 00065: val_loss did not improve from 0.00065\n",
            "17/17 [==============================] - 0s 10ms/step - loss: 8.1037e-04 - val_loss: 6.4908e-04\n",
            "Epoch 66/200\n",
            "14/17 [=======================>......] - ETA: 0s - loss: 7.4581e-04\n",
            "Epoch 00066: val_loss did not improve from 0.00065\n",
            "17/17 [==============================] - 0s 12ms/step - loss: 7.9922e-04 - val_loss: 6.7012e-04\n",
            "Epoch 67/200\n",
            "13/17 [=====================>........] - ETA: 0s - loss: 7.2134e-04\n",
            "Epoch 00067: val_loss improved from 0.00065 to 0.00062, saving model to result/tmp_checkpoint.h5\n",
            "17/17 [==============================] - 0s 12ms/step - loss: 7.9747e-04 - val_loss: 6.2094e-04\n",
            "Epoch 68/200\n",
            "13/17 [=====================>........] - ETA: 0s - loss: 8.4985e-04\n",
            "Epoch 00068: val_loss did not improve from 0.00062\n",
            "17/17 [==============================] - 0s 11ms/step - loss: 8.3169e-04 - val_loss: 6.9411e-04\n",
            "Epoch 69/200\n",
            "15/17 [=========================>....] - ETA: 0s - loss: 7.8920e-04\n",
            "Epoch 00069: val_loss did not improve from 0.00062\n",
            "17/17 [==============================] - 0s 13ms/step - loss: 8.3532e-04 - val_loss: 6.9950e-04\n",
            "Epoch 70/200\n",
            "12/17 [====================>.........] - ETA: 0s - loss: 8.4609e-04\n",
            "Epoch 00070: val_loss did not improve from 0.00062\n",
            "17/17 [==============================] - 0s 11ms/step - loss: 8.6176e-04 - val_loss: 7.3553e-04\n",
            "Epoch 71/200\n",
            "13/17 [=====================>........] - ETA: 0s - loss: 7.9954e-04\n",
            "Epoch 00071: val_loss did not improve from 0.00062\n",
            "17/17 [==============================] - 0s 11ms/step - loss: 8.4779e-04 - val_loss: 6.3698e-04\n",
            "Epoch 72/200\n",
            "13/17 [=====================>........] - ETA: 0s - loss: 9.3772e-04\n",
            "Epoch 00072: val_loss did not improve from 0.00062\n",
            "17/17 [==============================] - 0s 11ms/step - loss: 9.3440e-04 - val_loss: 6.8704e-04\n",
            "Epoch 73/200\n",
            "12/17 [====================>.........] - ETA: 0s - loss: 7.0145e-04\n",
            "Epoch 00073: val_loss did not improve from 0.00062\n",
            "17/17 [==============================] - 0s 11ms/step - loss: 8.3095e-04 - val_loss: 7.0161e-04\n",
            "Epoch 74/200\n",
            "17/17 [==============================] - ETA: 0s - loss: 7.8839e-04\n",
            "Epoch 00074: val_loss did not improve from 0.00062\n",
            "17/17 [==============================] - 0s 12ms/step - loss: 7.8839e-04 - val_loss: 7.3717e-04\n",
            "Epoch 75/200\n",
            "13/17 [=====================>........] - ETA: 0s - loss: 8.1876e-04\n",
            "Epoch 00075: val_loss did not improve from 0.00062\n",
            "17/17 [==============================] - 0s 10ms/step - loss: 8.1687e-04 - val_loss: 6.2880e-04\n",
            "Epoch 76/200\n",
            "13/17 [=====================>........] - ETA: 0s - loss: 8.2975e-04\n",
            "Epoch 00076: val_loss did not improve from 0.00062\n",
            "17/17 [==============================] - 0s 12ms/step - loss: 7.8493e-04 - val_loss: 7.1430e-04\n",
            "Epoch 77/200\n",
            "13/17 [=====================>........] - ETA: 0s - loss: 7.7272e-04\n",
            "Epoch 00077: val_loss did not improve from 0.00062\n",
            "17/17 [==============================] - 0s 12ms/step - loss: 7.9558e-04 - val_loss: 6.9487e-04\n"
          ]
        }
      ]
    },
    {
      "cell_type": "code",
      "metadata": {
        "id": "XAzyZ66jNSyn"
      },
      "source": [
        "# weight 로딩\n",
        "model.load_weights(filename)\n",
        "\n",
        "# 예측\n",
        "pred = model.predict(test_feature)"
      ],
      "execution_count": 158,
      "outputs": []
    },
    {
      "cell_type": "code",
      "metadata": {
        "id": "vq_MDTV8Rw5h"
      },
      "source": [
        "import matplotlib.pyplot as plt"
      ],
      "execution_count": 159,
      "outputs": []
    },
    {
      "cell_type": "code",
      "metadata": {
        "colab": {
          "base_uri": "https://localhost:8080/",
          "height": 537
        },
        "id": "2d2A4wUJNTlw",
        "outputId": "0e710b48-0b27-4404-ba31-f334a678b1d0"
      },
      "source": [
        "plt.figure(figsize=(12, 9))\n",
        "plt.plot(test_label, label='actual')\n",
        "plt.plot(pred, label='prediction')\n",
        "plt.legend()\n",
        "plt.show()"
      ],
      "execution_count": 160,
      "outputs": [
        {
          "output_type": "display_data",
          "data": {
            "image/png": "[encoded data removed]",
            "text/plain": [
              "<Figure size 864x648 with 1 Axes>"
            ]
          },
          "metadata": {
            "needs_background": "light"
          }
        }
      ]
    },
    {
      "cell_type": "code",
      "metadata": {
        "colab": {
          "base_uri": "https://localhost:8080/"
        },
        "id": "A4VPtAj7We7J",
        "outputId": "f0e4247b-ec72-40fd-af26-eef70d3f49e6"
      },
      "source": [
        "test_label.shape"
      ],
      "execution_count": 169,
      "outputs": [
        {
          "output_type": "execute_result",
          "data": {
            "text/plain": [
              "(82, 1)"
            ]
          },
          "metadata": {},
          "execution_count": 169
        }
      ]
    },
    {
      "cell_type": "code",
      "metadata": {
        "colab": {
          "base_uri": "https://localhost:8080/"
        },
        "id": "B_YrqCM2XbZn",
        "outputId": "97e716cf-400a-4a8d-942e-7d12c11bd92a"
      },
      "source": [
        "test_label.reshape(-1, 1)"
      ],
      "execution_count": 175,
      "outputs": [
        {
          "output_type": "execute_result",
          "data": {
            "text/plain": [
              "array([[0.72093023],\n",
              "       [0.69534884],\n",
              "       [0.75348837],\n",
              "       [0.71627907],\n",
              "       [0.72790698],\n",
              "       [0.71395349],\n",
              "       [0.7255814 ],\n",
              "       [0.69069767],\n",
              "       [0.7255814 ],\n",
              "       [0.74418605],\n",
              "       [0.73488372],\n",
              "       [0.75116279],\n",
              "       [0.74883721],\n",
              "       [0.71627907],\n",
              "       [0.70930233],\n",
              "       [0.7255814 ],\n",
              "       [0.76046512],\n",
              "       [0.74883721],\n",
              "       [0.72790698],\n",
              "       [0.70930233],\n",
              "       [0.74418605],\n",
              "       [0.76744186],\n",
              "       [0.7744186 ],\n",
              "       [0.78139535],\n",
              "       [0.80930233],\n",
              "       [0.81395349],\n",
              "       [0.81860465],\n",
              "       [0.79534884],\n",
              "       [0.79069767],\n",
              "       [0.7744186 ],\n",
              "       [0.80232558],\n",
              "       [0.79534884],\n",
              "       [0.82790698],\n",
              "       [0.90465116],\n",
              "       [0.85581395],\n",
              "       [0.80465116],\n",
              "       [0.77906977],\n",
              "       [0.76511628],\n",
              "       [0.80697674],\n",
              "       [0.81860465],\n",
              "       [0.84186047],\n",
              "       [0.82790698],\n",
              "       [0.80930233],\n",
              "       [0.81162791],\n",
              "       [0.81395349],\n",
              "       [0.83023256],\n",
              "       [0.84186047],\n",
              "       [0.85116279],\n",
              "       [0.83023256],\n",
              "       [0.86511628],\n",
              "       [0.84418605],\n",
              "       [0.85116279],\n",
              "       [0.86744186],\n",
              "       [0.87674419],\n",
              "       [0.88372093],\n",
              "       [0.8744186 ],\n",
              "       [0.86046512],\n",
              "       [0.91162791],\n",
              "       [0.90465116],\n",
              "       [0.90232558],\n",
              "       [0.95581395],\n",
              "       [0.89534884],\n",
              "       [0.9255814 ],\n",
              "       [0.9627907 ],\n",
              "       [0.94883721],\n",
              "       [0.9744186 ],\n",
              "       [0.96744186],\n",
              "       [0.98372093],\n",
              "       [0.96976744],\n",
              "       [0.93953488],\n",
              "       [0.96744186],\n",
              "       [0.97674419],\n",
              "       [0.96511628],\n",
              "       [0.96511628],\n",
              "       [0.99534884],\n",
              "       [1.        ],\n",
              "       [0.98372093],\n",
              "       [0.99069767],\n",
              "       [0.98139535],\n",
              "       [0.96511628],\n",
              "       [0.86046512],\n",
              "       [0.82325581]])"
            ]
          },
          "metadata": {},
          "execution_count": 175
        }
      ]
    },
    {
      "cell_type": "code",
      "metadata": {
        "colab": {
          "base_uri": "https://localhost:8080/",
          "height": 295
        },
        "id": "7pGjE0HVV899",
        "outputId": "16b98b34-5958-45ff-aa3c-2284a0b64e48"
      },
      "source": [
        "scaler.inverse_transform(test_label.reshape(-1, 1))"
      ],
      "execution_count": 174,
      "outputs": [
        {
          "output_type": "error",
          "ename": "ValueError",
          "evalue": "ignored",
          "traceback": [
            "\u001b[0;31m---------------------------------------------------------------------------\u001b[0m",
            "\u001b[0;31mValueError\u001b[0m                                Traceback (most recent call last)",
            "\u001b[0;32m<ipython-input-174-fa5881e6fef2>\u001b[0m in \u001b[0;36m<module>\u001b[0;34m()\u001b[0m\n\u001b[0;32m----> 1\u001b[0;31m \u001b[0mscaler\u001b[0m\u001b[0;34m.\u001b[0m\u001b[0minverse_transform\u001b[0m\u001b[0;34m(\u001b[0m\u001b[0mtest_label\u001b[0m\u001b[0;34m.\u001b[0m\u001b[0mreshape\u001b[0m\u001b[0;34m(\u001b[0m\u001b[0;34m-\u001b[0m\u001b[0;36m1\u001b[0m\u001b[0;34m,\u001b[0m \u001b[0;36m1\u001b[0m\u001b[0;34m)\u001b[0m\u001b[0;34m)\u001b[0m\u001b[0;34m\u001b[0m\u001b[0;34m\u001b[0m\u001b[0m\n\u001b[0m",
            "\u001b[0;32m/usr/local/lib/python3.7/dist-packages/sklearn/preprocessing/_data.py\u001b[0m in \u001b[0;36minverse_transform\u001b[0;34m(self, X)\u001b[0m\n\u001b[1;32m    434\u001b[0m                         force_all_finite=\"allow-nan\")\n\u001b[1;32m    435\u001b[0m \u001b[0;34m\u001b[0m\u001b[0m\n\u001b[0;32m--> 436\u001b[0;31m         \u001b[0mX\u001b[0m \u001b[0;34m-=\u001b[0m \u001b[0mself\u001b[0m\u001b[0;34m.\u001b[0m\u001b[0mmin_\u001b[0m\u001b[0;34m\u001b[0m\u001b[0;34m\u001b[0m\u001b[0m\n\u001b[0m\u001b[1;32m    437\u001b[0m         \u001b[0mX\u001b[0m \u001b[0;34m/=\u001b[0m \u001b[0mself\u001b[0m\u001b[0;34m.\u001b[0m\u001b[0mscale_\u001b[0m\u001b[0;34m\u001b[0m\u001b[0;34m\u001b[0m\u001b[0m\n\u001b[1;32m    438\u001b[0m         \u001b[0;32mreturn\u001b[0m \u001b[0mX\u001b[0m\u001b[0;34m\u001b[0m\u001b[0;34m\u001b[0m\u001b[0m\n",
            "\u001b[0;31mValueError\u001b[0m: non-broadcastable output operand with shape (82,1) doesn't match the broadcast shape (82,9)"
          ]
        }
      ]
    },
    {
      "cell_type": "code",
      "metadata": {
        "id": "RSrPoqawWZl4"
      },
      "source": [
        ""
      ],
      "execution_count": null,
      "outputs": []
    }
  ]
}