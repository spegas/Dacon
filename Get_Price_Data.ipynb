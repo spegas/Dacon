{
  "nbformat": 4,
  "nbformat_minor": 0,
  "metadata": {
    "colab": {
      "name": "Get_Price_Data.ipynb",
      "provenance": [],
      "collapsed_sections": [],
      "authorship_tag": "ABX9TyMPLfWC1KZR1L+DC4te/vUb",
      "include_colab_link": true
    },
    "kernelspec": {
      "name": "python3",
      "display_name": "Python 3"
    },
    "language_info": {
      "name": "python"
    }
  },
  "cells": [
    {
      "cell_type": "markdown",
      "metadata": {
        "id": "view-in-github",
        "colab_type": "text"
      },
      "source": [
        "<a href=\"https://colab.research.google.com/github/spegas/Dacon/blob/main/Get_Price_Data.ipynb\" target=\"_parent\"><img src=\"https://colab.research.google.com/assets/colab-badge.svg\" alt=\"Open In Colab\"/></a>"
      ]
    },
    {
      "cell_type": "code",
      "metadata": {
        "colab": {
          "base_uri": "https://localhost:8080/"
        },
        "id": "g3J3S1HAswgc",
        "outputId": "1a9a0fdf-84f7-4d71-bf1c-f9adf7788661"
      },
      "source": [
        "!pip install finance-datareader"
      ],
      "execution_count": 1,
      "outputs": [
        {
          "output_type": "stream",
          "name": "stdout",
          "text": [
            "Collecting finance-datareader\n",
            "  Downloading finance_datareader-0.9.31-py3-none-any.whl (17 kB)\n",
            "Collecting requests-file\n",
            "  Downloading requests_file-1.5.1-py2.py3-none-any.whl (3.7 kB)\n",
            "Requirement already satisfied: tqdm in /usr/local/lib/python3.7/dist-packages (from finance-datareader) (4.62.3)\n",
            "Requirement already satisfied: lxml in /usr/local/lib/python3.7/dist-packages (from finance-datareader) (4.2.6)\n",
            "Requirement already satisfied: requests>=2.3.0 in /usr/local/lib/python3.7/dist-packages (from finance-datareader) (2.23.0)\n",
            "Requirement already satisfied: pandas>=0.19.2 in /usr/local/lib/python3.7/dist-packages (from finance-datareader) (1.1.5)\n",
            "Requirement already satisfied: python-dateutil>=2.7.3 in /usr/local/lib/python3.7/dist-packages (from pandas>=0.19.2->finance-datareader) (2.8.2)\n",
            "Requirement already satisfied: numpy>=1.15.4 in /usr/local/lib/python3.7/dist-packages (from pandas>=0.19.2->finance-datareader) (1.19.5)\n",
            "Requirement already satisfied: pytz>=2017.2 in /usr/local/lib/python3.7/dist-packages (from pandas>=0.19.2->finance-datareader) (2018.9)\n",
            "Requirement already satisfied: six>=1.5 in /usr/local/lib/python3.7/dist-packages (from python-dateutil>=2.7.3->pandas>=0.19.2->finance-datareader) (1.15.0)\n",
            "Requirement already satisfied: idna<3,>=2.5 in /usr/local/lib/python3.7/dist-packages (from requests>=2.3.0->finance-datareader) (2.10)\n",
            "Requirement already satisfied: certifi>=2017.4.17 in /usr/local/lib/python3.7/dist-packages (from requests>=2.3.0->finance-datareader) (2021.10.8)\n",
            "Requirement already satisfied: urllib3!=1.25.0,!=1.25.1,<1.26,>=1.21.1 in /usr/local/lib/python3.7/dist-packages (from requests>=2.3.0->finance-datareader) (1.24.3)\n",
            "Requirement already satisfied: chardet<4,>=3.0.2 in /usr/local/lib/python3.7/dist-packages (from requests>=2.3.0->finance-datareader) (3.0.4)\n",
            "Installing collected packages: requests-file, finance-datareader\n",
            "Successfully installed finance-datareader-0.9.31 requests-file-1.5.1\n"
          ]
        }
      ]
    },
    {
      "cell_type": "code",
      "metadata": {
        "colab": {
          "base_uri": "https://localhost:8080/"
        },
        "id": "zDldBr3ttOwb",
        "outputId": "dddceb87-858a-45e6-9993-1bacedf4ed4e"
      },
      "source": [
        "!pip install wget"
      ],
      "execution_count": 2,
      "outputs": [
        {
          "output_type": "stream",
          "name": "stdout",
          "text": [
            "Collecting wget\n",
            "  Downloading wget-3.2.zip (10 kB)\n",
            "Building wheels for collected packages: wget\n",
            "  Building wheel for wget (setup.py) ... \u001b[?25l\u001b[?25hdone\n",
            "  Created wheel for wget: filename=wget-3.2-py3-none-any.whl size=9672 sha256=0aac2173c28b79e092605c1f3de19f892fa6b78d1fd1a7c2d53fbe7a04fe7ab3\n",
            "  Stored in directory: /root/.cache/pip/wheels/a1/b6/7c/0e63e34eb06634181c63adacca38b79ff8f35c37e3c13e3c02\n",
            "Successfully built wget\n",
            "Installing collected packages: wget\n",
            "Successfully installed wget-3.2\n"
          ]
        }
      ]
    },
    {
      "cell_type": "code",
      "metadata": {
        "id": "jRl1AiHstGQ5"
      },
      "source": [
        "import pandas as pd\n",
        "import os\n",
        "import FinanceDataReader as fdr\n",
        "import wget\n",
        "\n",
        "from zipfile import ZipFile\n",
        "from os.path import basename"
      ],
      "execution_count": 9,
      "outputs": []
    },
    {
      "cell_type": "code",
      "metadata": {
        "id": "DDcJu5upvpml"
      },
      "source": [
        "if not os.path.isdir(\"base\"):\n",
        "  print(\"base 디렉토리 생성\")\n",
        "  os.makedirs(\"base\")\n",
        "\n",
        "if not os.path.isdir(\"price\"):\n",
        "  print(\"price 디렉토리 생성\")\n",
        "  os.makedirs(\"price\")"
      ],
      "execution_count": 7,
      "outputs": []
    },
    {
      "cell_type": "code",
      "metadata": {
        "colab": {
          "base_uri": "https://localhost:8080/"
        },
        "id": "ZdtUujcrvwKA",
        "outputId": "820829b7-c2e6-4eea-b557-2bbcdc4f8047"
      },
      "source": [
        "stock_list_file_url = \"https://raw.githubusercontent.com/spegas/Dacon/main/stock_list.csv\"\n",
        "if os.path.exists('base/stock_list.csv'):\n",
        "  os.remove('base/stock_list.csv')\n",
        "  print('이전에 저장된 주식 종목 리스트 파일을 삭제 합니다.')\n",
        "wget.download(stock_list_file_url, 'base/stock_list.csv')\n",
        "print('주식 종목 리스트 파일 다운로드 완료')"
      ],
      "execution_count": 10,
      "outputs": [
        {
          "output_type": "stream",
          "name": "stdout",
          "text": [
            "주식 종목 리스트 파일 다운로드 완료\n"
          ]
        }
      ]
    },
    {
      "cell_type": "code",
      "metadata": {
        "id": "yTXwab-FwKxb"
      },
      "source": [
        "stock_list_name = 'base/stock_list.csv'\n",
        "pd_stock_list = pd.read_csv(stock_list_name)\n",
        "pd_stock_list['종목코드'] = pd_stock_list['종목코드'].apply(lambda x : str(x).zfill(6))\n",
        "pd_stock_list.head(10)"
      ],
      "execution_count": null,
      "outputs": []
    },
    {
      "cell_type": "code",
      "metadata": {
        "id": "XMPpBg6Mv0aY"
      },
      "source": [
        "start_date = '20200101'\n",
        "end_date = '20211031'"
      ],
      "execution_count": 14,
      "outputs": []
    },
    {
      "cell_type": "code",
      "metadata": {
        "id": "s2ZDm_E6v4wH"
      },
      "source": [
        "for f_index in range(0, pd_stock_list.shape[0]):\n",
        "  f_code = pd_stock_list.iloc[f_index]['종목코드']\n",
        "  f_name = pd_stock_list.iloc[f_index]['종목명']\n",
        "  price_filename = str('price/') + str(f_code) + str('_price.csv')\n",
        "  if not os.path.exists(price_filename):\n",
        "    f_price = fdr.DataReader(f_code, start = start_date, end = end_date)\n",
        "    f_price.to_csv(price_filename)\n",
        "    print('[종목코드 : %s, 종목명 : %s] 가격 정보 저장 완료' % (str(f_code), str(f_name)))\n",
        "  else:\n",
        "    print('[종목코드 : %s, 종목명 : %s] 가격 정보 파일 존재' % (str(f_code), str(f_name)))"
      ],
      "execution_count": null,
      "outputs": []
    },
    {
      "cell_type": "code",
      "metadata": {
        "id": "xSSO4jU-6WCd"
      },
      "source": [
        "# Zip the files from given directory that matches the filter\n",
        "def zipFilesInDir(dirName, zipFileName, filter):\n",
        "   # create a ZipFile object\n",
        "   with ZipFile(zipFileName, 'w') as zipObj:\n",
        "       # Iterate over all the files in directory\n",
        "       for folderName, subfolders, filenames in os.walk(dirName):\n",
        "           for filename in filenames:\n",
        "               if filter(filename):\n",
        "                   # create complete filepath of file in directory\n",
        "                   filePath = os.path.join(folderName, filename)\n",
        "                   # Add file to zip\n",
        "                   zipObj.write(filePath, basename(filePath))"
      ],
      "execution_count": 25,
      "outputs": []
    },
    {
      "cell_type": "code",
      "metadata": {
        "id": "1lfaKaW_6ZF9"
      },
      "source": [
        "zipFilesInDir('price', 'price.zip', lambda name : 'csv' in name)"
      ],
      "execution_count": 29,
      "outputs": []
    }
  ]
}