{
  "nbformat": 4,
  "nbformat_minor": 0,
  "metadata": {
    "colab": {
      "name": "Get_Price_Data.ipynb",
      "provenance": [],
      "collapsed_sections": [],
      "authorship_tag": "ABX9TyNmofYRseXzm8sF6hFOYE5o",
      "include_colab_link": true
    },
    "kernelspec": {
      "name": "python3",
      "display_name": "Python 3"
    },
    "language_info": {
      "name": "python"
    }
  },
  "cells": [
    {
      "cell_type": "markdown",
      "metadata": {
        "id": "view-in-github",
        "colab_type": "text"
      },
      "source": [
        "<a href=\"https://colab.research.google.com/github/spegas/Dacon/blob/main/Get_Price_Data.ipynb\" target=\"_parent\"><img src=\"https://colab.research.google.com/assets/colab-badge.svg\" alt=\"Open In Colab\"/></a>"
      ]
    },
    {
      "cell_type": "code",
      "metadata": {
        "colab": {
          "base_uri": "https://localhost:8080/"
        },
        "id": "g3J3S1HAswgc",
        "outputId": "1a9a0fdf-84f7-4d71-bf1c-f9adf7788661"
      },
      "source": [
        "!pip install finance-datareader"
      ],
      "execution_count": 1,
      "outputs": [
        {
          "output_type": "stream",
          "name": "stdout",
          "text": [
            "Collecting finance-datareader\n",
            "  Downloading finance_datareader-0.9.31-py3-none-any.whl (17 kB)\n",
            "Collecting requests-file\n",
            "  Downloading requests_file-1.5.1-py2.py3-none-any.whl (3.7 kB)\n",
            "Requirement already satisfied: tqdm in /usr/local/lib/python3.7/dist-packages (from finance-datareader) (4.62.3)\n",
            "Requirement already satisfied: lxml in /usr/local/lib/python3.7/dist-packages (from finance-datareader) (4.2.6)\n",
            "Requirement already satisfied: requests>=2.3.0 in /usr/local/lib/python3.7/dist-packages (from finance-datareader) (2.23.0)\n",
            "Requirement already satisfied: pandas>=0.19.2 in /usr/local/lib/python3.7/dist-packages (from finance-datareader) (1.1.5)\n",
            "Requirement already satisfied: python-dateutil>=2.7.3 in /usr/local/lib/python3.7/dist-packages (from pandas>=0.19.2->finance-datareader) (2.8.2)\n",
            "Requirement already satisfied: numpy>=1.15.4 in /usr/local/lib/python3.7/dist-packages (from pandas>=0.19.2->finance-datareader) (1.19.5)\n",
            "Requirement already satisfied: pytz>=2017.2 in /usr/local/lib/python3.7/dist-packages (from pandas>=0.19.2->finance-datareader) (2018.9)\n",
            "Requirement already satisfied: six>=1.5 in /usr/local/lib/python3.7/dist-packages (from python-dateutil>=2.7.3->pandas>=0.19.2->finance-datareader) (1.15.0)\n",
            "Requirement already satisfied: idna<3,>=2.5 in /usr/local/lib/python3.7/dist-packages (from requests>=2.3.0->finance-datareader) (2.10)\n",
            "Requirement already satisfied: certifi>=2017.4.17 in /usr/local/lib/python3.7/dist-packages (from requests>=2.3.0->finance-datareader) (2021.10.8)\n",
            "Requirement already satisfied: urllib3!=1.25.0,!=1.25.1,<1.26,>=1.21.1 in /usr/local/lib/python3.7/dist-packages (from requests>=2.3.0->finance-datareader) (1.24.3)\n",
            "Requirement already satisfied: chardet<4,>=3.0.2 in /usr/local/lib/python3.7/dist-packages (from requests>=2.3.0->finance-datareader) (3.0.4)\n",
            "Installing collected packages: requests-file, finance-datareader\n",
            "Successfully installed finance-datareader-0.9.31 requests-file-1.5.1\n"
          ]
        }
      ]
    },
    {
      "cell_type": "code",
      "metadata": {
        "colab": {
          "base_uri": "https://localhost:8080/"
        },
        "id": "zDldBr3ttOwb",
        "outputId": "dddceb87-858a-45e6-9993-1bacedf4ed4e"
      },
      "source": [
        "!pip install wget"
      ],
      "execution_count": 2,
      "outputs": [
        {
          "output_type": "stream",
          "name": "stdout",
          "text": [
            "Collecting wget\n",
            "  Downloading wget-3.2.zip (10 kB)\n",
            "Building wheels for collected packages: wget\n",
            "  Building wheel for wget (setup.py) ... \u001b[?25l\u001b[?25hdone\n",
            "  Created wheel for wget: filename=wget-3.2-py3-none-any.whl size=9672 sha256=0aac2173c28b79e092605c1f3de19f892fa6b78d1fd1a7c2d53fbe7a04fe7ab3\n",
            "  Stored in directory: /root/.cache/pip/wheels/a1/b6/7c/0e63e34eb06634181c63adacca38b79ff8f35c37e3c13e3c02\n",
            "Successfully built wget\n",
            "Installing collected packages: wget\n",
            "Successfully installed wget-3.2\n"
          ]
        }
      ]
    },
    {
      "cell_type": "code",
      "metadata": {
        "id": "jRl1AiHstGQ5"
      },
      "source": [
        "import pandas as pd\n",
        "import os\n",
        "import FinanceDataReader as fdr\n",
        "import wget\n",
        "\n",
        "from zipfile import ZipFile\n",
        "from os.path import basename"
      ],
      "execution_count": 9,
      "outputs": []
    },
    {
      "cell_type": "code",
      "metadata": {
        "id": "DDcJu5upvpml"
      },
      "source": [
        "if not os.path.isdir(\"base\"):\n",
        "  print(\"base 디렉토리 생성\")\n",
        "  os.makedirs(\"base\")\n",
        "\n",
        "if not os.path.isdir(\"price\"):\n",
        "  print(\"price 디렉토리 생성\")\n",
        "  os.makedirs(\"price\")"
      ],
      "execution_count": 7,
      "outputs": []
    },
    {
      "cell_type": "code",
      "metadata": {
        "colab": {
          "base_uri": "https://localhost:8080/"
        },
        "id": "ZdtUujcrvwKA",
        "outputId": "820829b7-c2e6-4eea-b557-2bbcdc4f8047"
      },
      "source": [
        "stock_list_file_url = \"https://raw.githubusercontent.com/spegas/Dacon/main/stock_list.csv\"\n",
        "if os.path.exists('base/stock_list.csv'):\n",
        "  os.remove('base/stock_list.csv')\n",
        "  print('이전에 저장된 주식 종목 리스트 파일을 삭제 합니다.')\n",
        "wget.download(stock_list_file_url, 'base/stock_list.csv')\n",
        "print('주식 종목 리스트 파일 다운로드 완료')"
      ],
      "execution_count": 10,
      "outputs": [
        {
          "output_type": "stream",
          "name": "stdout",
          "text": [
            "주식 종목 리스트 파일 다운로드 완료\n"
          ]
        }
      ]
    },
    {
      "cell_type": "code",
      "metadata": {
        "id": "yTXwab-FwKxb"
      },
      "source": [
        "stock_list_name = 'base/stock_list.csv'\n",
        "pd_stock_list = pd.read_csv(stock_list_name)\n",
        "pd_stock_list['종목코드'] = pd_stock_list['종목코드'].apply(lambda x : str(x).zfill(6))\n",
        "pd_stock_list.head(10)"
      ],
      "execution_count": null,
      "outputs": []
    },
    {
      "cell_type": "code",
      "metadata": {
        "id": "XMPpBg6Mv0aY"
      },
      "source": [
        "start_date = '20200101'\n",
        "end_date = '20211031'"
      ],
      "execution_count": 14,
      "outputs": []
    },
    {
      "cell_type": "code",
      "metadata": {
        "id": "s2ZDm_E6v4wH"
      },
      "source": [
        "for f_index in range(0, pd_stock_list.shape[0]):\n",
        "  f_code = pd_stock_list.iloc[f_index]['종목코드']\n",
        "  f_name = pd_stock_list.iloc[f_index]['종목명']\n",
        "  price_filename = str('price/') + str(f_code) + str('_price.csv')\n",
        "  if not os.path.exists(price_filename):\n",
        "    f_price = fdr.DataReader(f_code, start = start_date, end = end_date)\n",
        "    f_price.to_csv(price_filename)\n",
        "    print('[종목코드 : %s, 종목명 : %s] 가격 정보 저장 완료' % (str(f_code), str(f_name)))\n",
        "  else:\n",
        "    print('[종목코드 : %s, 종목명 : %s] 가격 정보 파일 존재' % (str(f_code), str(f_name)))"
      ],
      "execution_count": null,
      "outputs": []
    },
    {
      "cell_type": "code",
      "metadata": {
        "id": "xSSO4jU-6WCd"
      },
      "source": [
        "# Zip the files from given directory that matches the filter\n",
        "def zipFilesInDir(dirName, zipFileName, filter):\n",
        "   # create a ZipFile object\n",
        "   with ZipFile(zipFileName, 'w') as zipObj:\n",
        "       # Iterate over all the files in directory\n",
        "       for folderName, subfolders, filenames in os.walk(dirName):\n",
        "           for filename in filenames:\n",
        "               if filter(filename):\n",
        "                   # create complete filepath of file in directory\n",
        "                   filePath = os.path.join(folderName, filename)\n",
        "                   # Add file to zip\n",
        "                   zipObj.write(filePath, basename(filePath))"
      ],
      "execution_count": 25,
      "outputs": []
    },
    {
      "cell_type": "code",
      "metadata": {
        "id": "1lfaKaW_6ZF9"
      },
      "source": [
        "zipFilesInDir('price', 'price.zip', lambda name : 'csv' in name)"
      ],
      "execution_count": 29,
      "outputs": []
    },
    {
      "cell_type": "code",
      "metadata": {
        "id": "c2puLLmGC4nh"
      },
      "source": [
        "pd_price = pd.read_csv('price/005380_price.csv')"
      ],
      "execution_count": 42,
      "outputs": []
    },
    {
      "cell_type": "code",
      "metadata": {
        "colab": {
          "base_uri": "https://localhost:8080/",
          "height": 424
        },
        "id": "DPJSzVPaDMys",
        "outputId": "1f431fb3-e676-44b5-98b1-644a126d3a56"
      },
      "source": [
        "pd_price"
      ],
      "execution_count": 43,
      "outputs": [
        {
          "output_type": "execute_result",
          "data": {
            "text/html": [
              "<div>\n",
              "<style scoped>\n",
              "    .dataframe tbody tr th:only-of-type {\n",
              "        vertical-align: middle;\n",
              "    }\n",
              "\n",
              "    .dataframe tbody tr th {\n",
              "        vertical-align: top;\n",
              "    }\n",
              "\n",
              "    .dataframe thead th {\n",
              "        text-align: right;\n",
              "    }\n",
              "</style>\n",
              "<table border=\"1\" class=\"dataframe\">\n",
              "  <thead>\n",
              "    <tr style=\"text-align: right;\">\n",
              "      <th></th>\n",
              "      <th>Date</th>\n",
              "      <th>Open</th>\n",
              "      <th>High</th>\n",
              "      <th>Low</th>\n",
              "      <th>Close</th>\n",
              "      <th>Volume</th>\n",
              "      <th>Change</th>\n",
              "    </tr>\n",
              "  </thead>\n",
              "  <tbody>\n",
              "    <tr>\n",
              "      <th>0</th>\n",
              "      <td>2020-01-02</td>\n",
              "      <td>121000</td>\n",
              "      <td>121000</td>\n",
              "      <td>118000</td>\n",
              "      <td>118000</td>\n",
              "      <td>556532</td>\n",
              "      <td>-0.020747</td>\n",
              "    </tr>\n",
              "    <tr>\n",
              "      <th>1</th>\n",
              "      <td>2020-01-03</td>\n",
              "      <td>118500</td>\n",
              "      <td>119000</td>\n",
              "      <td>115000</td>\n",
              "      <td>116000</td>\n",
              "      <td>1145187</td>\n",
              "      <td>-0.016949</td>\n",
              "    </tr>\n",
              "    <tr>\n",
              "      <th>2</th>\n",
              "      <td>2020-01-06</td>\n",
              "      <td>116000</td>\n",
              "      <td>117000</td>\n",
              "      <td>115500</td>\n",
              "      <td>116000</td>\n",
              "      <td>334574</td>\n",
              "      <td>0.000000</td>\n",
              "    </tr>\n",
              "    <tr>\n",
              "      <th>3</th>\n",
              "      <td>2020-01-07</td>\n",
              "      <td>116500</td>\n",
              "      <td>117000</td>\n",
              "      <td>115500</td>\n",
              "      <td>115500</td>\n",
              "      <td>674196</td>\n",
              "      <td>-0.004310</td>\n",
              "    </tr>\n",
              "    <tr>\n",
              "      <th>4</th>\n",
              "      <td>2020-01-08</td>\n",
              "      <td>115000</td>\n",
              "      <td>115500</td>\n",
              "      <td>111500</td>\n",
              "      <td>112000</td>\n",
              "      <td>1044825</td>\n",
              "      <td>-0.030303</td>\n",
              "    </tr>\n",
              "    <tr>\n",
              "      <th>...</th>\n",
              "      <td>...</td>\n",
              "      <td>...</td>\n",
              "      <td>...</td>\n",
              "      <td>...</td>\n",
              "      <td>...</td>\n",
              "      <td>...</td>\n",
              "      <td>...</td>\n",
              "    </tr>\n",
              "    <tr>\n",
              "      <th>447</th>\n",
              "      <td>2021-10-25</td>\n",
              "      <td>207500</td>\n",
              "      <td>212000</td>\n",
              "      <td>206000</td>\n",
              "      <td>211000</td>\n",
              "      <td>649860</td>\n",
              "      <td>0.016867</td>\n",
              "    </tr>\n",
              "    <tr>\n",
              "      <th>448</th>\n",
              "      <td>2021-10-26</td>\n",
              "      <td>213000</td>\n",
              "      <td>214500</td>\n",
              "      <td>209000</td>\n",
              "      <td>213500</td>\n",
              "      <td>782736</td>\n",
              "      <td>0.011848</td>\n",
              "    </tr>\n",
              "    <tr>\n",
              "      <th>449</th>\n",
              "      <td>2021-10-27</td>\n",
              "      <td>214500</td>\n",
              "      <td>215000</td>\n",
              "      <td>212500</td>\n",
              "      <td>213500</td>\n",
              "      <td>606729</td>\n",
              "      <td>0.000000</td>\n",
              "    </tr>\n",
              "    <tr>\n",
              "      <th>450</th>\n",
              "      <td>2021-10-28</td>\n",
              "      <td>213000</td>\n",
              "      <td>214000</td>\n",
              "      <td>209500</td>\n",
              "      <td>210000</td>\n",
              "      <td>633732</td>\n",
              "      <td>-0.016393</td>\n",
              "    </tr>\n",
              "    <tr>\n",
              "      <th>451</th>\n",
              "      <td>2021-10-29</td>\n",
              "      <td>211500</td>\n",
              "      <td>212500</td>\n",
              "      <td>206500</td>\n",
              "      <td>208000</td>\n",
              "      <td>667275</td>\n",
              "      <td>-0.009524</td>\n",
              "    </tr>\n",
              "  </tbody>\n",
              "</table>\n",
              "<p>452 rows × 7 columns</p>\n",
              "</div>"
            ],
            "text/plain": [
              "           Date    Open    High     Low   Close   Volume    Change\n",
              "0    2020-01-02  121000  121000  118000  118000   556532 -0.020747\n",
              "1    2020-01-03  118500  119000  115000  116000  1145187 -0.016949\n",
              "2    2020-01-06  116000  117000  115500  116000   334574  0.000000\n",
              "3    2020-01-07  116500  117000  115500  115500   674196 -0.004310\n",
              "4    2020-01-08  115000  115500  111500  112000  1044825 -0.030303\n",
              "..          ...     ...     ...     ...     ...      ...       ...\n",
              "447  2021-10-25  207500  212000  206000  211000   649860  0.016867\n",
              "448  2021-10-26  213000  214500  209000  213500   782736  0.011848\n",
              "449  2021-10-27  214500  215000  212500  213500   606729  0.000000\n",
              "450  2021-10-28  213000  214000  209500  210000   633732 -0.016393\n",
              "451  2021-10-29  211500  212500  206500  208000   667275 -0.009524\n",
              "\n",
              "[452 rows x 7 columns]"
            ]
          },
          "metadata": {},
          "execution_count": 43
        }
      ]
    },
    {
      "cell_type": "code",
      "metadata": {
        "id": "np1ydmhGDPC8"
      },
      "source": [
        "# create 20 days simple moving average column\n",
        "pd_price['20_SMA'] = pd_price['Close'].rolling(window = 20, min_periods = 1).mean()\n",
        "pd_price['50_SMA'] = pd_price['Close'].rolling(window = 50, min_periods = 1).mean()"
      ],
      "execution_count": 44,
      "outputs": []
    },
    {
      "cell_type": "markdown",
      "metadata": {
        "id": "0M221OiLEQW-"
      },
      "source": [
        ""
      ]
    },
    {
      "cell_type": "code",
      "metadata": {
        "id": "6XWoUEidDcNL"
      },
      "source": [
        "pd_price['20_EMA'] = round(pd_price['Close'].ewm(span = 20, adjust = False).mean(), 2)\n",
        "pd_price['50_EMA'] = round(pd_price['Close'].ewm(span = 50, adjust = False).mean(), 2)"
      ],
      "execution_count": 45,
      "outputs": []
    },
    {
      "cell_type": "code",
      "metadata": {
        "colab": {
          "base_uri": "https://localhost:8080/",
          "height": 424
        },
        "id": "Z6XY5xvkEFsq",
        "outputId": "0ebfce58-9833-4290-bf01-188693fed435"
      },
      "source": [
        "pd_price"
      ],
      "execution_count": 46,
      "outputs": [
        {
          "output_type": "execute_result",
          "data": {
            "text/html": [
              "<div>\n",
              "<style scoped>\n",
              "    .dataframe tbody tr th:only-of-type {\n",
              "        vertical-align: middle;\n",
              "    }\n",
              "\n",
              "    .dataframe tbody tr th {\n",
              "        vertical-align: top;\n",
              "    }\n",
              "\n",
              "    .dataframe thead th {\n",
              "        text-align: right;\n",
              "    }\n",
              "</style>\n",
              "<table border=\"1\" class=\"dataframe\">\n",
              "  <thead>\n",
              "    <tr style=\"text-align: right;\">\n",
              "      <th></th>\n",
              "      <th>Date</th>\n",
              "      <th>Open</th>\n",
              "      <th>High</th>\n",
              "      <th>Low</th>\n",
              "      <th>Close</th>\n",
              "      <th>Volume</th>\n",
              "      <th>Change</th>\n",
              "      <th>20_SMA</th>\n",
              "      <th>50_SMA</th>\n",
              "      <th>20_EMA</th>\n",
              "      <th>50_EMA</th>\n",
              "    </tr>\n",
              "  </thead>\n",
              "  <tbody>\n",
              "    <tr>\n",
              "      <th>0</th>\n",
              "      <td>2020-01-02</td>\n",
              "      <td>121000</td>\n",
              "      <td>121000</td>\n",
              "      <td>118000</td>\n",
              "      <td>118000</td>\n",
              "      <td>556532</td>\n",
              "      <td>-0.020747</td>\n",
              "      <td>118000.000000</td>\n",
              "      <td>118000.000000</td>\n",
              "      <td>118000.00</td>\n",
              "      <td>118000.00</td>\n",
              "    </tr>\n",
              "    <tr>\n",
              "      <th>1</th>\n",
              "      <td>2020-01-03</td>\n",
              "      <td>118500</td>\n",
              "      <td>119000</td>\n",
              "      <td>115000</td>\n",
              "      <td>116000</td>\n",
              "      <td>1145187</td>\n",
              "      <td>-0.016949</td>\n",
              "      <td>117000.000000</td>\n",
              "      <td>117000.000000</td>\n",
              "      <td>117809.52</td>\n",
              "      <td>117921.57</td>\n",
              "    </tr>\n",
              "    <tr>\n",
              "      <th>2</th>\n",
              "      <td>2020-01-06</td>\n",
              "      <td>116000</td>\n",
              "      <td>117000</td>\n",
              "      <td>115500</td>\n",
              "      <td>116000</td>\n",
              "      <td>334574</td>\n",
              "      <td>0.000000</td>\n",
              "      <td>116666.666667</td>\n",
              "      <td>116666.666667</td>\n",
              "      <td>117637.19</td>\n",
              "      <td>117846.21</td>\n",
              "    </tr>\n",
              "    <tr>\n",
              "      <th>3</th>\n",
              "      <td>2020-01-07</td>\n",
              "      <td>116500</td>\n",
              "      <td>117000</td>\n",
              "      <td>115500</td>\n",
              "      <td>115500</td>\n",
              "      <td>674196</td>\n",
              "      <td>-0.004310</td>\n",
              "      <td>116375.000000</td>\n",
              "      <td>116375.000000</td>\n",
              "      <td>117433.65</td>\n",
              "      <td>117754.20</td>\n",
              "    </tr>\n",
              "    <tr>\n",
              "      <th>4</th>\n",
              "      <td>2020-01-08</td>\n",
              "      <td>115000</td>\n",
              "      <td>115500</td>\n",
              "      <td>111500</td>\n",
              "      <td>112000</td>\n",
              "      <td>1044825</td>\n",
              "      <td>-0.030303</td>\n",
              "      <td>115500.000000</td>\n",
              "      <td>115500.000000</td>\n",
              "      <td>116916.16</td>\n",
              "      <td>117528.55</td>\n",
              "    </tr>\n",
              "    <tr>\n",
              "      <th>...</th>\n",
              "      <td>...</td>\n",
              "      <td>...</td>\n",
              "      <td>...</td>\n",
              "      <td>...</td>\n",
              "      <td>...</td>\n",
              "      <td>...</td>\n",
              "      <td>...</td>\n",
              "      <td>...</td>\n",
              "      <td>...</td>\n",
              "      <td>...</td>\n",
              "      <td>...</td>\n",
              "    </tr>\n",
              "    <tr>\n",
              "      <th>447</th>\n",
              "      <td>2021-10-25</td>\n",
              "      <td>207500</td>\n",
              "      <td>212000</td>\n",
              "      <td>206000</td>\n",
              "      <td>211000</td>\n",
              "      <td>649860</td>\n",
              "      <td>0.016867</td>\n",
              "      <td>204375.000000</td>\n",
              "      <td>208500.000000</td>\n",
              "      <td>206913.83</td>\n",
              "      <td>210099.97</td>\n",
              "    </tr>\n",
              "    <tr>\n",
              "      <th>448</th>\n",
              "      <td>2021-10-26</td>\n",
              "      <td>213000</td>\n",
              "      <td>214500</td>\n",
              "      <td>209000</td>\n",
              "      <td>213500</td>\n",
              "      <td>782736</td>\n",
              "      <td>0.011848</td>\n",
              "      <td>204700.000000</td>\n",
              "      <td>208350.000000</td>\n",
              "      <td>207541.09</td>\n",
              "      <td>210233.30</td>\n",
              "    </tr>\n",
              "    <tr>\n",
              "      <th>449</th>\n",
              "      <td>2021-10-27</td>\n",
              "      <td>214500</td>\n",
              "      <td>215000</td>\n",
              "      <td>212500</td>\n",
              "      <td>213500</td>\n",
              "      <td>606729</td>\n",
              "      <td>0.000000</td>\n",
              "      <td>205175.000000</td>\n",
              "      <td>208240.000000</td>\n",
              "      <td>208108.60</td>\n",
              "      <td>210361.41</td>\n",
              "    </tr>\n",
              "    <tr>\n",
              "      <th>450</th>\n",
              "      <td>2021-10-28</td>\n",
              "      <td>213000</td>\n",
              "      <td>214000</td>\n",
              "      <td>209500</td>\n",
              "      <td>210000</td>\n",
              "      <td>633732</td>\n",
              "      <td>-0.016393</td>\n",
              "      <td>205600.000000</td>\n",
              "      <td>208070.000000</td>\n",
              "      <td>208288.73</td>\n",
              "      <td>210347.24</td>\n",
              "    </tr>\n",
              "    <tr>\n",
              "      <th>451</th>\n",
              "      <td>2021-10-29</td>\n",
              "      <td>211500</td>\n",
              "      <td>212500</td>\n",
              "      <td>206500</td>\n",
              "      <td>208000</td>\n",
              "      <td>667275</td>\n",
              "      <td>-0.009524</td>\n",
              "      <td>205925.000000</td>\n",
              "      <td>207850.000000</td>\n",
              "      <td>208261.24</td>\n",
              "      <td>210255.19</td>\n",
              "    </tr>\n",
              "  </tbody>\n",
              "</table>\n",
              "<p>452 rows × 11 columns</p>\n",
              "</div>"
            ],
            "text/plain": [
              "           Date    Open    High  ...         50_SMA     20_EMA     50_EMA\n",
              "0    2020-01-02  121000  121000  ...  118000.000000  118000.00  118000.00\n",
              "1    2020-01-03  118500  119000  ...  117000.000000  117809.52  117921.57\n",
              "2    2020-01-06  116000  117000  ...  116666.666667  117637.19  117846.21\n",
              "3    2020-01-07  116500  117000  ...  116375.000000  117433.65  117754.20\n",
              "4    2020-01-08  115000  115500  ...  115500.000000  116916.16  117528.55\n",
              "..          ...     ...     ...  ...            ...        ...        ...\n",
              "447  2021-10-25  207500  212000  ...  208500.000000  206913.83  210099.97\n",
              "448  2021-10-26  213000  214500  ...  208350.000000  207541.09  210233.30\n",
              "449  2021-10-27  214500  215000  ...  208240.000000  208108.60  210361.41\n",
              "450  2021-10-28  213000  214000  ...  208070.000000  208288.73  210347.24\n",
              "451  2021-10-29  211500  212500  ...  207850.000000  208261.24  210255.19\n",
              "\n",
              "[452 rows x 11 columns]"
            ]
          },
          "metadata": {},
          "execution_count": 46
        }
      ]
    },
    {
      "cell_type": "code",
      "metadata": {
        "colab": {
          "base_uri": "https://localhost:8080/",
          "height": 363
        },
        "id": "W3bjvx5rEH07",
        "outputId": "747bf644-a357-40fb-bf96-f7959ce9e0ce"
      },
      "source": [
        "pd_price.corr()"
      ],
      "execution_count": 47,
      "outputs": [
        {
          "output_type": "execute_result",
          "data": {
            "text/html": [
              "<div>\n",
              "<style scoped>\n",
              "    .dataframe tbody tr th:only-of-type {\n",
              "        vertical-align: middle;\n",
              "    }\n",
              "\n",
              "    .dataframe tbody tr th {\n",
              "        vertical-align: top;\n",
              "    }\n",
              "\n",
              "    .dataframe thead th {\n",
              "        text-align: right;\n",
              "    }\n",
              "</style>\n",
              "<table border=\"1\" class=\"dataframe\">\n",
              "  <thead>\n",
              "    <tr style=\"text-align: right;\">\n",
              "      <th></th>\n",
              "      <th>Open</th>\n",
              "      <th>High</th>\n",
              "      <th>Low</th>\n",
              "      <th>Close</th>\n",
              "      <th>Volume</th>\n",
              "      <th>Change</th>\n",
              "      <th>20_SMA</th>\n",
              "      <th>50_SMA</th>\n",
              "      <th>20_EMA</th>\n",
              "      <th>50_EMA</th>\n",
              "    </tr>\n",
              "  </thead>\n",
              "  <tbody>\n",
              "    <tr>\n",
              "      <th>Open</th>\n",
              "      <td>1.000000</td>\n",
              "      <td>0.998445</td>\n",
              "      <td>0.999037</td>\n",
              "      <td>0.997855</td>\n",
              "      <td>-0.086021</td>\n",
              "      <td>-0.027081</td>\n",
              "      <td>0.977844</td>\n",
              "      <td>0.938257</td>\n",
              "      <td>0.984036</td>\n",
              "      <td>0.955863</td>\n",
              "    </tr>\n",
              "    <tr>\n",
              "      <th>High</th>\n",
              "      <td>0.998445</td>\n",
              "      <td>1.000000</td>\n",
              "      <td>0.998027</td>\n",
              "      <td>0.999001</td>\n",
              "      <td>-0.047854</td>\n",
              "      <td>0.007958</td>\n",
              "      <td>0.973371</td>\n",
              "      <td>0.931742</td>\n",
              "      <td>0.979992</td>\n",
              "      <td>0.949894</td>\n",
              "    </tr>\n",
              "    <tr>\n",
              "      <th>Low</th>\n",
              "      <td>0.999037</td>\n",
              "      <td>0.998027</td>\n",
              "      <td>1.000000</td>\n",
              "      <td>0.998736</td>\n",
              "      <td>-0.101181</td>\n",
              "      <td>-0.012075</td>\n",
              "      <td>0.979479</td>\n",
              "      <td>0.942051</td>\n",
              "      <td>0.985605</td>\n",
              "      <td>0.959204</td>\n",
              "    </tr>\n",
              "    <tr>\n",
              "      <th>Close</th>\n",
              "      <td>0.997855</td>\n",
              "      <td>0.999001</td>\n",
              "      <td>0.998736</td>\n",
              "      <td>1.000000</td>\n",
              "      <td>-0.069527</td>\n",
              "      <td>0.022149</td>\n",
              "      <td>0.975894</td>\n",
              "      <td>0.936321</td>\n",
              "      <td>0.982276</td>\n",
              "      <td>0.954000</td>\n",
              "    </tr>\n",
              "    <tr>\n",
              "      <th>Volume</th>\n",
              "      <td>-0.086021</td>\n",
              "      <td>-0.047854</td>\n",
              "      <td>-0.101181</td>\n",
              "      <td>-0.069527</td>\n",
              "      <td>1.000000</td>\n",
              "      <td>0.405614</td>\n",
              "      <td>-0.191276</td>\n",
              "      <td>-0.253390</td>\n",
              "      <td>-0.181530</td>\n",
              "      <td>-0.240718</td>\n",
              "    </tr>\n",
              "    <tr>\n",
              "      <th>Change</th>\n",
              "      <td>-0.027081</td>\n",
              "      <td>0.007958</td>\n",
              "      <td>-0.012075</td>\n",
              "      <td>0.022149</td>\n",
              "      <td>0.405614</td>\n",
              "      <td>1.000000</td>\n",
              "      <td>-0.064358</td>\n",
              "      <td>-0.064405</td>\n",
              "      <td>-0.058401</td>\n",
              "      <td>-0.062871</td>\n",
              "    </tr>\n",
              "    <tr>\n",
              "      <th>20_SMA</th>\n",
              "      <td>0.977844</td>\n",
              "      <td>0.973371</td>\n",
              "      <td>0.979479</td>\n",
              "      <td>0.975894</td>\n",
              "      <td>-0.191276</td>\n",
              "      <td>-0.064358</td>\n",
              "      <td>1.000000</td>\n",
              "      <td>0.976179</td>\n",
              "      <td>0.998804</td>\n",
              "      <td>0.986662</td>\n",
              "    </tr>\n",
              "    <tr>\n",
              "      <th>50_SMA</th>\n",
              "      <td>0.938257</td>\n",
              "      <td>0.931742</td>\n",
              "      <td>0.942051</td>\n",
              "      <td>0.936321</td>\n",
              "      <td>-0.253390</td>\n",
              "      <td>-0.064405</td>\n",
              "      <td>0.976179</td>\n",
              "      <td>1.000000</td>\n",
              "      <td>0.977427</td>\n",
              "      <td>0.996823</td>\n",
              "    </tr>\n",
              "    <tr>\n",
              "      <th>20_EMA</th>\n",
              "      <td>0.984036</td>\n",
              "      <td>0.979992</td>\n",
              "      <td>0.985605</td>\n",
              "      <td>0.982276</td>\n",
              "      <td>-0.181530</td>\n",
              "      <td>-0.058401</td>\n",
              "      <td>0.998804</td>\n",
              "      <td>0.977427</td>\n",
              "      <td>1.000000</td>\n",
              "      <td>0.987998</td>\n",
              "    </tr>\n",
              "    <tr>\n",
              "      <th>50_EMA</th>\n",
              "      <td>0.955863</td>\n",
              "      <td>0.949894</td>\n",
              "      <td>0.959204</td>\n",
              "      <td>0.954000</td>\n",
              "      <td>-0.240718</td>\n",
              "      <td>-0.062871</td>\n",
              "      <td>0.986662</td>\n",
              "      <td>0.996823</td>\n",
              "      <td>0.987998</td>\n",
              "      <td>1.000000</td>\n",
              "    </tr>\n",
              "  </tbody>\n",
              "</table>\n",
              "</div>"
            ],
            "text/plain": [
              "            Open      High       Low  ...    50_SMA    20_EMA    50_EMA\n",
              "Open    1.000000  0.998445  0.999037  ...  0.938257  0.984036  0.955863\n",
              "High    0.998445  1.000000  0.998027  ...  0.931742  0.979992  0.949894\n",
              "Low     0.999037  0.998027  1.000000  ...  0.942051  0.985605  0.959204\n",
              "Close   0.997855  0.999001  0.998736  ...  0.936321  0.982276  0.954000\n",
              "Volume -0.086021 -0.047854 -0.101181  ... -0.253390 -0.181530 -0.240718\n",
              "Change -0.027081  0.007958 -0.012075  ... -0.064405 -0.058401 -0.062871\n",
              "20_SMA  0.977844  0.973371  0.979479  ...  0.976179  0.998804  0.986662\n",
              "50_SMA  0.938257  0.931742  0.942051  ...  1.000000  0.977427  0.996823\n",
              "20_EMA  0.984036  0.979992  0.985605  ...  0.977427  1.000000  0.987998\n",
              "50_EMA  0.955863  0.949894  0.959204  ...  0.996823  0.987998  1.000000\n",
              "\n",
              "[10 rows x 10 columns]"
            ]
          },
          "metadata": {},
          "execution_count": 47
        }
      ]
    },
    {
      "cell_type": "code",
      "metadata": {
        "id": "U4DChqkYEX-t"
      },
      "source": [
        ""
      ],
      "execution_count": null,
      "outputs": []
    }
  ]
}