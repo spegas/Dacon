{
  "nbformat": 4,
  "nbformat_minor": 0,
  "metadata": {
    "colab": {
      "name": "Dacon_Data_Downloader.ipynb",
      "provenance": [],
      "authorship_tag": "ABX9TyNjCZ3teBt5fruPi0OIulrr",
      "include_colab_link": true
    },
    "kernelspec": {
      "name": "python3",
      "display_name": "Python 3"
    },
    "language_info": {
      "name": "python"
    },
    "accelerator": "GPU"
  },
  "cells": [
    {
      "cell_type": "markdown",
      "metadata": {
        "id": "view-in-github",
        "colab_type": "text"
      },
      "source": [
        "<a href=\"https://colab.research.google.com/github/spegas/Dacon/blob/main/Dacon_Data_Downloader.ipynb\" target=\"_parent\"><img src=\"https://colab.research.google.com/assets/colab-badge.svg\" alt=\"Open In Colab\"/></a>"
      ]
    },
    {
      "cell_type": "code",
      "source": [],
      "metadata": {
        "id": "X-MHAcy93EB5"
      },
      "execution_count": null,
      "outputs": []
    },
    {
      "cell_type": "markdown",
      "source": [
        "Google 드라이브 파일 ID 확인\n",
        "먼저 다운로드하려는 파일의 Google 드라이브 파일 ID를 확인해야합니다. 파일 ID는 파일 공유 링크에서 가져올 수 있습니다. 예를 들어, 파일 공유 링크가 \"https://drive.google.com/file/d/1234567890abcdef/view?usp=sharing\"인 경우, 파일 ID는 \"1234567890abcdef\"입니다."
      ],
      "metadata": {
        "id": "4nBk05D43ISL"
      }
    },
    {
      "cell_type": "markdown",
      "source": [
        "인증 및 드라이브 마운트\n",
        "Colab에서 Google 드라이브에 액세스하려면 먼저 인증해야합니다. 아래 코드를 실행하여 Google 드라이브에 마운트합니다."
      ],
      "metadata": {
        "id": "hfU1ZlSL3OpJ"
      }
    },
    {
      "cell_type": "code",
      "source": [
        "from google.colab import drive\n",
        "drive.mount('/content/drive')"
      ],
      "metadata": {
        "id": "S5hYM4313HuP",
        "outputId": "d62e7406-2d75-4fbc-dd8c-6df3f8a22028",
        "colab": {
          "base_uri": "https://localhost:8080/"
        }
      },
      "execution_count": 8,
      "outputs": [
        {
          "output_type": "stream",
          "name": "stdout",
          "text": [
            "Mounted at /content/drive\n"
          ]
        }
      ]
    },
    {
      "cell_type": "markdown",
      "source": [
        "이 코드를 실행하면 링크가 제공됩니다. 이 링크를 클릭하여 Google 계정에 로그인 한 다음 코드에 나오는 인증 코드를 복사하여 Colab에 붙여 넣어야합니다."
      ],
      "metadata": {
        "id": "W9KBMW8R3buW"
      }
    },
    {
      "cell_type": "markdown",
      "source": [
        "파일 다운로드\n",
        "파일 ID를 사용하여 다운로드하려는 파일을 식별한 후 gdown 라이브러리를 사용하여 파일을 다운로드합니다. 다음 코드를 실행하면 Google 드라이브에서 파일을 다운로드하고 현재 작업 디렉토리에 저장됩니다."
      ],
      "metadata": {
        "id": "jMEUIfjb3iGr"
      }
    },
    {
      "cell_type": "code",
      "source": [
        "!pip install gdown\n",
        "import gdown\n",
        "\n",
        "file_id = '1zwmBEg-Y3VmjZRDcPY0TBTaomJntPL96'\n",
        "url = f'https://drive.google.com/uc?id={file_id}'\n",
        "output = '/content/han_data.zip'\n",
        "gdown.download(url, output, quiet=False)"
      ],
      "metadata": {
        "colab": {
          "base_uri": "https://localhost:8080/"
        },
        "id": "Y45vVENy3XG-",
        "outputId": "e07efbdb-099a-4e6f-df00-fdb48bfb2b0e"
      },
      "execution_count": 9,
      "outputs": [
        {
          "output_type": "stream",
          "name": "stdout",
          "text": [
            "Looking in indexes: https://pypi.org/simple, https://us-python.pkg.dev/colab-wheels/public/simple/\n",
            "Requirement already satisfied: gdown in /usr/local/lib/python3.9/dist-packages (4.6.6)\n",
            "Requirement already satisfied: filelock in /usr/local/lib/python3.9/dist-packages (from gdown) (3.11.0)\n",
            "Requirement already satisfied: six in /usr/local/lib/python3.9/dist-packages (from gdown) (1.16.0)\n",
            "Requirement already satisfied: tqdm in /usr/local/lib/python3.9/dist-packages (from gdown) (4.65.0)\n",
            "Requirement already satisfied: requests[socks] in /usr/local/lib/python3.9/dist-packages (from gdown) (2.27.1)\n",
            "Requirement already satisfied: beautifulsoup4 in /usr/local/lib/python3.9/dist-packages (from gdown) (4.11.2)\n",
            "Requirement already satisfied: soupsieve>1.2 in /usr/local/lib/python3.9/dist-packages (from beautifulsoup4->gdown) (2.4)\n",
            "Requirement already satisfied: certifi>=2017.4.17 in /usr/local/lib/python3.9/dist-packages (from requests[socks]->gdown) (2022.12.7)\n",
            "Requirement already satisfied: urllib3<1.27,>=1.21.1 in /usr/local/lib/python3.9/dist-packages (from requests[socks]->gdown) (1.26.15)\n",
            "Requirement already satisfied: idna<4,>=2.5 in /usr/local/lib/python3.9/dist-packages (from requests[socks]->gdown) (3.4)\n",
            "Requirement already satisfied: charset-normalizer~=2.0.0 in /usr/local/lib/python3.9/dist-packages (from requests[socks]->gdown) (2.0.12)\n",
            "Requirement already satisfied: PySocks!=1.5.7,>=1.5.6 in /usr/local/lib/python3.9/dist-packages (from requests[socks]->gdown) (1.7.1)\n",
            "Access denied with the following error:\n"
          ]
        },
        {
          "output_type": "stream",
          "name": "stderr",
          "text": [
            "\n",
            " \tCannot retrieve the public link of the file. You may need to change\n",
            "\tthe permission to 'Anyone with the link', or have had many accesses. \n",
            "\n",
            "You may still be able to access the file from the browser:\n",
            "\n",
            "\t https://drive.google.com/uc?id=1zwmBEg-Y3VmjZRDcPY0TBTaomJntPL96 \n",
            "\n"
          ]
        }
      ]
    },
    {
      "cell_type": "code",
      "source": [
        "# Wget 다운로드 시작 (보안이 강화된 부분 적용), refersite : https://deeplify.dev/server/bash/download-google-drive-file-in-terminal"
      ],
      "metadata": {
        "id": "gMGYzWbkVjte"
      },
      "execution_count": null,
      "outputs": []
    },
    {
      "cell_type": "code",
      "source": [
        "! wget --load-cookies ~/cookies.txt \"https://docs.google.com/uc?export=download&confirm=$(wget --quiet --save-cookies ~/cookies.txt --keep-session-cookies --no-check-certificate 'https://docs.google.com/uc?export=download&id=1zwmBEg-Y3VmjZRDcPY0TBTaomJntPL96' -O- | sed -rn 's/.*confirm=([0-9A-Za-z_]+).*/\\1\\n/p')&id=1zwmBEg-Y3VmjZRDcPY0TBTaomJntPL96\" -O gdown.zip && rm -rf ~/cookies.txt"
      ],
      "metadata": {
        "id": "i8Clh2pVUZ4G",
        "outputId": "4afb7e67-746b-49d0-aa01-c7b1f4bb936a",
        "colab": {
          "base_uri": "https://localhost:8080/"
        }
      },
      "execution_count": 7,
      "outputs": [
        {
          "output_type": "stream",
          "name": "stdout",
          "text": [
            "--2023-04-13 13:41:59--  https://docs.google.com/uc?export=download&confirm=&id=1zwmBEg-Y3VmjZRDcPY0TBTaomJntPL96\n",
            "Resolving docs.google.com (docs.google.com)... 172.253.118.102, 172.253.118.101, 172.253.118.138, ...\n",
            "Connecting to docs.google.com (docs.google.com)|172.253.118.102|:443... connected.\n",
            "HTTP request sent, awaiting response... 302 Found\n",
            "Location: https://accounts.google.com/ServiceLogin?service=wise&passive=1209600&continue=https://docs.google.com/uc?export%3Ddownload%26confirm%26id%3D1zwmBEg-Y3VmjZRDcPY0TBTaomJntPL96&followup=https://docs.google.com/uc?export%3Ddownload%26confirm%26id%3D1zwmBEg-Y3VmjZRDcPY0TBTaomJntPL96 [following]\n",
            "--2023-04-13 13:41:59--  https://accounts.google.com/ServiceLogin?service=wise&passive=1209600&continue=https://docs.google.com/uc?export%3Ddownload%26confirm%26id%3D1zwmBEg-Y3VmjZRDcPY0TBTaomJntPL96&followup=https://docs.google.com/uc?export%3Ddownload%26confirm%26id%3D1zwmBEg-Y3VmjZRDcPY0TBTaomJntPL96\n",
            "Resolving accounts.google.com (accounts.google.com)... 74.125.200.84, 2404:6800:4003:c00::54\n",
            "Connecting to accounts.google.com (accounts.google.com)|74.125.200.84|:443... connected.\n",
            "HTTP request sent, awaiting response... 302 Moved Temporarily\n",
            "Location: https://accounts.google.com/InteractiveLogin?continue=https://docs.google.com/uc?export%3Ddownload%26confirm%26id%3D1zwmBEg-Y3VmjZRDcPY0TBTaomJntPL96&followup=https://docs.google.com/uc?export%3Ddownload%26confirm%26id%3D1zwmBEg-Y3VmjZRDcPY0TBTaomJntPL96&passive=1209600&service=wise&ifkv=AQMjQ7TmMtlILC1B7QpJlP5zEwZIBeCdNXTD_Zuf7hnQK7HLnBRPTkG1Ol_McS7z85TeCrS-ESj6 [following]\n",
            "--2023-04-13 13:42:00--  https://accounts.google.com/InteractiveLogin?continue=https://docs.google.com/uc?export%3Ddownload%26confirm%26id%3D1zwmBEg-Y3VmjZRDcPY0TBTaomJntPL96&followup=https://docs.google.com/uc?export%3Ddownload%26confirm%26id%3D1zwmBEg-Y3VmjZRDcPY0TBTaomJntPL96&passive=1209600&service=wise&ifkv=AQMjQ7TmMtlILC1B7QpJlP5zEwZIBeCdNXTD_Zuf7hnQK7HLnBRPTkG1Ol_McS7z85TeCrS-ESj6\n",
            "Reusing existing connection to accounts.google.com:443.\n",
            "HTTP request sent, awaiting response... 302 Moved Temporarily\n",
            "Location: https://accounts.google.com/v3/signin/identifier?dsh=S336524778%3A1681393320071630&continue=https%3A%2F%2Fdocs.google.com%2Fuc%3Fexport%3Ddownload%26confirm%26id%3D1zwmBEg-Y3VmjZRDcPY0TBTaomJntPL96&followup=https%3A%2F%2Fdocs.google.com%2Fuc%3Fexport%3Ddownload%26confirm%26id%3D1zwmBEg-Y3VmjZRDcPY0TBTaomJntPL96&ifkv=AQMjQ7SabpCLJK5O_TTwxHmZhp9qvkoRPNunXqFnfBIK8d0YuqBZV2UtOg7GFQrouOIua0x6BU42&passive=1209600&service=wise&flowName=WebLiteSignIn&flowEntry=ServiceLogin [following]\n",
            "--2023-04-13 13:42:00--  https://accounts.google.com/v3/signin/identifier?dsh=S336524778%3A1681393320071630&continue=https%3A%2F%2Fdocs.google.com%2Fuc%3Fexport%3Ddownload%26confirm%26id%3D1zwmBEg-Y3VmjZRDcPY0TBTaomJntPL96&followup=https%3A%2F%2Fdocs.google.com%2Fuc%3Fexport%3Ddownload%26confirm%26id%3D1zwmBEg-Y3VmjZRDcPY0TBTaomJntPL96&ifkv=AQMjQ7SabpCLJK5O_TTwxHmZhp9qvkoRPNunXqFnfBIK8d0YuqBZV2UtOg7GFQrouOIua0x6BU42&passive=1209600&service=wise&flowName=WebLiteSignIn&flowEntry=ServiceLogin\n",
            "Reusing existing connection to accounts.google.com:443.\n",
            "HTTP request sent, awaiting response... 200 OK\n",
            "Length: unspecified [text/html]\n",
            "Saving to: ‘gdown.zip’\n",
            "\n",
            "gdown.zip               [ <=>                ] 150.25K  --.-KB/s    in 0.02s   \n",
            "\n",
            "2023-04-13 13:42:00 (7.58 MB/s) - ‘gdown.zip’ saved [153852]\n",
            "\n"
          ]
        }
      ]
    },
    {
      "cell_type": "code",
      "source": [
        "# Wget 다운로드 종료 (보안이 강화된 부분 적용), refersite : https://deeplify.dev/server/bash/download-google-drive-file-in-terminal"
      ],
      "metadata": {
        "id": "2lTx4OYeVxMa"
      },
      "execution_count": null,
      "outputs": []
    },
    {
      "cell_type": "code",
      "source": [
        "# Wget BaseCode Download -> 다운로드 URL은 구글 크롬브라우저에서 다운로드 버튼에 링크되어져 있는 URL 정보 확인"
      ],
      "metadata": {
        "id": "XgG91nNpYDa8"
      },
      "execution_count": null,
      "outputs": []
    },
    {
      "cell_type": "code",
      "source": [
        "! wget https://dacon.s3.ap-northeast-2.amazonaws.com/codeshare/235953/6033/md_file.ipynb -O md_file_v2.ipynb"
      ],
      "metadata": {
        "id": "ZHe5Vhq4WrMC",
        "outputId": "17e0bf42-7fb4-49b0-b7a3-fc97826a2d71",
        "colab": {
          "base_uri": "https://localhost:8080/"
        }
      },
      "execution_count": null,
      "outputs": [
        {
          "output_type": "stream",
          "name": "stdout",
          "text": [
            "--2022-08-29 16:19:14--  https://dacon.s3.ap-northeast-2.amazonaws.com/codeshare/235953/6033/md_file.ipynb\n",
            "Resolving dacon.s3.ap-northeast-2.amazonaws.com (dacon.s3.ap-northeast-2.amazonaws.com)... 3.5.143.181\n",
            "Connecting to dacon.s3.ap-northeast-2.amazonaws.com (dacon.s3.ap-northeast-2.amazonaws.com)|3.5.143.181|:443... connected.\n",
            "HTTP request sent, awaiting response... 200 OK\n",
            "Length: 47467 (46K) [application/octet-stream]\n",
            "Saving to: ‘md_file_v2.ipynb’\n",
            "\n",
            "md_file_v2.ipynb    100%[===================>]  46.35K  --.-KB/s    in 0.1s    \n",
            "\n",
            "2022-08-29 16:19:15 (382 KB/s) - ‘md_file_v2.ipynb’ saved [47467/47467]\n",
            "\n"
          ]
        }
      ]
    },
    {
      "cell_type": "code",
      "source": [
        "# Wget BaseCode Download -> 다운로드 URL은 구글 크롬브라우저에서 다운로드 버튼에 링크되어져 있는 URL 정보 확인"
      ],
      "metadata": {
        "id": "Up17pTh_WsQp"
      },
      "execution_count": null,
      "outputs": []
    },
    {
      "cell_type": "code",
      "source": [
        "# [zip] 파일만 다운로드 가능. (시작)"
      ],
      "metadata": {
        "id": "3FRcdxVIVaMC"
      },
      "execution_count": null,
      "outputs": []
    },
    {
      "cell_type": "code",
      "source": [
        "# google driver에 있는 데이터 공유를 위한 설치 패키지\n",
        "# !pip install gdrive_dataset"
      ],
      "metadata": {
        "colab": {
          "base_uri": "https://localhost:8080/"
        },
        "id": "hmXk8BkIV2Y_",
        "outputId": "9e208ef3-4716-4e38-b13e-034f153af33f"
      },
      "execution_count": null,
      "outputs": [
        {
          "output_type": "stream",
          "name": "stdout",
          "text": [
            "Looking in indexes: https://pypi.org/simple, https://us-python.pkg.dev/colab-wheels/public/simple/\n",
            "Collecting gdrive_dataset\n",
            "  Downloading gdrive_dataset-0.0.6-py3-none-any.whl (2.1 kB)\n",
            "Requirement already satisfied: googledrivedownloader in /usr/local/lib/python3.7/dist-packages (from gdrive_dataset) (0.4)\n",
            "Installing collected packages: gdrive-dataset\n",
            "Successfully installed gdrive-dataset-0.0.6\n"
          ]
        }
      ]
    },
    {
      "cell_type": "code",
      "source": [
        "# 예를 들어: https://drive.google.com/file/d/abcdefgABCDEFG1234567/view 이 있다면\n",
        "# abcdefgABCDEFG1234567 이 위치가 file_id 입니다."
      ],
      "metadata": {
        "id": "prU4QcWRW-gV"
      },
      "execution_count": null,
      "outputs": []
    },
    {
      "cell_type": "code",
      "source": [
        "# file_id = # 이곳에 file_id 를 입력\n",
        "file_id ='1zwmBEg-Y3VmjZRDcPY0TBTaomJntPL96'\n",
        "loader.load_from_google_drive(file_id)"
      ],
      "metadata": {
        "colab": {
          "base_uri": "https://localhost:8080/",
          "height": 211
        },
        "id": "yQbYZmiRFHz0",
        "outputId": "e3d1d353-dee8-4248-ddf1-8b55d23f5519"
      },
      "execution_count": 2,
      "outputs": [
        {
          "output_type": "error",
          "ename": "NameError",
          "evalue": "ignored",
          "traceback": [
            "\u001b[0;31m---------------------------------------------------------------------------\u001b[0m",
            "\u001b[0;31mNameError\u001b[0m                                 Traceback (most recent call last)",
            "\u001b[0;32m<ipython-input-2-045e82750778>\u001b[0m in \u001b[0;36m<cell line: 3>\u001b[0;34m()\u001b[0m\n\u001b[1;32m      1\u001b[0m \u001b[0;31m# file_id = # 이곳에 file_id 를 입력\u001b[0m\u001b[0;34m\u001b[0m\u001b[0;34m\u001b[0m\u001b[0m\n\u001b[1;32m      2\u001b[0m \u001b[0mfile_id\u001b[0m \u001b[0;34m=\u001b[0m\u001b[0;34m'1zwmBEg-Y3VmjZRDcPY0TBTaomJntPL96'\u001b[0m\u001b[0;34m\u001b[0m\u001b[0;34m\u001b[0m\u001b[0m\n\u001b[0;32m----> 3\u001b[0;31m \u001b[0mloader\u001b[0m\u001b[0;34m.\u001b[0m\u001b[0mload_from_google_drive\u001b[0m\u001b[0;34m(\u001b[0m\u001b[0mfile_id\u001b[0m\u001b[0;34m)\u001b[0m\u001b[0;34m\u001b[0m\u001b[0;34m\u001b[0m\u001b[0m\n\u001b[0m",
            "\u001b[0;31mNameError\u001b[0m: name 'loader' is not defined"
          ]
        }
      ]
    },
    {
      "cell_type": "code",
      "source": [
        "from google_drive_downloader import GoogleDriveDownloader as gdd\n",
        "import urllib.request\n",
        "import zipfile\n",
        "import os"
      ],
      "metadata": {
        "id": "Zl9uCbuMWux0"
      },
      "execution_count": 3,
      "outputs": []
    },
    {
      "cell_type": "code",
      "source": [
        "def load_from_google_drive(file_id, folder='data/'):\n",
        "    gdd.download_file_from_google_drive(file_id=file_id, dest_path='./dataset.zip')\n",
        "\n",
        "    # local_zip = 'dataset.zip'\n",
        "    # unzip(local_zip, folder)\n",
        "\n",
        "    print('========== files ============', end='\\n\\n')\n",
        "    for f in os.listdir(folder):\n",
        "        print(os.path.join(folder, f))\n",
        "    print('\\n=============================')"
      ],
      "metadata": {
        "id": "NigPNoc-S0e5"
      },
      "execution_count": 4,
      "outputs": []
    },
    {
      "cell_type": "code",
      "source": [
        "my_data = gdd.download_file_from_google_drive('1zwmBEg-Y3VmjZRDcPY0TBTaomJntPL96', dest_path='./data/')"
      ],
      "metadata": {
        "id": "ADjyetZqS7Pe"
      },
      "execution_count": 5,
      "outputs": []
    },
    {
      "cell_type": "code",
      "source": [
        "# file_id = # 이곳에 file_id 를 입력\n",
        "file_id ='1zwmBEg-Y3VmjZRDcPY0TBTaomJntPL96'\n",
        "loader.load_from_google_drive(file_id)"
      ],
      "metadata": {
        "colab": {
          "base_uri": "https://localhost:8080/",
          "height": 211
        },
        "outputId": "3bad496d-c7b9-4230-94ec-61c658d896be",
        "id": "VB9CL-NATG_s"
      },
      "execution_count": 6,
      "outputs": [
        {
          "output_type": "error",
          "ename": "NameError",
          "evalue": "ignored",
          "traceback": [
            "\u001b[0;31m---------------------------------------------------------------------------\u001b[0m",
            "\u001b[0;31mNameError\u001b[0m                                 Traceback (most recent call last)",
            "\u001b[0;32m<ipython-input-6-045e82750778>\u001b[0m in \u001b[0;36m<cell line: 3>\u001b[0;34m()\u001b[0m\n\u001b[1;32m      1\u001b[0m \u001b[0;31m# file_id = # 이곳에 file_id 를 입력\u001b[0m\u001b[0;34m\u001b[0m\u001b[0;34m\u001b[0m\u001b[0m\n\u001b[1;32m      2\u001b[0m \u001b[0mfile_id\u001b[0m \u001b[0;34m=\u001b[0m\u001b[0;34m'1zwmBEg-Y3VmjZRDcPY0TBTaomJntPL96'\u001b[0m\u001b[0;34m\u001b[0m\u001b[0;34m\u001b[0m\u001b[0m\n\u001b[0;32m----> 3\u001b[0;31m \u001b[0mloader\u001b[0m\u001b[0;34m.\u001b[0m\u001b[0mload_from_google_drive\u001b[0m\u001b[0;34m(\u001b[0m\u001b[0mfile_id\u001b[0m\u001b[0;34m)\u001b[0m\u001b[0;34m\u001b[0m\u001b[0;34m\u001b[0m\u001b[0m\n\u001b[0m",
            "\u001b[0;31mNameError\u001b[0m: name 'loader' is not defined"
          ]
        }
      ]
    },
    {
      "cell_type": "code",
      "source": [
        "# file_id = # 이곳에 file_id 를 입력\n",
        "file_id ='1UhL-lkwilxMrJtW1tPoA0Nra3LPNGRTK'\n",
        "loader.load_from_google_drive(file_id)"
      ],
      "metadata": {
        "outputId": "858c0883-39ae-4af0-8227-07ad4d1796a9",
        "colab": {
          "base_uri": "https://localhost:8080/",
          "height": 363
        },
        "id": "tf3AObMHTDj9"
      },
      "execution_count": null,
      "outputs": [
        {
          "output_type": "error",
          "ename": "BadZipFile",
          "evalue": "ignored",
          "traceback": [
            "\u001b[0;31m---------------------------------------------------------------------------\u001b[0m",
            "\u001b[0;31mBadZipFile\u001b[0m                                Traceback (most recent call last)",
            "\u001b[0;32m<ipython-input-8-37a52192d6ff>\u001b[0m in \u001b[0;36m<module>\u001b[0;34m\u001b[0m\n\u001b[1;32m      1\u001b[0m \u001b[0;31m# file_id = # 이곳에 file_id 를 입력\u001b[0m\u001b[0;34m\u001b[0m\u001b[0;34m\u001b[0m\u001b[0;34m\u001b[0m\u001b[0m\n\u001b[1;32m      2\u001b[0m \u001b[0mfile_id\u001b[0m \u001b[0;34m=\u001b[0m\u001b[0;34m'1UhL-lkwilxMrJtW1tPoA0Nra3LPNGRTK'\u001b[0m\u001b[0;34m\u001b[0m\u001b[0;34m\u001b[0m\u001b[0m\n\u001b[0;32m----> 3\u001b[0;31m \u001b[0mloader\u001b[0m\u001b[0;34m.\u001b[0m\u001b[0mload_from_google_drive\u001b[0m\u001b[0;34m(\u001b[0m\u001b[0mfile_id\u001b[0m\u001b[0;34m)\u001b[0m\u001b[0;34m\u001b[0m\u001b[0;34m\u001b[0m\u001b[0m\n\u001b[0m",
            "\u001b[0;32m/usr/local/lib/python3.7/dist-packages/gdrivedataset/loader.py\u001b[0m in \u001b[0;36mload_from_google_drive\u001b[0;34m(file_id, folder)\u001b[0m\n\u001b[1;32m     22\u001b[0m \u001b[0;34m\u001b[0m\u001b[0m\n\u001b[1;32m     23\u001b[0m     \u001b[0mlocal_zip\u001b[0m \u001b[0;34m=\u001b[0m \u001b[0;34m'dataset.zip'\u001b[0m\u001b[0;34m\u001b[0m\u001b[0;34m\u001b[0m\u001b[0m\n\u001b[0;32m---> 24\u001b[0;31m     \u001b[0munzip\u001b[0m\u001b[0;34m(\u001b[0m\u001b[0mlocal_zip\u001b[0m\u001b[0;34m,\u001b[0m \u001b[0mfolder\u001b[0m\u001b[0;34m)\u001b[0m\u001b[0;34m\u001b[0m\u001b[0;34m\u001b[0m\u001b[0m\n\u001b[0m\u001b[1;32m     25\u001b[0m \u001b[0;34m\u001b[0m\u001b[0m\n\u001b[1;32m     26\u001b[0m     \u001b[0mprint\u001b[0m\u001b[0;34m(\u001b[0m\u001b[0;34m'========== files ============'\u001b[0m\u001b[0;34m,\u001b[0m \u001b[0mend\u001b[0m\u001b[0;34m=\u001b[0m\u001b[0;34m'\\n\\n'\u001b[0m\u001b[0;34m)\u001b[0m\u001b[0;34m\u001b[0m\u001b[0;34m\u001b[0m\u001b[0m\n",
            "\u001b[0;32m/usr/local/lib/python3.7/dist-packages/gdrivedataset/loader.py\u001b[0m in \u001b[0;36munzip\u001b[0;34m(source_file, dest_path)\u001b[0m\n\u001b[1;32m      7\u001b[0m \u001b[0;31m# treating Hangul encoding problem\u001b[0m\u001b[0;34m\u001b[0m\u001b[0;34m\u001b[0m\u001b[0;34m\u001b[0m\u001b[0m\n\u001b[1;32m      8\u001b[0m \u001b[0;32mdef\u001b[0m \u001b[0munzip\u001b[0m\u001b[0;34m(\u001b[0m\u001b[0msource_file\u001b[0m\u001b[0;34m,\u001b[0m \u001b[0mdest_path\u001b[0m\u001b[0;34m)\u001b[0m\u001b[0;34m:\u001b[0m\u001b[0;34m\u001b[0m\u001b[0;34m\u001b[0m\u001b[0m\n\u001b[0;32m----> 9\u001b[0;31m     \u001b[0;32mwith\u001b[0m \u001b[0mzipfile\u001b[0m\u001b[0;34m.\u001b[0m\u001b[0mZipFile\u001b[0m\u001b[0;34m(\u001b[0m\u001b[0msource_file\u001b[0m\u001b[0;34m,\u001b[0m \u001b[0;34m'r'\u001b[0m\u001b[0;34m)\u001b[0m \u001b[0;32mas\u001b[0m \u001b[0mzf\u001b[0m\u001b[0;34m:\u001b[0m\u001b[0;34m\u001b[0m\u001b[0;34m\u001b[0m\u001b[0m\n\u001b[0m\u001b[1;32m     10\u001b[0m         \u001b[0mzipInfo\u001b[0m \u001b[0;34m=\u001b[0m \u001b[0mzf\u001b[0m\u001b[0;34m.\u001b[0m\u001b[0minfolist\u001b[0m\u001b[0;34m(\u001b[0m\u001b[0;34m)\u001b[0m\u001b[0;34m\u001b[0m\u001b[0;34m\u001b[0m\u001b[0m\n\u001b[1;32m     11\u001b[0m         \u001b[0;32mfor\u001b[0m \u001b[0mmember\u001b[0m \u001b[0;32min\u001b[0m \u001b[0mzipInfo\u001b[0m\u001b[0;34m:\u001b[0m\u001b[0;34m\u001b[0m\u001b[0;34m\u001b[0m\u001b[0m\n",
            "\u001b[0;32m/usr/lib/python3.7/zipfile.py\u001b[0m in \u001b[0;36m__init__\u001b[0;34m(self, file, mode, compression, allowZip64, compresslevel)\u001b[0m\n\u001b[1;32m   1256\u001b[0m         \u001b[0;32mtry\u001b[0m\u001b[0;34m:\u001b[0m\u001b[0;34m\u001b[0m\u001b[0;34m\u001b[0m\u001b[0m\n\u001b[1;32m   1257\u001b[0m             \u001b[0;32mif\u001b[0m \u001b[0mmode\u001b[0m \u001b[0;34m==\u001b[0m \u001b[0;34m'r'\u001b[0m\u001b[0;34m:\u001b[0m\u001b[0;34m\u001b[0m\u001b[0;34m\u001b[0m\u001b[0m\n\u001b[0;32m-> 1258\u001b[0;31m                 \u001b[0mself\u001b[0m\u001b[0;34m.\u001b[0m\u001b[0m_RealGetContents\u001b[0m\u001b[0;34m(\u001b[0m\u001b[0;34m)\u001b[0m\u001b[0;34m\u001b[0m\u001b[0;34m\u001b[0m\u001b[0m\n\u001b[0m\u001b[1;32m   1259\u001b[0m             \u001b[0;32melif\u001b[0m \u001b[0mmode\u001b[0m \u001b[0;32min\u001b[0m \u001b[0;34m(\u001b[0m\u001b[0;34m'w'\u001b[0m\u001b[0;34m,\u001b[0m \u001b[0;34m'x'\u001b[0m\u001b[0;34m)\u001b[0m\u001b[0;34m:\u001b[0m\u001b[0;34m\u001b[0m\u001b[0;34m\u001b[0m\u001b[0m\n\u001b[1;32m   1260\u001b[0m                 \u001b[0;31m# set the modified flag so central directory gets written\u001b[0m\u001b[0;34m\u001b[0m\u001b[0;34m\u001b[0m\u001b[0;34m\u001b[0m\u001b[0m\n",
            "\u001b[0;32m/usr/lib/python3.7/zipfile.py\u001b[0m in \u001b[0;36m_RealGetContents\u001b[0;34m(self)\u001b[0m\n\u001b[1;32m   1323\u001b[0m             \u001b[0;32mraise\u001b[0m \u001b[0mBadZipFile\u001b[0m\u001b[0;34m(\u001b[0m\u001b[0;34m\"File is not a zip file\"\u001b[0m\u001b[0;34m)\u001b[0m\u001b[0;34m\u001b[0m\u001b[0;34m\u001b[0m\u001b[0m\n\u001b[1;32m   1324\u001b[0m         \u001b[0;32mif\u001b[0m \u001b[0;32mnot\u001b[0m \u001b[0mendrec\u001b[0m\u001b[0;34m:\u001b[0m\u001b[0;34m\u001b[0m\u001b[0;34m\u001b[0m\u001b[0m\n\u001b[0;32m-> 1325\u001b[0;31m             \u001b[0;32mraise\u001b[0m \u001b[0mBadZipFile\u001b[0m\u001b[0;34m(\u001b[0m\u001b[0;34m\"File is not a zip file\"\u001b[0m\u001b[0;34m)\u001b[0m\u001b[0;34m\u001b[0m\u001b[0;34m\u001b[0m\u001b[0m\n\u001b[0m\u001b[1;32m   1326\u001b[0m         \u001b[0;32mif\u001b[0m \u001b[0mself\u001b[0m\u001b[0;34m.\u001b[0m\u001b[0mdebug\u001b[0m \u001b[0;34m>\u001b[0m \u001b[0;36m1\u001b[0m\u001b[0;34m:\u001b[0m\u001b[0;34m\u001b[0m\u001b[0;34m\u001b[0m\u001b[0m\n\u001b[1;32m   1327\u001b[0m             \u001b[0mprint\u001b[0m\u001b[0;34m(\u001b[0m\u001b[0mendrec\u001b[0m\u001b[0;34m)\u001b[0m\u001b[0;34m\u001b[0m\u001b[0;34m\u001b[0m\u001b[0m\n",
            "\u001b[0;31mBadZipFile\u001b[0m: File is not a zip file"
          ]
        }
      ]
    },
    {
      "cell_type": "code",
      "source": [
        "# [zip] 파일만 다운로드 가능. (종료)"
      ],
      "metadata": {
        "id": "mZEjwMa3VhrZ"
      },
      "execution_count": null,
      "outputs": []
    }
  ]
}