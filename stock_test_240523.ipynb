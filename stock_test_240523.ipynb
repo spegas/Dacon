{
  "nbformat": 4,
  "nbformat_minor": 0,
  "metadata": {
    "colab": {
      "provenance": [],
      "authorship_tag": "ABX9TyO3dIXD+duiOV/JxsGCTf+H",
      "include_colab_link": true
    },
    "kernelspec": {
      "name": "python3",
      "display_name": "Python 3"
    },
    "language_info": {
      "name": "python"
    }
  },
  "cells": [
    {
      "cell_type": "markdown",
      "metadata": {
        "id": "view-in-github",
        "colab_type": "text"
      },
      "source": [
        "<a href=\"https://colab.research.google.com/github/spegas/Dacon/blob/main/stock_test_240523.ipynb\" target=\"_parent\"><img src=\"https://colab.research.google.com/assets/colab-badge.svg\" alt=\"Open In Colab\"/></a>"
      ]
    },
    {
      "cell_type": "code",
      "source": [
        "# 주식 및 기타 금융 데이터를 가지고 오기 위해서 관련 패키지 설치\n",
        "# 패키지 사이트 주소 : https://github.com/FinanceData/FinanceDataReader\n",
        "!pip install finance-datareader"
      ],
      "metadata": {
        "colab": {
          "base_uri": "https://localhost:8080/"
        },
        "id": "1hUQ4fdw5Fv1",
        "outputId": "2e1dc076-4067-4dcf-a352-78364eedfb02"
      },
      "execution_count": null,
      "outputs": [
        {
          "output_type": "stream",
          "name": "stdout",
          "text": [
            "Collecting finance-datareader\n",
            "  Downloading finance_datareader-0.9.90-py3-none-any.whl (46 kB)\n",
            "\u001b[2K     \u001b[90m━━━━━━━━━━━━━━━━━━━━━━━━━━━━━━━━━━━━━━━━\u001b[0m \u001b[32m46.6/46.6 kB\u001b[0m \u001b[31m1.7 MB/s\u001b[0m eta \u001b[36m0:00:00\u001b[0m\n",
            "\u001b[?25hRequirement already satisfied: pandas>=0.19.2 in /usr/local/lib/python3.10/dist-packages (from finance-datareader) (2.0.3)\n",
            "Requirement already satisfied: requests>=2.3.0 in /usr/local/lib/python3.10/dist-packages (from finance-datareader) (2.31.0)\n",
            "Collecting requests-file (from finance-datareader)\n",
            "  Downloading requests_file-2.1.0-py2.py3-none-any.whl (4.2 kB)\n",
            "Requirement already satisfied: lxml in /usr/local/lib/python3.10/dist-packages (from finance-datareader) (4.9.4)\n",
            "Requirement already satisfied: tqdm in /usr/local/lib/python3.10/dist-packages (from finance-datareader) (4.66.4)\n",
            "Requirement already satisfied: python-dateutil>=2.8.2 in /usr/local/lib/python3.10/dist-packages (from pandas>=0.19.2->finance-datareader) (2.8.2)\n",
            "Requirement already satisfied: pytz>=2020.1 in /usr/local/lib/python3.10/dist-packages (from pandas>=0.19.2->finance-datareader) (2023.4)\n",
            "Requirement already satisfied: tzdata>=2022.1 in /usr/local/lib/python3.10/dist-packages (from pandas>=0.19.2->finance-datareader) (2024.1)\n",
            "Requirement already satisfied: numpy>=1.21.0 in /usr/local/lib/python3.10/dist-packages (from pandas>=0.19.2->finance-datareader) (1.25.2)\n",
            "Requirement already satisfied: charset-normalizer<4,>=2 in /usr/local/lib/python3.10/dist-packages (from requests>=2.3.0->finance-datareader) (3.3.2)\n",
            "Requirement already satisfied: idna<4,>=2.5 in /usr/local/lib/python3.10/dist-packages (from requests>=2.3.0->finance-datareader) (3.7)\n",
            "Requirement already satisfied: urllib3<3,>=1.21.1 in /usr/local/lib/python3.10/dist-packages (from requests>=2.3.0->finance-datareader) (2.0.7)\n",
            "Requirement already satisfied: certifi>=2017.4.17 in /usr/local/lib/python3.10/dist-packages (from requests>=2.3.0->finance-datareader) (2024.2.2)\n",
            "Requirement already satisfied: six>=1.5 in /usr/local/lib/python3.10/dist-packages (from python-dateutil>=2.8.2->pandas>=0.19.2->finance-datareader) (1.16.0)\n",
            "Installing collected packages: requests-file, finance-datareader\n",
            "Successfully installed finance-datareader-0.9.90 requests-file-2.1.0\n"
          ]
        }
      ]
    },
    {
      "cell_type": "code",
      "source": [
        "import FinanceDataReader as fdr"
      ],
      "metadata": {
        "id": "ZIp0GR6FVNiK"
      },
      "execution_count": null,
      "outputs": []
    },
    {
      "cell_type": "code",
      "source": [
        "import pandas as pd\n",
        "import numpy as np\n",
        "from datetime import datetime, timedelta\n",
        "import time"
      ],
      "metadata": {
        "id": "OLQPWTcG-FA5"
      },
      "execution_count": null,
      "outputs": []
    },
    {
      "cell_type": "code",
      "source": [
        "# 시가총액 순서대로 데이터를 받아오기\n",
        "pd_marcap_data = fdr.StockListing('KRX-MARCAP')\n",
        "print(pd_marcap_data.head(5))\n",
        "print(pd_marcap_data.columns)"
      ],
      "metadata": {
        "colab": {
          "base_uri": "https://localhost:8080/"
        },
        "id": "dcXYCodMCmAq",
        "outputId": "fc141574-a30d-4404-b30e-693617c07903"
      },
      "execution_count": null,
      "outputs": [
        {
          "output_type": "stream",
          "name": "stdout",
          "text": [
            "     Code        ISU_CD      Name Market Dept   Close ChangeCode  Changes  \\\n",
            "0  005930  KR7005930003      삼성전자  KOSPI        78300          1      600   \n",
            "1  000660  KR7000660001    SK하이닉스  KOSPI       200000          1     2300   \n",
            "2  373220  KR7373220003  LG에너지솔루션  KOSPI       362000          2    -2000   \n",
            "3  005380  KR7005380001       현대차  KOSPI       271500          2    -5500   \n",
            "4  207940  KR7207940008  삼성바이오로직스  KOSPI       770000          2    -7000   \n",
            "\n",
            "   ChagesRatio    Open    High     Low    Volume         Amount  \\\n",
            "0         0.77   77700   79100   77100  18728087  1462378998195   \n",
            "1         1.16  203500  204000  198200   4681849   942514526000   \n",
            "2        -0.55  364000  366000  360000    157841    57243528000   \n",
            "3        -1.99  273500  275000  267500   1886248   511318633500   \n",
            "4        -0.90  773000  779000  770000     73622    56939614000   \n",
            "\n",
            "            Marcap      Stocks MarketId  \n",
            "0  467433973665000  5969782550      STK  \n",
            "1  145600473000000   728002365      STK  \n",
            "2   84708000000000   234000000      STK  \n",
            "3   56856495856500   209416191      STK  \n",
            "4   54803980000000    71174000      STK  \n",
            "Index(['Code', 'ISU_CD', 'Name', 'Market', 'Dept', 'Close', 'ChangeCode',\n",
            "       'Changes', 'ChagesRatio', 'Open', 'High', 'Low', 'Volume', 'Amount',\n",
            "       'Marcap', 'Stocks', 'MarketId'],\n",
            "      dtype='object')\n"
          ]
        }
      ]
    },
    {
      "cell_type": "code",
      "source": [
        "pd_kospi_marcp = pd_marcap_data[pd_marcap_data['Market']=='KOSPI']\n",
        "print(pd_kospi_marcp.head(5))\n",
        "\n",
        "pd_kospi_top50 = pd_kospi_marcp.iloc[0:10, :].copy()\n",
        "pd_kospi_top50 = pd_kospi_top50.reset_index(drop=True)\n",
        "print(pd_kospi_top50.head(5))"
      ],
      "metadata": {
        "colab": {
          "base_uri": "https://localhost:8080/"
        },
        "id": "TFiXUIzD-Lbs",
        "outputId": "653fc578-f1a0-4029-9b1f-10a9f21b665a"
      },
      "execution_count": null,
      "outputs": [
        {
          "output_type": "stream",
          "name": "stdout",
          "text": [
            "     Code        ISU_CD      Name Market Dept   Close ChangeCode  Changes  \\\n",
            "0  005930  KR7005930003      삼성전자  KOSPI        78300          1      600   \n",
            "1  000660  KR7000660001    SK하이닉스  KOSPI       200000          1     2300   \n",
            "2  373220  KR7373220003  LG에너지솔루션  KOSPI       362000          2    -2000   \n",
            "3  005380  KR7005380001       현대차  KOSPI       271500          2    -5500   \n",
            "4  207940  KR7207940008  삼성바이오로직스  KOSPI       770000          2    -7000   \n",
            "\n",
            "   ChagesRatio    Open    High     Low    Volume         Amount  \\\n",
            "0         0.77   77700   79100   77100  18728087  1462378998195   \n",
            "1         1.16  203500  204000  198200   4681849   942514526000   \n",
            "2        -0.55  364000  366000  360000    157841    57243528000   \n",
            "3        -1.99  273500  275000  267500   1886248   511318633500   \n",
            "4        -0.90  773000  779000  770000     73622    56939614000   \n",
            "\n",
            "            Marcap      Stocks MarketId  \n",
            "0  467433973665000  5969782550      STK  \n",
            "1  145600473000000   728002365      STK  \n",
            "2   84708000000000   234000000      STK  \n",
            "3   56856495856500   209416191      STK  \n",
            "4   54803980000000    71174000      STK  \n",
            "     Code        ISU_CD      Name Market Dept   Close ChangeCode  Changes  \\\n",
            "0  005930  KR7005930003      삼성전자  KOSPI        78300          1      600   \n",
            "1  000660  KR7000660001    SK하이닉스  KOSPI       200000          1     2300   \n",
            "2  373220  KR7373220003  LG에너지솔루션  KOSPI       362000          2    -2000   \n",
            "3  005380  KR7005380001       현대차  KOSPI       271500          2    -5500   \n",
            "4  207940  KR7207940008  삼성바이오로직스  KOSPI       770000          2    -7000   \n",
            "\n",
            "   ChagesRatio    Open    High     Low    Volume         Amount  \\\n",
            "0         0.77   77700   79100   77100  18728087  1462378998195   \n",
            "1         1.16  203500  204000  198200   4681849   942514526000   \n",
            "2        -0.55  364000  366000  360000    157841    57243528000   \n",
            "3        -1.99  273500  275000  267500   1886248   511318633500   \n",
            "4        -0.90  773000  779000  770000     73622    56939614000   \n",
            "\n",
            "            Marcap      Stocks MarketId  \n",
            "0  467433973665000  5969782550      STK  \n",
            "1  145600473000000   728002365      STK  \n",
            "2   84708000000000   234000000      STK  \n",
            "3   56856495856500   209416191      STK  \n",
            "4   54803980000000    71174000      STK  \n"
          ]
        }
      ]
    },
    {
      "cell_type": "code",
      "source": [
        "pd_kosdaq_marcp = pd_marcap_data[pd_marcap_data['Market']=='KOSDAQ']\n",
        "print(pd_kosdaq_marcp.head(5))\n",
        "\n",
        "pd_kosdaq_top50 = pd_kosdaq_marcp.iloc[0:10, :].copy()\n",
        "pd_kosdaq_top50 = pd_kosdaq_top50.reset_index(drop=True)\n",
        "print(pd_kosdaq_top50.head(5))"
      ],
      "metadata": {
        "colab": {
          "base_uri": "https://localhost:8080/"
        },
        "id": "0DlpaoGP-Lnw",
        "outputId": "de60faf5-3a5c-4296-ac63-efc512334ed6"
      },
      "execution_count": null,
      "outputs": [
        {
          "output_type": "stream",
          "name": "stdout",
          "text": [
            "       Code        ISU_CD    Name  Market   Dept   Close ChangeCode  Changes  \\\n",
            "26   086520  KR7086520004    에코프로  KOSDAQ  우량기업부   96800          2     -400   \n",
            "61   028300  KR7028300002     HLB  KOSDAQ  중견기업부   48700          2     -600   \n",
            "62   348370  KR7348370008      엔켐  KOSDAQ  벤처기업부  323000          2    -4000   \n",
            "103  068760  KR7068760008  셀트리온제약  KOSDAQ  우량기업부   92800          3        0   \n",
            "110  403870  KR7403870009    HPSP  KOSDAQ  중견기업부   41750          1      150   \n",
            "\n",
            "     ChagesRatio    Open    High     Low    Volume        Amount  \\\n",
            "26         -0.41   96200   97500   95400    673359   64975978700   \n",
            "61         -1.22   49500   57400   48700  14556424  760523066950   \n",
            "62         -1.22  327500  331000  318000    231786   75516686000   \n",
            "103         0.00   92900   93700   92500     70062    6505685300   \n",
            "110         0.36   42200   42250   41450   1373738   57502034800   \n",
            "\n",
            "             Marcap     Stocks MarketId  \n",
            "26   12887791312000  133138340      KSQ  \n",
            "61    6372169226800  130845364      KSQ  \n",
            "62    6165847776000   19089312      KSQ  \n",
            "103   3860169398400   41596653      KSQ  \n",
            "110   3462500512000   82934144      KSQ  \n",
            "     Code        ISU_CD    Name  Market   Dept   Close ChangeCode  Changes  \\\n",
            "0  086520  KR7086520004    에코프로  KOSDAQ  우량기업부   96800          2     -400   \n",
            "1  028300  KR7028300002     HLB  KOSDAQ  중견기업부   48700          2     -600   \n",
            "2  348370  KR7348370008      엔켐  KOSDAQ  벤처기업부  323000          2    -4000   \n",
            "3  068760  KR7068760008  셀트리온제약  KOSDAQ  우량기업부   92800          3        0   \n",
            "4  403870  KR7403870009    HPSP  KOSDAQ  중견기업부   41750          1      150   \n",
            "\n",
            "   ChagesRatio    Open    High     Low    Volume        Amount  \\\n",
            "0        -0.41   96200   97500   95400    673359   64975978700   \n",
            "1        -1.22   49500   57400   48700  14556424  760523066950   \n",
            "2        -1.22  327500  331000  318000    231786   75516686000   \n",
            "3         0.00   92900   93700   92500     70062    6505685300   \n",
            "4         0.36   42200   42250   41450   1373738   57502034800   \n",
            "\n",
            "           Marcap     Stocks MarketId  \n",
            "0  12887791312000  133138340      KSQ  \n",
            "1   6372169226800  130845364      KSQ  \n",
            "2   6165847776000   19089312      KSQ  \n",
            "3   3860169398400   41596653      KSQ  \n",
            "4   3462500512000   82934144      KSQ  \n"
          ]
        }
      ]
    },
    {
      "cell_type": "code",
      "source": [
        "# 2. 종목별 데이터 다운로드 및 가격 변동폭 계산\n",
        "def get_price_change(stock_code):\n",
        "\n",
        "  end_date = datetime.now()\n",
        "  start_date = end_date - timedelta(days=30)\n",
        "\n",
        "  print(\" -- stock_code -- \")\n",
        "  print(stock_code)\n",
        "\n",
        "  # print(\" -- stock_code, start_date, end_date -- \")\n",
        "  # print(stock_code, start_date, end_date)\n",
        "\n",
        "  fetch_df = fdr.DataReader(stock_code, start_date, end_date)\n",
        "\n",
        "  print(\" -- fetch_df -- \")\n",
        "  print(fetch_df.head(5))\n",
        "\n",
        "  time.sleep(1)\n",
        "\n",
        "  if not fetch_df.empty:\n",
        "      max_price = fetch_df['Close'].max()\n",
        "      min_price = fetch_df['Close'].min()\n",
        "      price_change = max_price - min_price\n",
        "      change_percent = (price_change/fetch_df['Close'].mean()) * 100\n",
        "\n",
        "      return min_price, max_price, price_change, change_percent\n",
        "  return 0, 0, 0, 0"
      ],
      "metadata": {
        "id": "yGpnLKeO-L_Y"
      },
      "execution_count": null,
      "outputs": []
    },
    {
      "cell_type": "code",
      "source": [
        "# 3. 상위 30개 종목의 변동폭 계산\n",
        "\n",
        "pd_kospi_top50.loc[:, 'MinPrice'] = 0\n",
        "pd_kospi_top50.loc[:, 'MaxPrice'] = 0\n",
        "pd_kospi_top50.loc[:, 'PriceChange'] = 0\n",
        "pd_kospi_top50.loc[:, 'ChangePercent'] = 0\n",
        "\n",
        "\n",
        "pd_kospi_top50[['MinPrice', 'MaxPrice', 'PriceChange', 'ChangePercent']] = pd_kospi_top50['Code'].apply(lambda x: pd.Series(get_price_change(x)))\n",
        "\n",
        "print(\" -- pd_kospi_top50 -- \")\n",
        "print(pd_kospi_top50.head(5))\n",
        "\n",
        "# 4. 가격 변동폭이 큰 순서대로 정리\n",
        "pd_kospi_sorted = pd_kospi_top50.sort_values(by='ChangePercent', ascending=False).reset_index(drop=True)\n",
        "\n",
        "# 결과 출력\n",
        "print(\"KOSDAQ 상위 50개 종목 변동폭 순서\")\n",
        "print(pd_kospi_sorted[['Name', 'Code', 'ChangePercent', 'PriceChange', 'MinPrice', 'MaxPrice']])\n"
      ],
      "metadata": {
        "colab": {
          "base_uri": "https://localhost:8080/"
        },
        "id": "N3ZeQ-3K-KRm",
        "outputId": "ea713dc4-8bef-43dd-ba23-30097297a9f2"
      },
      "execution_count": null,
      "outputs": [
        {
          "output_type": "stream",
          "name": "stdout",
          "text": [
            " -- stock_code -- \n",
            "005930\n",
            " -- fetch_df -- \n",
            "             Open   High    Low  Close    Volume    Change\n",
            "Date                                                      \n",
            "2024-04-24  77500  78800  77200  78600  22166150  0.041060\n",
            "2024-04-25  77300  77500  76300  76300  15549134 -0.029262\n",
            "2024-04-26  77800  77900  76500  76700  12755629  0.005242\n",
            "2024-04-29  77400  77600  76200  76700  14664474  0.000000\n",
            "2024-04-30  77000  78500  76600  77500  19007007  0.010430\n",
            " -- stock_code -- \n",
            "000660\n",
            " -- fetch_df -- \n",
            "              Open    High     Low   Close   Volume    Change\n",
            "Date                                                         \n",
            "2024-04-24  178900  180200  176300  179800  4254632  0.051462\n",
            "2024-04-25  173800  176700  170600  170600  5332149 -0.051168\n",
            "2024-04-26  176200  178300  174900  177800  5471765  0.042204\n",
            "2024-04-29  179100  180400  175600  175900  2892809 -0.010686\n",
            "2024-04-30  175900  179000  173800  174200  3655060 -0.009665\n",
            " -- stock_code -- \n",
            "373220\n",
            " -- fetch_df -- \n",
            "              Open    High     Low   Close  Volume    Change\n",
            "Date                                                        \n",
            "2024-04-24  380500  389500  378000  385000  241390  0.040541\n",
            "2024-04-25  380000  381000  372000  372500  176196 -0.032468\n",
            "2024-04-26  373000  375000  367500  372000  143701 -0.001342\n",
            "2024-04-29  375000  378500  372000  378500  150391  0.017473\n",
            "2024-04-30  382500  390000  382500  389000  276918  0.027741\n",
            " -- stock_code -- \n",
            "005380\n",
            " -- fetch_df -- \n",
            "              Open    High     Low   Close   Volume    Change\n",
            "Date                                                         \n",
            "2024-04-24  249000  253500  247500  252500  1242059  0.012024\n",
            "2024-04-25  251000  254000  246000  250000  1297404 -0.009901\n",
            "2024-04-26  250000  253500  243000  249500   980459 -0.002000\n",
            "2024-04-29  249000  254500  245500  251500   852780  0.008016\n",
            "2024-04-30  250000  253000  248000  251000   545747 -0.001988\n",
            " -- stock_code -- \n",
            "207940\n",
            " -- fetch_df -- \n",
            "              Open    High     Low   Close  Volume    Change\n",
            "Date                                                        \n",
            "2024-04-24  799000  804000  788000  790000   48667 -0.001264\n",
            "2024-04-25  783000  789000  775000  780000   68732 -0.012658\n",
            "2024-04-26  779000  780000  769000  770000   82298 -0.012821\n",
            "2024-04-29  775000  778000  768000  775000   90707  0.006494\n",
            "2024-04-30  776000  787000  775000  781000   60733  0.007742\n",
            " -- stock_code -- \n",
            "005935\n",
            " -- fetch_df -- \n",
            "             Open   High    Low  Close   Volume    Change\n",
            "Date                                                     \n",
            "2024-04-24  64200  65800  64200  65400  1613969  0.029921\n",
            "2024-04-25  64500  64800  63900  64100   939691 -0.019878\n",
            "2024-04-26  64700  65000  64300  64300   655555  0.003120\n",
            "2024-04-29  64700  64900  64000  64700   814870  0.006221\n",
            "2024-04-30  64700  66000  64600  65200  1319915  0.007728\n",
            " -- stock_code -- \n",
            "000270\n",
            " -- fetch_df -- \n",
            "              Open    High     Low   Close   Volume    Change\n",
            "Date                                                         \n",
            "2024-04-24  114800  116800  114200  116200  1178637  0.002588\n",
            "2024-04-25  114800  118000  114200  116600  1708852  0.003442\n",
            "2024-04-26  116600  121500  114500  118200  2705868  0.013722\n",
            "2024-04-29  119500  121300  117600  118300  1820652  0.000846\n",
            "2024-04-30  118100  119500  117200  118000  1264927 -0.002536\n",
            " -- stock_code -- \n",
            "068270\n",
            " -- fetch_df -- \n",
            "              Open    High     Low   Close   Volume    Change\n",
            "Date                                                         \n",
            "2024-04-24  180200  180900  179100  179500   279156 -0.001113\n",
            "2024-04-25  177700  179000  176100  177400   307643 -0.011699\n",
            "2024-04-26  177500  178800  176300  176600   221176 -0.004510\n",
            "2024-04-29  178500  183800  178500  183700   642499  0.040204\n",
            "2024-04-30  183700  191200  183000  189000  1227117  0.028851\n",
            " -- stock_code -- \n",
            "005490\n",
            " -- fetch_df -- \n",
            "              Open    High     Low   Close  Volume    Change\n",
            "Date                                                        \n",
            "2024-04-24  399500  403500  395500  396000  362468  0.011494\n",
            "2024-04-25  392500  398500  391000  392500  298528 -0.008838\n",
            "2024-04-26  395000  395500  389500  394500  255838  0.005096\n",
            "2024-04-29  393500  409000  392000  407000  450439  0.031686\n",
            "2024-04-30  412000  412000  404000  405000  328307 -0.004914\n",
            " -- stock_code -- \n",
            "105560\n",
            " -- fetch_df -- \n",
            "             Open   High    Low  Close   Volume    Change\n",
            "Date                                                     \n",
            "2024-04-24  69900  71600  68700  68900   997947 -0.018519\n",
            "2024-04-25  68300  70600  68200  69300   745906  0.005806\n",
            "2024-04-26  73000  76900  72000  76000  2421484  0.096681\n",
            "2024-04-29  74100  78000  74000  76600  1741772  0.007895\n",
            "2024-04-30  76000  76800  74200  75600  1776194 -0.013055\n",
            " -- pd_kospi_top50 -- \n",
            "     Code        ISU_CD      Name Market Dept   Close ChangeCode  Changes  \\\n",
            "0  005930  KR7005930003      삼성전자  KOSPI        78300          1      600   \n",
            "1  000660  KR7000660001    SK하이닉스  KOSPI       200000          1     2300   \n",
            "2  373220  KR7373220003  LG에너지솔루션  KOSPI       362000          2    -2000   \n",
            "3  005380  KR7005380001       현대차  KOSPI       271500          2    -5500   \n",
            "4  207940  KR7207940008  삼성바이오로직스  KOSPI       770000          2    -7000   \n",
            "\n",
            "   ChagesRatio    Open  ...     Low    Volume         Amount           Marcap  \\\n",
            "0         0.77   77700  ...   77100  18728087  1462378998195  467433973665000   \n",
            "1         1.16  203500  ...  198200   4681849   942514526000  145600473000000   \n",
            "2        -0.55  364000  ...  360000    157841    57243528000   84708000000000   \n",
            "3        -1.99  273500  ...  267500   1886248   511318633500   56856495856500   \n",
            "4        -0.90  773000  ...  770000     73622    56939614000   54803980000000   \n",
            "\n",
            "       Stocks  MarketId  MinPrice  MaxPrice  PriceChange  ChangePercent  \n",
            "0  5969782550       STK   76300.0   81300.0       5000.0       6.382264  \n",
            "1   728002365       STK  170600.0  200000.0      29400.0      16.098911  \n",
            "2   234000000       STK  362000.0  393000.0      31000.0       8.156765  \n",
            "3   209416191       STK  237000.0  277000.0      40000.0      16.028683  \n",
            "4    71174000       STK  770000.0  791000.0      21000.0       2.689404  \n",
            "\n",
            "[5 rows x 21 columns]\n",
            "KOSDAQ 상위 50개 종목 변동폭 순서\n",
            "       Name    Code  ChangePercent  PriceChange  MinPrice  MaxPrice\n",
            "0      KB금융  105560      16.507046      12700.0   68900.0   81600.0\n",
            "1    SK하이닉스  000660      16.098911      29400.0  170600.0  200000.0\n",
            "2       현대차  005380      16.028683      40000.0  237000.0  277000.0\n",
            "3      셀트리온  068270       9.601348      18000.0  176600.0  194600.0\n",
            "4  LG에너지솔루션  373220       8.156765      31000.0  362000.0  393000.0\n",
            "5        기아  000270       7.591029       8800.0  111700.0  120500.0\n",
            "6      삼성전자  005930       6.382264       5000.0   76300.0   81300.0\n",
            "7  POSCO홀딩스  005490       4.887863      19500.0  387500.0  407000.0\n",
            "8     삼성전자우  005935       4.313630       2800.0   64100.0   66900.0\n",
            "9  삼성바이오로직스  207940       2.689404      21000.0  770000.0  791000.0\n"
          ]
        }
      ]
    },
    {
      "cell_type": "code",
      "source": [
        "# 3. 상위 30개 종목의 변동폭 계산\n",
        "\n",
        "pd_kosdaq_top50.loc[:, 'MinPrice'] = 0\n",
        "pd_kosdaq_top50.loc[:, 'MaxPrice'] = 0\n",
        "pd_kosdaq_top50.loc[:, 'PriceChange'] = 0\n",
        "pd_kosdaq_top50.loc[:, 'ChangePercent'] = 0\n",
        "\n",
        "\n",
        "pd_kosdaq_top50[['MinPrice', 'MaxPrice', 'PriceChange', 'ChangePercent']] = pd_kosdaq_top50['Code'].apply(lambda x: pd.Series(get_price_change(x)))\n",
        "\n",
        "print(\" -- pd_kosdaq_top50 -- \")\n",
        "print(pd_kosdaq_top50.head(5))\n",
        "\n",
        "# 4. 가격 변동폭이 큰 순서대로 정리\n",
        "pd_kosdaq_sorted = pd_kosdaq_top50.sort_values(by='ChangePercent', ascending=False).reset_index(drop=True)\n",
        "\n",
        "# 결과 출력\n",
        "print(\"KOSDAQ 상위 50개 종목 변동폭 순서\")\n",
        "print(pd_kosdaq_sorted[['Name', 'Code', 'ChangePercent', 'PriceChange', 'MinPrice', 'MaxPrice']])"
      ],
      "metadata": {
        "colab": {
          "base_uri": "https://localhost:8080/"
        },
        "id": "vapPV1-uagnc",
        "outputId": "8c3fbab3-3381-4c11-daa1-22964df40a07"
      },
      "execution_count": null,
      "outputs": [
        {
          "output_type": "stream",
          "name": "stdout",
          "text": [
            " -- stock_code -- \n",
            "086520\n",
            " -- fetch_df -- \n",
            "              Open    High     Low   Close   Volume    Change\n",
            "Date                                                         \n",
            "2024-04-24       0       0       0  103400        0  0.000000\n",
            "2024-04-25  114300  115400  105800  108100  6043419  0.045455\n",
            "2024-04-26  108400  109200  104500  106000  1945509 -0.019426\n",
            "2024-04-29  105000  106700  103100  106000  1739206  0.000000\n",
            "2024-04-30  108500  110400  106100  106200  2139470  0.001887\n",
            " -- stock_code -- \n",
            "028300\n",
            " -- fetch_df -- \n",
            "              Open    High     Low   Close   Volume    Change\n",
            "Date                                                         \n",
            "2024-04-24  107600  109500  105400  108500  1229934  0.016870\n",
            "2024-04-25  107300  112600  107000  109600  1700986  0.010138\n",
            "2024-04-26  109600  111700  100100  110100  2387462  0.004562\n",
            "2024-04-29  110100  110500  106300  109400  1177733 -0.006358\n",
            "2024-04-30  107100  114300  107000  111200  2081958  0.016453\n",
            " -- stock_code -- \n",
            "348370\n",
            " -- fetch_df -- \n",
            "              Open    High     Low   Close  Volume    Change\n",
            "Date                                                        \n",
            "2024-04-24  282500  286500  269500  276000  410994  0.003636\n",
            "2024-04-25  271500  294500  271500  282500  395610  0.023551\n",
            "2024-04-26  284000  292500  276500  280500  226021 -0.007080\n",
            "2024-04-29  283000  300000  280000  299000  360598  0.065954\n",
            "2024-04-30  306000  307000  285000  286000  323371 -0.043478\n",
            " -- stock_code -- \n",
            "068760\n",
            " -- fetch_df -- \n",
            "             Open   High    Low  Close  Volume    Change\n",
            "Date                                                    \n",
            "2024-04-24  92100  92700  91200  91900   76848  0.006572\n",
            "2024-04-25  91000  91800  90500  90700   54177 -0.013058\n",
            "2024-04-26  91500  91500  89900  89900   83276 -0.008820\n",
            "2024-04-29  90800  92300  90700  92200  137258  0.025584\n",
            "2024-04-30  92500  97500  92100  96100  269793  0.042299\n",
            " -- stock_code -- \n",
            "403870\n",
            " -- fetch_df -- \n",
            "             Open   High    Low  Close   Volume    Change\n",
            "Date                                                     \n",
            "2024-04-24  43000  43700  42300  42350  1213213  0.005938\n",
            "2024-04-25  41500  42100  40100  40300  1354309 -0.048406\n",
            "2024-04-26  40750  40950  38400  38700  3301439 -0.039702\n",
            "2024-04-29  39100  40500  39050  40200  1942061  0.038760\n",
            "2024-04-30  40500  40500  39250  39550   849893 -0.016169\n",
            " -- stock_code -- \n",
            "277810\n",
            " -- fetch_df -- \n",
            "              Open    High     Low   Close  Volume    Change\n",
            "Date                                                        \n",
            "2024-04-24  173500  175400  172200  174300  111858  0.012783\n",
            "2024-04-25  172000  178400  172000  172300  141815 -0.011474\n",
            "2024-04-26  174000  174200  170700  171100   99659 -0.006965\n",
            "2024-04-29  171900  173900  171100  173500   87245  0.014027\n",
            "2024-04-30  174000  178400  172900  176900  173853  0.019597\n",
            " -- stock_code -- \n",
            "000250\n",
            " -- fetch_df -- \n",
            "              Open    High     Low   Close   Volume    Change\n",
            "Date                                                         \n",
            "2024-04-24  102100  110800  100200  108500  1157709  0.066863\n",
            "2024-04-25  107500  109200  103300  104700   610537 -0.035023\n",
            "2024-04-26  107100  110500  105200  106600   860094  0.018147\n",
            "2024-04-29  107200  108600  103400  105600   480793 -0.009381\n",
            "2024-04-30  104700  107000  103600  104600   380874 -0.009470\n",
            " -- stock_code -- \n",
            "357780\n",
            " -- fetch_df -- \n",
            "              Open    High     Low   Close  Volume    Change\n",
            "Date                                                        \n",
            "2024-04-24  290000  297000  289000  291500   26670  0.030035\n",
            "2024-04-25  287500  290500  285000  288500   17581 -0.010292\n",
            "2024-04-26  293500  298000  291500  297000   23393  0.029463\n",
            "2024-04-29  299500  312000  295500  312000   43321  0.050505\n",
            "2024-04-30  312000  312500  301000  302000   26744 -0.032051\n",
            " -- stock_code -- \n",
            "005290\n",
            " -- fetch_df -- \n",
            "             Open   High    Low  Close  Volume    Change\n",
            "Date                                                    \n",
            "2024-04-24  44050  44650  43700  43750  811752  0.017442\n",
            "2024-04-25  42950  44100  42600  42850  661574 -0.020571\n",
            "2024-04-26  43650  44450  43100  44050  812359  0.028005\n",
            "2024-04-29  44750  44950  43450  44200  615388  0.003405\n",
            "2024-04-30  43900  44700  43300  43400  535087 -0.018100\n",
            " -- stock_code -- \n",
            "041510\n",
            " -- fetch_df -- \n",
            "             Open   High    Low  Close  Volume    Change\n",
            "Date                                                    \n",
            "2024-04-24  86500  86900  84700  85200  141751 -0.013889\n",
            "2024-04-25  84400  85100  82400  82500   84804 -0.031690\n",
            "2024-04-26  82600  84200  80500  81000  112798 -0.018182\n",
            "2024-04-29  81000  81700  79800  80400  115469 -0.007407\n",
            "2024-04-30  80400  80400  79000  79300  103565 -0.013682\n",
            " -- pd_kosdaq_top50 -- \n",
            "     Code        ISU_CD    Name  Market   Dept   Close ChangeCode  Changes  \\\n",
            "0  086520  KR7086520004    에코프로  KOSDAQ  우량기업부   96800          2     -400   \n",
            "1  028300  KR7028300002     HLB  KOSDAQ  중견기업부   48700          2     -600   \n",
            "2  348370  KR7348370008      엔켐  KOSDAQ  벤처기업부  323000          2    -4000   \n",
            "3  068760  KR7068760008  셀트리온제약  KOSDAQ  우량기업부   92800          3        0   \n",
            "4  403870  KR7403870009    HPSP  KOSDAQ  중견기업부   41750          1      150   \n",
            "\n",
            "   ChagesRatio    Open  ...     Low    Volume        Amount          Marcap  \\\n",
            "0        -0.41   96200  ...   95400    673359   64975978700  12887791312000   \n",
            "1        -1.22   49500  ...   48700  14556424  760523066950   6372169226800   \n",
            "2        -1.22  327500  ...  318000    231786   75516686000   6165847776000   \n",
            "3         0.00   92900  ...   92500     70062    6505685300   3860169398400   \n",
            "4         0.36   42200  ...   41450   1373738   57502034800   3462500512000   \n",
            "\n",
            "      Stocks  MarketId  MinPrice  MaxPrice  PriceChange  ChangePercent  \n",
            "0  133138340       KSQ   95000.0  108100.0      13100.0      12.981797  \n",
            "1  130845364       KSQ   47000.0  111200.0      64200.0      70.741750  \n",
            "2   19089312       KSQ  259500.0  327000.0      67500.0      23.074847  \n",
            "3   41596653       KSQ   89900.0  100100.0      10200.0      10.720805  \n",
            "4   82934144       KSQ   36050.0   42400.0       6350.0      16.026833  \n",
            "\n",
            "[5 rows x 21 columns]\n",
            "KOSDAQ 상위 50개 종목 변동폭 순서\n",
            "       Name    Code  ChangePercent  PriceChange  MinPrice  MaxPrice\n",
            "0       HLB  028300      70.741750      64200.0   47000.0  111200.0\n",
            "1        엔켐  348370      23.074847      67500.0  259500.0  327000.0\n",
            "2      HPSP  403870      16.026833       6350.0   36050.0   42400.0\n",
            "3       에스엠  041510      14.832445      12300.0   78500.0   90800.0\n",
            "4      에코프로  086520      12.981797      13100.0   95000.0  108100.0\n",
            "5      솔브레인  357780      11.737452      36000.0  288500.0  324500.0\n",
            "6     삼천당제약  000250      11.468452      12800.0  104600.0  117400.0\n",
            "7     동진쎄미켐  005290      11.089494       4950.0   42850.0   47800.0\n",
            "8    셀트리온제약  068760      10.720805      10200.0   89900.0  100100.0\n",
            "9  레인보우로보틱스  277810       4.298643       7500.0  170300.0  177800.0\n"
          ]
        }
      ]
    },
    {
      "cell_type": "code",
      "source": [
        "pip install numpy pandas matplotlib scikit-learn tensorflow yfinance"
      ],
      "metadata": {
        "colab": {
          "base_uri": "https://localhost:8080/"
        },
        "id": "CkRKCBsWgHaC",
        "outputId": "5c141a69-e942-4da5-9c9f-1fa62e17a1ab"
      },
      "execution_count": null,
      "outputs": [
        {
          "output_type": "stream",
          "name": "stdout",
          "text": [
            "Requirement already satisfied: numpy in /usr/local/lib/python3.10/dist-packages (1.25.2)\n",
            "Requirement already satisfied: pandas in /usr/local/lib/python3.10/dist-packages (2.0.3)\n",
            "Requirement already satisfied: matplotlib in /usr/local/lib/python3.10/dist-packages (3.7.1)\n",
            "Requirement already satisfied: scikit-learn in /usr/local/lib/python3.10/dist-packages (1.2.2)\n",
            "Requirement already satisfied: tensorflow in /usr/local/lib/python3.10/dist-packages (2.15.0)\n",
            "Requirement already satisfied: yfinance in /usr/local/lib/python3.10/dist-packages (0.2.38)\n",
            "Requirement already satisfied: python-dateutil>=2.8.2 in /usr/local/lib/python3.10/dist-packages (from pandas) (2.8.2)\n",
            "Requirement already satisfied: pytz>=2020.1 in /usr/local/lib/python3.10/dist-packages (from pandas) (2023.4)\n",
            "Requirement already satisfied: tzdata>=2022.1 in /usr/local/lib/python3.10/dist-packages (from pandas) (2024.1)\n",
            "Requirement already satisfied: contourpy>=1.0.1 in /usr/local/lib/python3.10/dist-packages (from matplotlib) (1.2.1)\n",
            "Requirement already satisfied: cycler>=0.10 in /usr/local/lib/python3.10/dist-packages (from matplotlib) (0.12.1)\n",
            "Requirement already satisfied: fonttools>=4.22.0 in /usr/local/lib/python3.10/dist-packages (from matplotlib) (4.51.0)\n",
            "Requirement already satisfied: kiwisolver>=1.0.1 in /usr/local/lib/python3.10/dist-packages (from matplotlib) (1.4.5)\n",
            "Requirement already satisfied: packaging>=20.0 in /usr/local/lib/python3.10/dist-packages (from matplotlib) (24.0)\n",
            "Requirement already satisfied: pillow>=6.2.0 in /usr/local/lib/python3.10/dist-packages (from matplotlib) (9.4.0)\n",
            "Requirement already satisfied: pyparsing>=2.3.1 in /usr/local/lib/python3.10/dist-packages (from matplotlib) (3.1.2)\n",
            "Requirement already satisfied: scipy>=1.3.2 in /usr/local/lib/python3.10/dist-packages (from scikit-learn) (1.11.4)\n",
            "Requirement already satisfied: joblib>=1.1.1 in /usr/local/lib/python3.10/dist-packages (from scikit-learn) (1.4.2)\n",
            "Requirement already satisfied: threadpoolctl>=2.0.0 in /usr/local/lib/python3.10/dist-packages (from scikit-learn) (3.5.0)\n",
            "Requirement already satisfied: absl-py>=1.0.0 in /usr/local/lib/python3.10/dist-packages (from tensorflow) (1.4.0)\n",
            "Requirement already satisfied: astunparse>=1.6.0 in /usr/local/lib/python3.10/dist-packages (from tensorflow) (1.6.3)\n",
            "Requirement already satisfied: flatbuffers>=23.5.26 in /usr/local/lib/python3.10/dist-packages (from tensorflow) (24.3.25)\n",
            "Requirement already satisfied: gast!=0.5.0,!=0.5.1,!=0.5.2,>=0.2.1 in /usr/local/lib/python3.10/dist-packages (from tensorflow) (0.5.4)\n",
            "Requirement already satisfied: google-pasta>=0.1.1 in /usr/local/lib/python3.10/dist-packages (from tensorflow) (0.2.0)\n",
            "Requirement already satisfied: h5py>=2.9.0 in /usr/local/lib/python3.10/dist-packages (from tensorflow) (3.9.0)\n",
            "Requirement already satisfied: libclang>=13.0.0 in /usr/local/lib/python3.10/dist-packages (from tensorflow) (18.1.1)\n",
            "Requirement already satisfied: ml-dtypes~=0.2.0 in /usr/local/lib/python3.10/dist-packages (from tensorflow) (0.2.0)\n",
            "Requirement already satisfied: opt-einsum>=2.3.2 in /usr/local/lib/python3.10/dist-packages (from tensorflow) (3.3.0)\n",
            "Requirement already satisfied: protobuf!=4.21.0,!=4.21.1,!=4.21.2,!=4.21.3,!=4.21.4,!=4.21.5,<5.0.0dev,>=3.20.3 in /usr/local/lib/python3.10/dist-packages (from tensorflow) (3.20.3)\n",
            "Requirement already satisfied: setuptools in /usr/local/lib/python3.10/dist-packages (from tensorflow) (67.7.2)\n",
            "Requirement already satisfied: six>=1.12.0 in /usr/local/lib/python3.10/dist-packages (from tensorflow) (1.16.0)\n",
            "Requirement already satisfied: termcolor>=1.1.0 in /usr/local/lib/python3.10/dist-packages (from tensorflow) (2.4.0)\n",
            "Requirement already satisfied: typing-extensions>=3.6.6 in /usr/local/lib/python3.10/dist-packages (from tensorflow) (4.11.0)\n",
            "Requirement already satisfied: wrapt<1.15,>=1.11.0 in /usr/local/lib/python3.10/dist-packages (from tensorflow) (1.14.1)\n",
            "Requirement already satisfied: tensorflow-io-gcs-filesystem>=0.23.1 in /usr/local/lib/python3.10/dist-packages (from tensorflow) (0.37.0)\n",
            "Requirement already satisfied: grpcio<2.0,>=1.24.3 in /usr/local/lib/python3.10/dist-packages (from tensorflow) (1.63.0)\n",
            "Requirement already satisfied: tensorboard<2.16,>=2.15 in /usr/local/lib/python3.10/dist-packages (from tensorflow) (2.15.2)\n",
            "Requirement already satisfied: tensorflow-estimator<2.16,>=2.15.0 in /usr/local/lib/python3.10/dist-packages (from tensorflow) (2.15.0)\n",
            "Requirement already satisfied: keras<2.16,>=2.15.0 in /usr/local/lib/python3.10/dist-packages (from tensorflow) (2.15.0)\n",
            "Requirement already satisfied: requests>=2.31 in /usr/local/lib/python3.10/dist-packages (from yfinance) (2.31.0)\n",
            "Requirement already satisfied: multitasking>=0.0.7 in /usr/local/lib/python3.10/dist-packages (from yfinance) (0.0.11)\n",
            "Requirement already satisfied: lxml>=4.9.1 in /usr/local/lib/python3.10/dist-packages (from yfinance) (4.9.4)\n",
            "Requirement already satisfied: appdirs>=1.4.4 in /usr/local/lib/python3.10/dist-packages (from yfinance) (1.4.4)\n",
            "Requirement already satisfied: frozendict>=2.3.4 in /usr/local/lib/python3.10/dist-packages (from yfinance) (2.4.4)\n",
            "Requirement already satisfied: peewee>=3.16.2 in /usr/local/lib/python3.10/dist-packages (from yfinance) (3.17.5)\n",
            "Requirement already satisfied: beautifulsoup4>=4.11.1 in /usr/local/lib/python3.10/dist-packages (from yfinance) (4.12.3)\n",
            "Requirement already satisfied: html5lib>=1.1 in /usr/local/lib/python3.10/dist-packages (from yfinance) (1.1)\n",
            "Requirement already satisfied: wheel<1.0,>=0.23.0 in /usr/local/lib/python3.10/dist-packages (from astunparse>=1.6.0->tensorflow) (0.43.0)\n",
            "Requirement already satisfied: soupsieve>1.2 in /usr/local/lib/python3.10/dist-packages (from beautifulsoup4>=4.11.1->yfinance) (2.5)\n",
            "Requirement already satisfied: webencodings in /usr/local/lib/python3.10/dist-packages (from html5lib>=1.1->yfinance) (0.5.1)\n",
            "Requirement already satisfied: charset-normalizer<4,>=2 in /usr/local/lib/python3.10/dist-packages (from requests>=2.31->yfinance) (3.3.2)\n",
            "Requirement already satisfied: idna<4,>=2.5 in /usr/local/lib/python3.10/dist-packages (from requests>=2.31->yfinance) (3.7)\n",
            "Requirement already satisfied: urllib3<3,>=1.21.1 in /usr/local/lib/python3.10/dist-packages (from requests>=2.31->yfinance) (2.0.7)\n",
            "Requirement already satisfied: certifi>=2017.4.17 in /usr/local/lib/python3.10/dist-packages (from requests>=2.31->yfinance) (2024.2.2)\n",
            "Requirement already satisfied: google-auth<3,>=1.6.3 in /usr/local/lib/python3.10/dist-packages (from tensorboard<2.16,>=2.15->tensorflow) (2.27.0)\n",
            "Requirement already satisfied: google-auth-oauthlib<2,>=0.5 in /usr/local/lib/python3.10/dist-packages (from tensorboard<2.16,>=2.15->tensorflow) (1.2.0)\n",
            "Requirement already satisfied: markdown>=2.6.8 in /usr/local/lib/python3.10/dist-packages (from tensorboard<2.16,>=2.15->tensorflow) (3.6)\n",
            "Requirement already satisfied: tensorboard-data-server<0.8.0,>=0.7.0 in /usr/local/lib/python3.10/dist-packages (from tensorboard<2.16,>=2.15->tensorflow) (0.7.2)\n",
            "Requirement already satisfied: werkzeug>=1.0.1 in /usr/local/lib/python3.10/dist-packages (from tensorboard<2.16,>=2.15->tensorflow) (3.0.3)\n",
            "Requirement already satisfied: cachetools<6.0,>=2.0.0 in /usr/local/lib/python3.10/dist-packages (from google-auth<3,>=1.6.3->tensorboard<2.16,>=2.15->tensorflow) (5.3.3)\n",
            "Requirement already satisfied: pyasn1-modules>=0.2.1 in /usr/local/lib/python3.10/dist-packages (from google-auth<3,>=1.6.3->tensorboard<2.16,>=2.15->tensorflow) (0.4.0)\n",
            "Requirement already satisfied: rsa<5,>=3.1.4 in /usr/local/lib/python3.10/dist-packages (from google-auth<3,>=1.6.3->tensorboard<2.16,>=2.15->tensorflow) (4.9)\n",
            "Requirement already satisfied: requests-oauthlib>=0.7.0 in /usr/local/lib/python3.10/dist-packages (from google-auth-oauthlib<2,>=0.5->tensorboard<2.16,>=2.15->tensorflow) (1.3.1)\n",
            "Requirement already satisfied: MarkupSafe>=2.1.1 in /usr/local/lib/python3.10/dist-packages (from werkzeug>=1.0.1->tensorboard<2.16,>=2.15->tensorflow) (2.1.5)\n",
            "Requirement already satisfied: pyasn1<0.7.0,>=0.4.6 in /usr/local/lib/python3.10/dist-packages (from pyasn1-modules>=0.2.1->google-auth<3,>=1.6.3->tensorboard<2.16,>=2.15->tensorflow) (0.6.0)\n",
            "Requirement already satisfied: oauthlib>=3.0.0 in /usr/local/lib/python3.10/dist-packages (from requests-oauthlib>=0.7.0->google-auth-oauthlib<2,>=0.5->tensorboard<2.16,>=2.15->tensorflow) (3.2.2)\n"
          ]
        }
      ]
    },
    {
      "cell_type": "code",
      "source": [
        "import matplotlib.pyplot as plt\n",
        "from datetime import datetime\n",
        "import pandas as pd\n",
        "import numpy as np\n",
        "import yfinance as yf\n",
        "from sklearn.preprocessing import MinMaxScaler\n",
        "from tensorflow.keras.models import Sequential\n",
        "from tensorflow.keras.layers import Dense, LSTM"
      ],
      "metadata": {
        "id": "Rr1uo4LSj3-Y"
      },
      "execution_count": null,
      "outputs": []
    },
    {
      "cell_type": "code",
      "source": [
        "# 주식 데이터 가져오기\n",
        "ticker = '005930.KS'  # 삼성전자 종목코드 예시"
      ],
      "metadata": {
        "id": "gnLZGQdklvMf"
      },
      "execution_count": null,
      "outputs": []
    },
    {
      "cell_type": "code",
      "source": [
        "end_date = datetime.today()\n",
        "str_end_date = end_date.strftime('%Y-%m-%d')\n",
        "print(\" -- str_end_date -- \")\n",
        "print(str_end_date)\n",
        "\n",
        "start_date = end_date - timedelta(days=180)\n",
        "\n",
        "str_start_date = start_date.strftime('%Y-%m-%d')\n",
        "print(\" -- str_start_date -- \")\n",
        "print(str_start_date)"
      ],
      "metadata": {
        "colab": {
          "base_uri": "https://localhost:8080/"
        },
        "id": "hWA3OpIKnfy0",
        "outputId": "4b4b5464-7ddb-4a6f-9225-bb7fcbac8301"
      },
      "execution_count": null,
      "outputs": [
        {
          "output_type": "stream",
          "name": "stdout",
          "text": [
            " -- str_end_date -- \n",
            "2024-05-23\n",
            " -- str_start_date -- \n",
            "2023-11-25\n"
          ]
        }
      ]
    },
    {
      "cell_type": "code",
      "source": [
        "from copy import deepcopy\n",
        "fetch_stock_data = yf.download(ticker, start=str_start_date, end=str_end_date)\n",
        "print(fetch_stock_data.columns)\n",
        "print(fetch_stock_data.head(5))\n",
        "# stock_data = fetch_stock_data[['Close', 'Volume']]\n",
        "\n",
        "stock_data = fetch_stock_data.copy(deepcopy=True).drop(columns=['Adj Close'])"
      ],
      "metadata": {
        "colab": {
          "base_uri": "https://localhost:8080/"
        },
        "id": "Ko1W_rMCkQAJ",
        "outputId": "e465a05c-095d-465b-cd9e-26b7f26cde58"
      },
      "execution_count": null,
      "outputs": [
        {
          "output_type": "stream",
          "name": "stderr",
          "text": [
            "\r[*********************100%%**********************]  1 of 1 completed"
          ]
        },
        {
          "output_type": "stream",
          "name": "stdout",
          "text": [
            "Index(['Open', 'High', 'Low', 'Close', 'Adj Close', 'Volume'], dtype='object')\n",
            "               Open     High      Low    Close     Adj Close    Volume\n",
            "Date                                                                  \n",
            "2023-11-27  71500.0  72100.0  71100.0  71300.0  70963.976562   9113857\n",
            "2023-11-28  71400.0  72700.0  71300.0  72700.0  72357.375000  13283081\n",
            "2023-11-29  72400.0  72800.0  72200.0  72700.0  72357.375000   9283933\n",
            "2023-11-30  72700.0  72800.0  72200.0  72800.0  72456.906250  15783714\n",
            "2023-12-01  72400.0  72500.0  71700.0  72000.0  71660.679688   9871284\n"
          ]
        },
        {
          "output_type": "stream",
          "name": "stderr",
          "text": [
            "\n"
          ]
        }
      ]
    },
    {
      "cell_type": "code",
      "source": [
        "# 추가 데이터 (유사 종목 및 회사 회계정보)\n",
        "# 유사 종목 데이터 예시\n",
        "similar_ticker = '000660.KS'  # SK하이닉스 종목코드 예시"
      ],
      "metadata": {
        "id": "zdhXFmhBn1Jq"
      },
      "execution_count": null,
      "outputs": []
    },
    {
      "cell_type": "code",
      "source": [
        "fetch_similar_data = yf.download(similar_ticker, start=str_start_date, end=str_end_date)\n",
        "# stock_data['Similar_Close'] = fetch_similar_data['Close']\n",
        "\n",
        "similar_stock_data = fetch_similar_data.copy(deepcopy=True).drop(columns=['Adj Close'])"
      ],
      "metadata": {
        "id": "6P6LH6-EpCCb"
      },
      "execution_count": null,
      "outputs": []
    },
    {
      "cell_type": "code",
      "source": [
        "total_stock_data = pd.concat([stock_data, similar_stock_data], axis=1)"
      ],
      "metadata": {
        "id": "Hgvr4nKMpUiU"
      },
      "execution_count": null,
      "outputs": []
    },
    {
      "cell_type": "code",
      "source": [
        "# 회사 회계 정보 예시 (여기서는 임의의 데이터 사용)\n",
        "# 실제로는 회사의 분기별 또는 연간 재무제표 데이터를 사용\n",
        "financial_data = {\n",
        "    'Date': stock_data.index,\n",
        "    'Revenue': np.random.uniform(100, 500, len(stock_data)),\n",
        "    'Operating_Income': np.random.uniform(10, 50, len(stock_data))\n",
        "}"
      ],
      "metadata": {
        "id": "-cMJuBTppe5f"
      },
      "execution_count": null,
      "outputs": []
    },
    {
      "cell_type": "code",
      "source": [
        "financial_df = pd.DataFrame(financial_data)\n",
        "financial_df.set_index('Date', inplace=True)\n",
        "\n",
        "# 주식 데이터와 재무 데이터 병합\n",
        "ml_input_data = pd.concat([total_stock_data, financial_df], axis=1)"
      ],
      "metadata": {
        "id": "_X9fwVj3kZpD"
      },
      "execution_count": null,
      "outputs": []
    },
    {
      "cell_type": "code",
      "source": [
        "# 데이터 정규화\n",
        "scaler = MinMaxScaler(feature_range=(0, 1))\n",
        "scaled_data = scaler.fit_transform(ml_input_data)"
      ],
      "metadata": {
        "id": "zWvxDahvqAZ-"
      },
      "execution_count": null,
      "outputs": []
    },
    {
      "cell_type": "code",
      "source": [
        "# 학습 데이터와 테스트 데이터 분리\n",
        "train_size = int(len(scaled_data) * 0.8)\n",
        "train_data = scaled_data[:train_size]\n",
        "test_data = scaled_data[train_size:]"
      ],
      "metadata": {
        "id": "U3Wk3Racp2a1"
      },
      "execution_count": null,
      "outputs": []
    },
    {
      "cell_type": "code",
      "source": [
        "# 데이터셋 생성 함수\n",
        "def create_dataset(data, time_step=1):\n",
        "    X, Y = [], []\n",
        "    for i in range(len(data) - time_step - 1):\n",
        "        X.append(data[i:(i + time_step)])\n",
        "        Y.append(data[i + time_step, 0])\n",
        "    return np.array(X), np.array(Y)"
      ],
      "metadata": {
        "id": "S-lSV8ryqIK4"
      },
      "execution_count": null,
      "outputs": []
    },
    {
      "cell_type": "code",
      "source": [
        "time_step = 60\n",
        "X_train, Y_train = create_dataset(train_data, time_step)\n",
        "X_test, Y_test = create_dataset(test_data, time_step)\n",
        "\n",
        "# LSTM 모델 입력 형식에 맞게 데이터 변형\n",
        "X_train = X_train.reshape(X_train.shape[0], X_train.shape[1], X_train.shape[2])\n",
        "X_test = X_test.reshape(X_test.shape[0], X_test.shape[1], X_test.shape[2])\n",
        "\n",
        "# LSTM 모델 정의 및 학습\n",
        "model = Sequential()\n",
        "model.add(LSTM(50, return_sequences=True, input_shape=(time_step, X_train.shape[2])))\n",
        "model.add(LSTM(50, return_sequences=False))\n",
        "model.add(Dense(25))\n",
        "model.add(Dense(1))\n",
        "\n",
        "model.compile(optimizer='adam', loss='mean_squared_error')\n",
        "model.fit(X_train, Y_train, batch_size=1, epochs=1)"
      ],
      "metadata": {
        "colab": {
          "base_uri": "https://localhost:8080/"
        },
        "id": "_yXFLx83j-do",
        "outputId": "4bb1f978-cbee-440a-9882-cdf4c1803581"
      },
      "execution_count": null,
      "outputs": [
        {
          "output_type": "stream",
          "name": "stdout",
          "text": [
            "531/531 [==============================] - 17s 26ms/step - loss: 0.0076\n"
          ]
        },
        {
          "output_type": "execute_result",
          "data": {
            "text/plain": [
              "<keras.src.callbacks.History at 0x7ca5409de050>"
            ]
          },
          "metadata": {},
          "execution_count": 15
        }
      ]
    },
    {
      "cell_type": "code",
      "source": [
        "# 테스트 데이터 예측\n",
        "train_predict = model.predict(X_train)\n",
        "test_predict = model.predict(X_test)\n",
        "\n",
        "# 예측값 역정규화\n",
        "train_predict = scaler.inverse_transform(np.concatenate((train_predict, np.zeros((train_predict.shape[0], scaled_data.shape[1] - 1))), axis=1))[:,0]\n",
        "test_predict = scaler.inverse_transform(np.concatenate((test_predict, np.zeros((test_predict.shape[0], scaled_data.shape[1] - 1))), axis=1))[:,0]"
      ],
      "metadata": {
        "colab": {
          "base_uri": "https://localhost:8080/"
        },
        "id": "8uMOFVFnkhcU",
        "outputId": "c607260e-e5d4-4c19-cd82-4445dbc1e806"
      },
      "execution_count": null,
      "outputs": [
        {
          "output_type": "stream",
          "name": "stdout",
          "text": [
            "17/17 [==============================] - 1s 21ms/step\n",
            "3/3 [==============================] - 0s 13ms/step\n"
          ]
        }
      ]
    },
    {
      "cell_type": "code",
      "source": [
        "# 실제값과 예측값 시각화\n",
        "plt.figure(figsize=(12, 6))\n",
        "plt.plot(data.index[:train_size + time_step + 1], scaler.inverse_transform(scaled_data[:train_size + time_step + 1])[:,0], label='Train Data')\n",
        "plt.plot(data.index[train_size + time_step + 1:], scaler.inverse_transform(scaled_data[train_size + time_step + 1:])[:,0], label='Test Data')\n",
        "plt.plot(data.index[train_size + time_step + 1:], test_predict, label='Predicted Data')\n",
        "plt.legend()\n",
        "plt.show()"
      ],
      "metadata": {
        "colab": {
          "base_uri": "https://localhost:8080/",
          "height": 522
        },
        "id": "1o9NVoW4kAu0",
        "outputId": "cd9fa8df-dba7-4b6d-d4e4-f8ff9cef6022"
      },
      "execution_count": null,
      "outputs": [
        {
          "output_type": "display_data",
          "data": {
            "text/plain": [
              "<Figure size 1200x600 with 1 Axes>"
            ],
            "image/png": "[encoded data removed]"
          },
          "metadata": {}
        }
      ]
    },
    {
      "cell_type": "code",
      "source": [
        "# 실제값과 예측값 시각화\n",
        "plt.figure(figsize=(12, 6))\n",
        "plt.plot(data.index[train_size + time_step + 1:], scaler.inverse_transform(scaled_data[train_size + time_step + 1:])[:,0], label='Test Data')\n",
        "plt.plot(data.index[train_size + time_step + 1:], test_predict, label='Predicted Data')\n",
        "plt.legend()\n",
        "plt.show()"
      ],
      "metadata": {
        "colab": {
          "base_uri": "https://localhost:8080/",
          "height": 522
        },
        "id": "EupB2HsGk6O6",
        "outputId": "adf255c7-53ad-40a5-8b09-6423c74cc4b7"
      },
      "execution_count": null,
      "outputs": [
        {
          "output_type": "display_data",
          "data": {
            "text/plain": [
              "<Figure size 1200x600 with 1 Axes>"
            ],
            "image/png": "[encoded data removed]"
          },
          "metadata": {}
        }
      ]
    }
  ]
}