{
  "nbformat": 4,
  "nbformat_minor": 0,
  "metadata": {
    "colab": {
      "name": "Stock_v1.ipynb",
      "provenance": [],
      "collapsed_sections": [],
      "authorship_tag": "ABX9TyMIQpMR5CqPxR4BC7EkaD6P",
      "include_colab_link": true
    },
    "kernelspec": {
      "name": "python3",
      "display_name": "Python 3"
    },
    "language_info": {
      "name": "python"
    }
  },
  "cells": [
    {
      "cell_type": "markdown",
      "metadata": {
        "id": "view-in-github",
        "colab_type": "text"
      },
      "source": [
        "<a href=\"https://colab.research.google.com/github/spegas/Dacon/blob/main/Stock_v1.ipynb\" target=\"_parent\"><img src=\"https://colab.research.google.com/assets/colab-badge.svg\" alt=\"Open In Colab\"/></a>"
      ]
    },
    {
      "cell_type": "code",
      "metadata": {
        "id": "RDlkxLRpGvSX"
      },
      "source": [
        "import importlib.util\n",
        "finance_package_name = \"finance-datareader\"\n",
        "\n",
        "spec = importlib.util.find_spec(finance_package_name)\n",
        "\n",
        "if spec is None:\n",
        "  print('finance-datareader 패키지 설치')\n",
        "  !pip install finance-datareader\n",
        "else:\n",
        "  print('finance-datareader 패키지가 설치 되어져 있음.')"
      ],
      "execution_count": null,
      "outputs": []
    },
    {
      "cell_type": "code",
      "metadata": {
        "id": "1tYSwFOXHQsb"
      },
      "source": [
        "wget_package_name = 'wget'\n",
        "\n",
        "spec = importlib.util.find_spec(wget_package_name)\n",
        "\n",
        "if spec is None:\n",
        "  print('wget 패키지가 설치')\n",
        "  !pip install wget\n",
        "else:\n",
        "  print('wget 패키지가 설치 되어져 있음.')"
      ],
      "execution_count": null,
      "outputs": []
    },
    {
      "cell_type": "code",
      "metadata": {
        "id": "83X0vqyBEt7I"
      },
      "source": [
        "import pandas as pd\n",
        "import os\n",
        "import FinanceDataReader as fdr\n",
        "import wget"
      ],
      "execution_count": 4,
      "outputs": []
    },
    {
      "cell_type": "code",
      "metadata": {
        "colab": {
          "base_uri": "https://localhost:8080/",
          "height": 36
        },
        "id": "ZosdeKUeD4Nr",
        "outputId": "ee224c53-6c87-4b14-cdd0-6eab2fada082"
      },
      "source": [
        "stock_list_file_url = \"https://raw.githubusercontent.com/spegas/Dacon/main/stock_list.csv\"\n",
        "if os.path.exists('stock_list.csv'):\n",
        "  os.remove('stock_list.csv')\n",
        "  print('이전에 저장된 주식 종목 리스트 파일을 삭제 합니다.')\n",
        "wget.download(stock_list_file_url, 'stock_list.csv')"
      ],
      "execution_count": 5,
      "outputs": [
        {
          "output_type": "execute_result",
          "data": {
            "application/vnd.google.colaboratory.intrinsic+json": {
              "type": "string"
            },
            "text/plain": [
              "'stock_list.csv'"
            ]
          },
          "metadata": {},
          "execution_count": 5
        }
      ]
    },
    {
      "cell_type": "code",
      "metadata": {
        "colab": {
          "base_uri": "https://localhost:8080/",
          "height": 36
        },
        "id": "Lvc9PbkFEy22",
        "outputId": "a5b271ff-94dd-4222-a2ee-1d81cb91d284"
      },
      "source": [
        "result_file_url = \"https://raw.githubusercontent.com/spegas/Dacon/main/sample_submission.csv\"\n",
        "if os.path.exists('sample_submission.csv'):\n",
        "  os.remove('sample_submission.csv')\n",
        "  print('이전에 저장된 결과 출력 파일을 삭제 합니다.')\n",
        "wget.download(result_file_url, 'sample_submission.csv')"
      ],
      "execution_count": 6,
      "outputs": [
        {
          "output_type": "execute_result",
          "data": {
            "application/vnd.google.colaboratory.intrinsic+json": {
              "type": "string"
            },
            "text/plain": [
              "'sample_submission.csv'"
            ]
          },
          "metadata": {},
          "execution_count": 6
        }
      ]
    },
    {
      "cell_type": "code",
      "metadata": {
        "id": "GttCPES1lend"
      },
      "source": [
        "import pandas as pd\n",
        "import os\n",
        "import FinanceDataReader as fdr"
      ],
      "execution_count": 7,
      "outputs": []
    },
    {
      "cell_type": "code",
      "metadata": {
        "id": "72VJ-B3tlio1"
      },
      "source": [
        "list_name = 'stock_list.csv'\n",
        "pd_stock_list = pd.read_csv(list_name)\n",
        "pd_stock_list['종목코드'] = pd_stock_list['종목코드'].apply(lambda x : str(x).zfill(6))\n",
        "pd_stock_list.head(10)"
      ],
      "execution_count": null,
      "outputs": []
    },
    {
      "cell_type": "code",
      "metadata": {
        "id": "INOP2kHlmC-c"
      },
      "source": [
        "start_date = '20210101'\n",
        "end_date = '20211031'"
      ],
      "execution_count": 15,
      "outputs": []
    },
    {
      "cell_type": "code",
      "metadata": {
        "id": "8-D0mab3mLQi"
      },
      "source": [
        "for f_index in range(0, 10):\n",
        "  f_code = pd_stock_list.iloc[f_index]['종목코드']\n",
        "  f_name = pd_stock_list.iloc[f_index]['종목명']\n",
        "  f_price = fdr.DataReader(f_code, start = start_date, end = end_date)\n",
        "  f_price.to_csv(str(f_code) + str('_price.csv'))\n",
        "  print('[종목코드 : %s, 종목명 : %s] 가격 정보 저장 완료' % (str(f_code), str(f_name)))"
      ],
      "execution_count": null,
      "outputs": []
    },
    {
      "cell_type": "code",
      "metadata": {
        "id": "e8HFzGTwLPQ0"
      },
      "source": [
        ""
      ],
      "execution_count": null,
      "outputs": []
    }
  ]
}