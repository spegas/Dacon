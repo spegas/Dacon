{
  "nbformat": 4,
  "nbformat_minor": 0,
  "metadata": {
    "colab": {
      "provenance": [],
      "authorship_tag": "ABX9TyPWVN3aiBCgFGGfLsriwZd1",
      "include_colab_link": true
    },
    "kernelspec": {
      "name": "python3",
      "display_name": "Python 3"
    },
    "language_info": {
      "name": "python"
    }
  },
  "cells": [
    {
      "cell_type": "markdown",
      "metadata": {
        "id": "view-in-github",
        "colab_type": "text"
      },
      "source": [
        "<a href=\"https://colab.research.google.com/github/spegas/Dacon/blob/main/dqn_test.ipynb\" target=\"_parent\"><img src=\"https://colab.research.google.com/assets/colab-badge.svg\" alt=\"Open In Colab\"/></a>"
      ]
    },
    {
      "cell_type": "code",
      "source": [
        "!pip install torch"
      ],
      "metadata": {
        "colab": {
          "base_uri": "https://localhost:8080/"
        },
        "id": "-iAyhvJEJxqh",
        "outputId": "fe096a86-0e37-416a-c49c-4777d3fe7628"
      },
      "execution_count": null,
      "outputs": [
        {
          "output_type": "stream",
          "name": "stdout",
          "text": [
            "Requirement already satisfied: torch in /usr/local/lib/python3.10/dist-packages (2.2.1+cu121)\n",
            "Requirement already satisfied: filelock in /usr/local/lib/python3.10/dist-packages (from torch) (3.14.0)\n",
            "Requirement already satisfied: typing-extensions>=4.8.0 in /usr/local/lib/python3.10/dist-packages (from torch) (4.11.0)\n",
            "Requirement already satisfied: sympy in /usr/local/lib/python3.10/dist-packages (from torch) (1.12)\n",
            "Requirement already satisfied: networkx in /usr/local/lib/python3.10/dist-packages (from torch) (3.3)\n",
            "Requirement already satisfied: jinja2 in /usr/local/lib/python3.10/dist-packages (from torch) (3.1.3)\n",
            "Requirement already satisfied: fsspec in /usr/local/lib/python3.10/dist-packages (from torch) (2023.6.0)\n",
            "Collecting nvidia-cuda-nvrtc-cu12==12.1.105 (from torch)\n",
            "  Using cached nvidia_cuda_nvrtc_cu12-12.1.105-py3-none-manylinux1_x86_64.whl (23.7 MB)\n",
            "Collecting nvidia-cuda-runtime-cu12==12.1.105 (from torch)\n",
            "  Using cached nvidia_cuda_runtime_cu12-12.1.105-py3-none-manylinux1_x86_64.whl (823 kB)\n",
            "Collecting nvidia-cuda-cupti-cu12==12.1.105 (from torch)\n",
            "  Using cached nvidia_cuda_cupti_cu12-12.1.105-py3-none-manylinux1_x86_64.whl (14.1 MB)\n",
            "Collecting nvidia-cudnn-cu12==8.9.2.26 (from torch)\n",
            "  Using cached nvidia_cudnn_cu12-8.9.2.26-py3-none-manylinux1_x86_64.whl (731.7 MB)\n",
            "Collecting nvidia-cublas-cu12==12.1.3.1 (from torch)\n",
            "  Using cached nvidia_cublas_cu12-12.1.3.1-py3-none-manylinux1_x86_64.whl (410.6 MB)\n",
            "Collecting nvidia-cufft-cu12==11.0.2.54 (from torch)\n",
            "  Using cached nvidia_cufft_cu12-11.0.2.54-py3-none-manylinux1_x86_64.whl (121.6 MB)\n",
            "Collecting nvidia-curand-cu12==10.3.2.106 (from torch)\n",
            "  Using cached nvidia_curand_cu12-10.3.2.106-py3-none-manylinux1_x86_64.whl (56.5 MB)\n",
            "Collecting nvidia-cusolver-cu12==11.4.5.107 (from torch)\n",
            "  Using cached nvidia_cusolver_cu12-11.4.5.107-py3-none-manylinux1_x86_64.whl (124.2 MB)\n",
            "Collecting nvidia-cusparse-cu12==12.1.0.106 (from torch)\n",
            "  Using cached nvidia_cusparse_cu12-12.1.0.106-py3-none-manylinux1_x86_64.whl (196.0 MB)\n",
            "Collecting nvidia-nccl-cu12==2.19.3 (from torch)\n",
            "  Using cached nvidia_nccl_cu12-2.19.3-py3-none-manylinux1_x86_64.whl (166.0 MB)\n",
            "Collecting nvidia-nvtx-cu12==12.1.105 (from torch)\n",
            "  Using cached nvidia_nvtx_cu12-12.1.105-py3-none-manylinux1_x86_64.whl (99 kB)\n",
            "Requirement already satisfied: triton==2.2.0 in /usr/local/lib/python3.10/dist-packages (from torch) (2.2.0)\n",
            "Collecting nvidia-nvjitlink-cu12 (from nvidia-cusolver-cu12==11.4.5.107->torch)\n",
            "  Downloading nvidia_nvjitlink_cu12-12.5.40-py3-none-manylinux2014_x86_64.whl (21.3 MB)\n",
            "\u001b[2K     \u001b[90m━━━━━━━━━━━━━━━━━━━━━━━━━━━━━━━━━━━━━━━━\u001b[0m \u001b[32m21.3/21.3 MB\u001b[0m \u001b[31m47.7 MB/s\u001b[0m eta \u001b[36m0:00:00\u001b[0m\n",
            "\u001b[?25hRequirement already satisfied: MarkupSafe>=2.0 in /usr/local/lib/python3.10/dist-packages (from jinja2->torch) (2.1.5)\n",
            "Requirement already satisfied: mpmath>=0.19 in /usr/local/lib/python3.10/dist-packages (from sympy->torch) (1.3.0)\n",
            "Installing collected packages: nvidia-nvtx-cu12, nvidia-nvjitlink-cu12, nvidia-nccl-cu12, nvidia-curand-cu12, nvidia-cufft-cu12, nvidia-cuda-runtime-cu12, nvidia-cuda-nvrtc-cu12, nvidia-cuda-cupti-cu12, nvidia-cublas-cu12, nvidia-cusparse-cu12, nvidia-cudnn-cu12, nvidia-cusolver-cu12\n",
            "Successfully installed nvidia-cublas-cu12-12.1.3.1 nvidia-cuda-cupti-cu12-12.1.105 nvidia-cuda-nvrtc-cu12-12.1.105 nvidia-cuda-runtime-cu12-12.1.105 nvidia-cudnn-cu12-8.9.2.26 nvidia-cufft-cu12-11.0.2.54 nvidia-curand-cu12-10.3.2.106 nvidia-cusolver-cu12-11.4.5.107 nvidia-cusparse-cu12-12.1.0.106 nvidia-nccl-cu12-2.19.3 nvidia-nvjitlink-cu12-12.5.40 nvidia-nvtx-cu12-12.1.105\n"
          ]
        }
      ]
    },
    {
      "cell_type": "code",
      "source": [
        "!pip install torch_geometric"
      ],
      "metadata": {
        "colab": {
          "base_uri": "https://localhost:8080/"
        },
        "id": "EXdNL-8fKjog",
        "outputId": "cc0eae60-58c0-48b3-f2fd-eb0b7fdff022"
      },
      "execution_count": null,
      "outputs": [
        {
          "output_type": "stream",
          "name": "stdout",
          "text": [
            "Collecting torch_geometric\n",
            "  Downloading torch_geometric-2.5.3-py3-none-any.whl (1.1 MB)\n",
            "\u001b[2K     \u001b[90m━━━━━━━━━━━━━━━━━━━━━━━━━━━━━━━━━━━━━━━━\u001b[0m \u001b[32m1.1/1.1 MB\u001b[0m \u001b[31m4.8 MB/s\u001b[0m eta \u001b[36m0:00:00\u001b[0m\n",
            "\u001b[?25hRequirement already satisfied: tqdm in /usr/local/lib/python3.10/dist-packages (from torch_geometric) (4.66.2)\n",
            "Requirement already satisfied: numpy in /usr/local/lib/python3.10/dist-packages (from torch_geometric) (1.25.2)\n",
            "Requirement already satisfied: scipy in /usr/local/lib/python3.10/dist-packages (from torch_geometric) (1.11.4)\n",
            "Requirement already satisfied: fsspec in /usr/local/lib/python3.10/dist-packages (from torch_geometric) (2023.6.0)\n",
            "Requirement already satisfied: jinja2 in /usr/local/lib/python3.10/dist-packages (from torch_geometric) (3.1.3)\n",
            "Requirement already satisfied: aiohttp in /usr/local/lib/python3.10/dist-packages (from torch_geometric) (3.9.5)\n",
            "Requirement already satisfied: requests in /usr/local/lib/python3.10/dist-packages (from torch_geometric) (2.31.0)\n",
            "Requirement already satisfied: pyparsing in /usr/local/lib/python3.10/dist-packages (from torch_geometric) (3.1.2)\n",
            "Requirement already satisfied: scikit-learn in /usr/local/lib/python3.10/dist-packages (from torch_geometric) (1.2.2)\n",
            "Requirement already satisfied: psutil>=5.8.0 in /usr/local/lib/python3.10/dist-packages (from torch_geometric) (5.9.5)\n",
            "Requirement already satisfied: aiosignal>=1.1.2 in /usr/local/lib/python3.10/dist-packages (from aiohttp->torch_geometric) (1.3.1)\n",
            "Requirement already satisfied: attrs>=17.3.0 in /usr/local/lib/python3.10/dist-packages (from aiohttp->torch_geometric) (23.2.0)\n",
            "Requirement already satisfied: frozenlist>=1.1.1 in /usr/local/lib/python3.10/dist-packages (from aiohttp->torch_geometric) (1.4.1)\n",
            "Requirement already satisfied: multidict<7.0,>=4.5 in /usr/local/lib/python3.10/dist-packages (from aiohttp->torch_geometric) (6.0.5)\n",
            "Requirement already satisfied: yarl<2.0,>=1.0 in /usr/local/lib/python3.10/dist-packages (from aiohttp->torch_geometric) (1.9.4)\n",
            "Requirement already satisfied: async-timeout<5.0,>=4.0 in /usr/local/lib/python3.10/dist-packages (from aiohttp->torch_geometric) (4.0.3)\n",
            "Requirement already satisfied: MarkupSafe>=2.0 in /usr/local/lib/python3.10/dist-packages (from jinja2->torch_geometric) (2.1.5)\n",
            "Requirement already satisfied: charset-normalizer<4,>=2 in /usr/local/lib/python3.10/dist-packages (from requests->torch_geometric) (3.3.2)\n",
            "Requirement already satisfied: idna<4,>=2.5 in /usr/local/lib/python3.10/dist-packages (from requests->torch_geometric) (3.7)\n",
            "Requirement already satisfied: urllib3<3,>=1.21.1 in /usr/local/lib/python3.10/dist-packages (from requests->torch_geometric) (2.0.7)\n",
            "Requirement already satisfied: certifi>=2017.4.17 in /usr/local/lib/python3.10/dist-packages (from requests->torch_geometric) (2024.2.2)\n",
            "Requirement already satisfied: joblib>=1.1.1 in /usr/local/lib/python3.10/dist-packages (from scikit-learn->torch_geometric) (1.4.0)\n",
            "Requirement already satisfied: threadpoolctl>=2.0.0 in /usr/local/lib/python3.10/dist-packages (from scikit-learn->torch_geometric) (3.5.0)\n",
            "Installing collected packages: torch_geometric\n",
            "Successfully installed torch_geometric-2.5.3\n"
          ]
        }
      ]
    },
    {
      "cell_type": "code",
      "source": [
        "import torch\n",
        "import torch.nn.functional as F\n",
        "from torch_geometric.data import Data, DataLoader\n",
        "from torch_geometric.nn import GCNConv"
      ],
      "metadata": {
        "id": "sQD3o2YnKZKB"
      },
      "execution_count": null,
      "outputs": []
    },
    {
      "cell_type": "code",
      "source": [
        "# 예제 데이터 생성 (가상의 데이터)\n",
        "def create_graph_data():\n",
        "    # 노드 특징 (Ar, CF4, e-)\n",
        "    x = torch.tensor([[1, 0, 0], [0, 1, 0], [0, 0, 1]], dtype=torch.float)\n",
        "\n",
        "    # 간선 인덱스 (각 노드 간의 상호작용)\n",
        "    edge_index = torch.tensor([\n",
        "        [0, 1, 1, 2],\n",
        "        [1, 0, 2, 1]\n",
        "    ], dtype=torch.long)\n",
        "\n",
        "    # 간선 특성 임의로 설정 (반응 에너지를 모르는 경우, 여기서는 0.5로 초기화)\n",
        "    edge_attr = torch.tensor([\n",
        "        [0.5], [0.5], [0.5], [0.5]\n",
        "    ], dtype=torch.float).view(-1, 1)\n",
        "\n",
        "    # 라벨 (반응 결과)\n",
        "    y = torch.tensor([1], dtype=torch.float)  # 가상의 라벨\n",
        "\n",
        "    return Data(x=x, edge_index=edge_index, edge_attr=edge_attr, y=y)"
      ],
      "metadata": {
        "id": "ArwsLiR2Jb2V"
      },
      "execution_count": null,
      "outputs": []
    },
    {
      "cell_type": "code",
      "source": [
        "class GNNModel(torch.nn.Module):\n",
        "    def __init__(self):\n",
        "        super(GNNModel, self).__init__()\n",
        "        self.conv1 = GCNConv(3, 16)\n",
        "        self.conv2 = GCNConv(16, 32)\n",
        "        self.fc1 = torch.nn.Linear(32, 16)\n",
        "        self.fc2 = torch.nn.Linear(16, 1)\n",
        "        self.edge_weight_transform = torch.nn.Linear(1, 1, bias=False)  # 간선 특성을 변환하는 층\n",
        "\n",
        "    def forward(self, data):\n",
        "        x, edge_index, edge_attr = data.x, data.edge_index, data.edge_attr\n",
        "        edge_weight = self.edge_weight_transform(edge_attr.unsqueeze(-1)).squeeze()  # 간선 특성 변환\n",
        "        x = F.relu(self.conv1(x, edge_index, edge_weight=edge_weight))\n",
        "        x = F.relu(self.conv2(x, edge_index, edge_weight=edge_weight))\n",
        "        x = torch.mean(x, dim=0)  # 그래프 풀링\n",
        "        x = F.relu(self.fc1(x))\n",
        "        x = self.fc2(x)\n",
        "        return x"
      ],
      "metadata": {
        "id": "mTtdKFFJK4ZF"
      },
      "execution_count": null,
      "outputs": []
    },
    {
      "cell_type": "code",
      "source": [
        "# 데이터 로더 준비\n",
        "data_list = [create_graph_data() for _ in range(100)]  # 가상의 데이터셋 생성\n",
        "loader = DataLoader(data_list, batch_size=10, shuffle=True)"
      ],
      "metadata": {
        "colab": {
          "base_uri": "https://localhost:8080/"
        },
        "id": "AmiAoQUkLCdp",
        "outputId": "f2bb008b-fce0-4892-a991-ec62106a844f"
      },
      "execution_count": null,
      "outputs": [
        {
          "output_type": "stream",
          "name": "stderr",
          "text": [
            "/usr/local/lib/python3.10/dist-packages/torch_geometric/deprecation.py:26: UserWarning: 'data.DataLoader' is deprecated, use 'loader.DataLoader' instead\n",
            "  warnings.warn(out)\n"
          ]
        }
      ]
    },
    {
      "cell_type": "code",
      "source": [
        "print(data_list)"
      ],
      "metadata": {
        "colab": {
          "base_uri": "https://localhost:8080/"
        },
        "id": "Hwkxn2AaL7De",
        "outputId": "477b8100-b71a-4601-e587-03f330180921"
      },
      "execution_count": null,
      "outputs": [
        {
          "output_type": "stream",
          "name": "stdout",
          "text": [
            "[Data(x=[3, 3], edge_index=[2, 4], edge_attr=[4, 1], y=[1]), Data(x=[3, 3], edge_index=[2, 4], edge_attr=[4, 1], y=[1]), Data(x=[3, 3], edge_index=[2, 4], edge_attr=[4, 1], y=[1]), Data(x=[3, 3], edge_index=[2, 4], edge_attr=[4, 1], y=[1]), Data(x=[3, 3], edge_index=[2, 4], edge_attr=[4, 1], y=[1]), Data(x=[3, 3], edge_index=[2, 4], edge_attr=[4, 1], y=[1]), Data(x=[3, 3], edge_index=[2, 4], edge_attr=[4, 1], y=[1]), Data(x=[3, 3], edge_index=[2, 4], edge_attr=[4, 1], y=[1]), Data(x=[3, 3], edge_index=[2, 4], edge_attr=[4, 1], y=[1]), Data(x=[3, 3], edge_index=[2, 4], edge_attr=[4, 1], y=[1]), Data(x=[3, 3], edge_index=[2, 4], edge_attr=[4, 1], y=[1]), Data(x=[3, 3], edge_index=[2, 4], edge_attr=[4, 1], y=[1]), Data(x=[3, 3], edge_index=[2, 4], edge_attr=[4, 1], y=[1]), Data(x=[3, 3], edge_index=[2, 4], edge_attr=[4, 1], y=[1]), Data(x=[3, 3], edge_index=[2, 4], edge_attr=[4, 1], y=[1]), Data(x=[3, 3], edge_index=[2, 4], edge_attr=[4, 1], y=[1]), Data(x=[3, 3], edge_index=[2, 4], edge_attr=[4, 1], y=[1]), Data(x=[3, 3], edge_index=[2, 4], edge_attr=[4, 1], y=[1]), Data(x=[3, 3], edge_index=[2, 4], edge_attr=[4, 1], y=[1]), Data(x=[3, 3], edge_index=[2, 4], edge_attr=[4, 1], y=[1]), Data(x=[3, 3], edge_index=[2, 4], edge_attr=[4, 1], y=[1]), Data(x=[3, 3], edge_index=[2, 4], edge_attr=[4, 1], y=[1]), Data(x=[3, 3], edge_index=[2, 4], edge_attr=[4, 1], y=[1]), Data(x=[3, 3], edge_index=[2, 4], edge_attr=[4, 1], y=[1]), Data(x=[3, 3], edge_index=[2, 4], edge_attr=[4, 1], y=[1]), Data(x=[3, 3], edge_index=[2, 4], edge_attr=[4, 1], y=[1]), Data(x=[3, 3], edge_index=[2, 4], edge_attr=[4, 1], y=[1]), Data(x=[3, 3], edge_index=[2, 4], edge_attr=[4, 1], y=[1]), Data(x=[3, 3], edge_index=[2, 4], edge_attr=[4, 1], y=[1]), Data(x=[3, 3], edge_index=[2, 4], edge_attr=[4, 1], y=[1]), Data(x=[3, 3], edge_index=[2, 4], edge_attr=[4, 1], y=[1]), Data(x=[3, 3], edge_index=[2, 4], edge_attr=[4, 1], y=[1]), Data(x=[3, 3], edge_index=[2, 4], edge_attr=[4, 1], y=[1]), Data(x=[3, 3], edge_index=[2, 4], edge_attr=[4, 1], y=[1]), Data(x=[3, 3], edge_index=[2, 4], edge_attr=[4, 1], y=[1]), Data(x=[3, 3], edge_index=[2, 4], edge_attr=[4, 1], y=[1]), Data(x=[3, 3], edge_index=[2, 4], edge_attr=[4, 1], y=[1]), Data(x=[3, 3], edge_index=[2, 4], edge_attr=[4, 1], y=[1]), Data(x=[3, 3], edge_index=[2, 4], edge_attr=[4, 1], y=[1]), Data(x=[3, 3], edge_index=[2, 4], edge_attr=[4, 1], y=[1]), Data(x=[3, 3], edge_index=[2, 4], edge_attr=[4, 1], y=[1]), Data(x=[3, 3], edge_index=[2, 4], edge_attr=[4, 1], y=[1]), Data(x=[3, 3], edge_index=[2, 4], edge_attr=[4, 1], y=[1]), Data(x=[3, 3], edge_index=[2, 4], edge_attr=[4, 1], y=[1]), Data(x=[3, 3], edge_index=[2, 4], edge_attr=[4, 1], y=[1]), Data(x=[3, 3], edge_index=[2, 4], edge_attr=[4, 1], y=[1]), Data(x=[3, 3], edge_index=[2, 4], edge_attr=[4, 1], y=[1]), Data(x=[3, 3], edge_index=[2, 4], edge_attr=[4, 1], y=[1]), Data(x=[3, 3], edge_index=[2, 4], edge_attr=[4, 1], y=[1]), Data(x=[3, 3], edge_index=[2, 4], edge_attr=[4, 1], y=[1]), Data(x=[3, 3], edge_index=[2, 4], edge_attr=[4, 1], y=[1]), Data(x=[3, 3], edge_index=[2, 4], edge_attr=[4, 1], y=[1]), Data(x=[3, 3], edge_index=[2, 4], edge_attr=[4, 1], y=[1]), Data(x=[3, 3], edge_index=[2, 4], edge_attr=[4, 1], y=[1]), Data(x=[3, 3], edge_index=[2, 4], edge_attr=[4, 1], y=[1]), Data(x=[3, 3], edge_index=[2, 4], edge_attr=[4, 1], y=[1]), Data(x=[3, 3], edge_index=[2, 4], edge_attr=[4, 1], y=[1]), Data(x=[3, 3], edge_index=[2, 4], edge_attr=[4, 1], y=[1]), Data(x=[3, 3], edge_index=[2, 4], edge_attr=[4, 1], y=[1]), Data(x=[3, 3], edge_index=[2, 4], edge_attr=[4, 1], y=[1]), Data(x=[3, 3], edge_index=[2, 4], edge_attr=[4, 1], y=[1]), Data(x=[3, 3], edge_index=[2, 4], edge_attr=[4, 1], y=[1]), Data(x=[3, 3], edge_index=[2, 4], edge_attr=[4, 1], y=[1]), Data(x=[3, 3], edge_index=[2, 4], edge_attr=[4, 1], y=[1]), Data(x=[3, 3], edge_index=[2, 4], edge_attr=[4, 1], y=[1]), Data(x=[3, 3], edge_index=[2, 4], edge_attr=[4, 1], y=[1]), Data(x=[3, 3], edge_index=[2, 4], edge_attr=[4, 1], y=[1]), Data(x=[3, 3], edge_index=[2, 4], edge_attr=[4, 1], y=[1]), Data(x=[3, 3], edge_index=[2, 4], edge_attr=[4, 1], y=[1]), Data(x=[3, 3], edge_index=[2, 4], edge_attr=[4, 1], y=[1]), Data(x=[3, 3], edge_index=[2, 4], edge_attr=[4, 1], y=[1]), Data(x=[3, 3], edge_index=[2, 4], edge_attr=[4, 1], y=[1]), Data(x=[3, 3], edge_index=[2, 4], edge_attr=[4, 1], y=[1]), Data(x=[3, 3], edge_index=[2, 4], edge_attr=[4, 1], y=[1]), Data(x=[3, 3], edge_index=[2, 4], edge_attr=[4, 1], y=[1]), Data(x=[3, 3], edge_index=[2, 4], edge_attr=[4, 1], y=[1]), Data(x=[3, 3], edge_index=[2, 4], edge_attr=[4, 1], y=[1]), Data(x=[3, 3], edge_index=[2, 4], edge_attr=[4, 1], y=[1]), Data(x=[3, 3], edge_index=[2, 4], edge_attr=[4, 1], y=[1]), Data(x=[3, 3], edge_index=[2, 4], edge_attr=[4, 1], y=[1]), Data(x=[3, 3], edge_index=[2, 4], edge_attr=[4, 1], y=[1]), Data(x=[3, 3], edge_index=[2, 4], edge_attr=[4, 1], y=[1]), Data(x=[3, 3], edge_index=[2, 4], edge_attr=[4, 1], y=[1]), Data(x=[3, 3], edge_index=[2, 4], edge_attr=[4, 1], y=[1]), Data(x=[3, 3], edge_index=[2, 4], edge_attr=[4, 1], y=[1]), Data(x=[3, 3], edge_index=[2, 4], edge_attr=[4, 1], y=[1]), Data(x=[3, 3], edge_index=[2, 4], edge_attr=[4, 1], y=[1]), Data(x=[3, 3], edge_index=[2, 4], edge_attr=[4, 1], y=[1]), Data(x=[3, 3], edge_index=[2, 4], edge_attr=[4, 1], y=[1]), Data(x=[3, 3], edge_index=[2, 4], edge_attr=[4, 1], y=[1]), Data(x=[3, 3], edge_index=[2, 4], edge_attr=[4, 1], y=[1]), Data(x=[3, 3], edge_index=[2, 4], edge_attr=[4, 1], y=[1]), Data(x=[3, 3], edge_index=[2, 4], edge_attr=[4, 1], y=[1]), Data(x=[3, 3], edge_index=[2, 4], edge_attr=[4, 1], y=[1]), Data(x=[3, 3], edge_index=[2, 4], edge_attr=[4, 1], y=[1]), Data(x=[3, 3], edge_index=[2, 4], edge_attr=[4, 1], y=[1]), Data(x=[3, 3], edge_index=[2, 4], edge_attr=[4, 1], y=[1]), Data(x=[3, 3], edge_index=[2, 4], edge_attr=[4, 1], y=[1]), Data(x=[3, 3], edge_index=[2, 4], edge_attr=[4, 1], y=[1]), Data(x=[3, 3], edge_index=[2, 4], edge_attr=[4, 1], y=[1])]\n"
          ]
        }
      ]
    },
    {
      "cell_type": "code",
      "source": [
        "# 모델 학습\n",
        "device = torch.device('cuda' if torch.cuda.is_available() else 'cpu')\n",
        "model = GNNModel().to(device)\n",
        "optimizer = torch.optim.Adam(model.parameters(), lr=0.01)\n",
        "criterion = torch.nn.MSELoss()"
      ],
      "metadata": {
        "id": "JyIBtoReLFlU"
      },
      "execution_count": null,
      "outputs": []
    },
    {
      "cell_type": "code",
      "source": [
        "model.train()"
      ],
      "metadata": {
        "colab": {
          "base_uri": "https://localhost:8080/"
        },
        "id": "Xm7v5GFPLLtd",
        "outputId": "6959e7f5-5205-4008-cd46-5e8d946c0ede"
      },
      "execution_count": null,
      "outputs": [
        {
          "output_type": "execute_result",
          "data": {
            "text/plain": [
              "GNNModel(\n",
              "  (conv1): GCNConv(3, 16)\n",
              "  (conv2): GCNConv(16, 32)\n",
              "  (fc1): Linear(in_features=32, out_features=16, bias=True)\n",
              "  (fc2): Linear(in_features=16, out_features=1, bias=True)\n",
              "  (edge_weight_transform): Linear(in_features=1, out_features=1, bias=False)\n",
              ")"
            ]
          },
          "metadata": {},
          "execution_count": 40
        }
      ]
    },
    {
      "cell_type": "code",
      "source": [
        "for epoch in range(200):\n",
        "    for data in loader:\n",
        "        data = data.to(device)\n",
        "        optimizer.zero_grad()\n",
        "        output = model(data)\n",
        "        loss = criterion(output, data.y)\n",
        "        loss.backward()\n",
        "        optimizer.step()\n",
        "\n",
        "    if epoch % 10 == 0:\n",
        "        print(f'Epoch {epoch+1}, Loss: {loss.item()}')"
      ],
      "metadata": {
        "colab": {
          "base_uri": "https://localhost:8080/"
        },
        "id": "XR6AuBNnMWCh",
        "outputId": "d150a6f1-e306-4539-8e1c-b326a1369d7c"
      },
      "execution_count": null,
      "outputs": [
        {
          "output_type": "stream",
          "name": "stderr",
          "text": [
            "/usr/local/lib/python3.10/dist-packages/torch/nn/modules/loss.py:535: UserWarning: Using a target size (torch.Size([10])) that is different to the input size (torch.Size([1])). This will likely lead to incorrect results due to broadcasting. Please ensure they have the same size.\n",
            "  return F.mse_loss(input, target, reduction=self.reduction)\n"
          ]
        },
        {
          "output_type": "stream",
          "name": "stdout",
          "text": [
            "Epoch 1, Loss: 0.12780824303627014\n",
            "Epoch 11, Loss: 7.763350367895328e-06\n",
            "Epoch 21, Loss: 2.0520474208751693e-11\n",
            "Epoch 31, Loss: 1.4210854715202004e-14\n",
            "Epoch 41, Loss: 0.0\n",
            "Epoch 51, Loss: 0.0\n",
            "Epoch 61, Loss: 0.0\n",
            "Epoch 71, Loss: 0.0\n",
            "Epoch 81, Loss: 0.0\n",
            "Epoch 91, Loss: 0.0\n",
            "Epoch 101, Loss: 0.0\n",
            "Epoch 111, Loss: 0.0\n",
            "Epoch 121, Loss: 0.0\n",
            "Epoch 131, Loss: 0.0\n",
            "Epoch 141, Loss: 0.0\n",
            "Epoch 151, Loss: 0.0\n",
            "Epoch 161, Loss: 0.0\n",
            "Epoch 171, Loss: 0.0\n",
            "Epoch 181, Loss: 0.0\n",
            "Epoch 191, Loss: 0.0\n"
          ]
        }
      ]
    },
    {
      "cell_type": "code",
      "source": [
        "# 모델 평가\n",
        "model.eval()\n",
        "test_data = create_graph_data().to(device)\n",
        "pred = model(test_data)\n",
        "print(f'Predicted reaction outcome: {pred.item()}')"
      ],
      "metadata": {
        "colab": {
          "base_uri": "https://localhost:8080/"
        },
        "id": "rIGJkkwuLSFO",
        "outputId": "f3043001-339b-4bc3-b7bb-fc27831b7e0c"
      },
      "execution_count": null,
      "outputs": [
        {
          "output_type": "stream",
          "name": "stdout",
          "text": [
            "Predicted reaction outcome: 1.0\n"
          ]
        }
      ]
    },
    {
      "cell_type": "code",
      "source": [
        "import tensorflow as tf\n",
        "from tensorflow import keras\n",
        "import numpy as np\n",
        "\n",
        "# 주의 레이어 정의\n",
        "class AttentionLayer(keras.layers.Layer):\n",
        "    def __init__(self, units):\n",
        "        super(AttentionLayer, self).__init__()\n",
        "        self.W1 = keras.layers.Dense(units)\n",
        "        self.W2 = keras.layers.Dense(units)\n",
        "        self.V = keras.layers.Dense(1)\n",
        "\n",
        "    def call(self, inputs):\n",
        "        score = self.V(tf.nn.tanh(self.W1(inputs) + self.W2(inputs)))\n",
        "        attention_weights = tf.nn.softmax(score, axis=1)\n",
        "        context_vector = attention_weights * inputs\n",
        "        context_vector = tf.reduce_sum(context_vector, axis=1)\n",
        "        return context_vector, attention_weights\n",
        "\n",
        "# 모델 정의를 수정합니다\n",
        "def create_model(input_shape):\n",
        "    inputs = keras.layers.Input(shape=input_shape)\n",
        "    attention_output, attention_weights = AttentionLayer(32)(inputs)\n",
        "    x = keras.layers.Dense(64, activation='relu')(attention_output)\n",
        "    x = keras.layers.Dense(32, activation='relu')(x)\n",
        "    outputs = keras.layers.Dense(1)(x)\n",
        "\n",
        "    model = keras.Model(inputs=inputs, outputs=[outputs, attention_weights])\n",
        "    model.compile(optimizer='adam', loss=['mse', None])  # attention_weights에 대한 손실은 None\n",
        "    return model\n",
        "# 샘플 데이터 생성\n",
        "np.random.seed(0)\n",
        "X = np.random.rand(1000, 10, 5)  # (samples, time_steps, features)\n",
        "y = np.sum(X, axis=(1,2)).reshape(-1, 1)  # 간단한 목표값\n",
        "\n",
        "# 모델 생성 및 학습\n",
        "model = create_model((10, 5))\n",
        "model.fit(X, [y, np.zeros((len(X), 10, 1))], epochs=10, batch_size=32, validation_split=0.2)\n",
        "\n",
        "# 예측 및 attention 가중치 추출\n",
        "X_test = np.random.rand(100, 10, 5)\n",
        "predictions, attention_weights = model.predict(X_test)\n",
        "\n",
        "# attention 가중치 출력\n",
        "print(\"Attention Weights 형태:\", attention_weights.shape)\n",
        "print(\"첫 번째 샘플의 Attention Weights:\")\n",
        "print(attention_weights[0])"
      ],
      "metadata": {
        "colab": {
          "base_uri": "https://localhost:8080/"
        },
        "id": "hdbDEDFg-W6a",
        "outputId": "3ac1262b-4f93-4991-b530-56ab9046c4a1"
      },
      "execution_count": null,
      "outputs": [
        {
          "output_type": "stream",
          "name": "stdout",
          "text": [
            "Epoch 1/10\n",
            "25/25 [==============================] - 2s 16ms/step - loss: 603.8256 - dense_17_loss: 603.8256 - val_loss: 579.2711 - val_dense_17_loss: 579.2711\n",
            "Epoch 2/10\n",
            "25/25 [==============================] - 0s 4ms/step - loss: 538.9363 - dense_17_loss: 538.9363 - val_loss: 498.3931 - val_dense_17_loss: 498.3931\n",
            "Epoch 3/10\n",
            "25/25 [==============================] - 0s 5ms/step - loss: 432.9357 - dense_17_loss: 432.9357 - val_loss: 361.6000 - val_dense_17_loss: 361.6000\n",
            "Epoch 4/10\n",
            "25/25 [==============================] - 0s 6ms/step - loss: 271.1796 - dense_17_loss: 271.1796 - val_loss: 180.5483 - val_dense_17_loss: 180.5483\n",
            "Epoch 5/10\n",
            "25/25 [==============================] - 0s 5ms/step - loss: 102.2780 - dense_17_loss: 102.2780 - val_loss: 40.7678 - val_dense_17_loss: 40.7678\n",
            "Epoch 6/10\n",
            "25/25 [==============================] - 0s 5ms/step - loss: 15.0800 - dense_17_loss: 15.0800 - val_loss: 4.6525 - val_dense_17_loss: 4.6525\n",
            "Epoch 7/10\n",
            "25/25 [==============================] - 0s 5ms/step - loss: 3.8796 - dense_17_loss: 3.8796 - val_loss: 4.0506 - val_dense_17_loss: 4.0506\n",
            "Epoch 8/10\n",
            "25/25 [==============================] - 0s 6ms/step - loss: 3.7207 - dense_17_loss: 3.7207 - val_loss: 3.9535 - val_dense_17_loss: 3.9535\n",
            "Epoch 9/10\n",
            "25/25 [==============================] - 0s 6ms/step - loss: 3.6105 - dense_17_loss: 3.6105 - val_loss: 3.9134 - val_dense_17_loss: 3.9134\n",
            "Epoch 10/10\n",
            "25/25 [==============================] - 0s 6ms/step - loss: 3.5468 - dense_17_loss: 3.5468 - val_loss: 3.8043 - val_dense_17_loss: 3.8043\n",
            "4/4 [==============================] - 0s 4ms/step\n",
            "Attention Weights 형태: (100, 10, 1)\n",
            "첫 번째 샘플의 Attention Weights:\n",
            "[[0.08565741]\n",
            " [0.0610204 ]\n",
            " [0.06718416]\n",
            " [0.0200991 ]\n",
            " [0.24532004]\n",
            " [0.08475584]\n",
            " [0.06641993]\n",
            " [0.08507231]\n",
            " [0.04123295]\n",
            " [0.24323784]]\n"
          ]
        }
      ]
    },
    {
      "cell_type": "code",
      "source": [
        "# 시각화 (선택사항)\n",
        "import matplotlib.pyplot as plt\n",
        "\n",
        "plt.figure(figsize=(10, 5))\n",
        "plt.imshow(attention_weights[0], aspect='auto', cmap='viridis')\n",
        "plt.title('Attention Weights for the First Sample')\n",
        "plt.xlabel('Time Steps')\n",
        "plt.ylabel('Weight')\n",
        "plt.colorbar()\n",
        "plt.show()"
      ],
      "metadata": {
        "colab": {
          "base_uri": "https://localhost:8080/",
          "height": 479
        },
        "id": "tLNrT0n5Kf8D",
        "outputId": "3f223005-40c3-4f56-a6d7-8ee3637a820b"
      },
      "execution_count": null,
      "outputs": [
        {
          "output_type": "display_data",
          "data": {
            "text/plain": [
              "<Figure size 1000x500 with 2 Axes>"
            ],
            "image/png": "[encoded data removed]"
          },
          "metadata": {}
        }
      ]
    },
    {
      "cell_type": "code",
      "source": [
        "model.summary()"
      ],
      "metadata": {
        "colab": {
          "base_uri": "https://localhost:8080/"
        },
        "id": "uGOp1UPvJOQb",
        "outputId": "971048f7-72bf-4264-9ae0-1d28d030470d"
      },
      "execution_count": null,
      "outputs": [
        {
          "output_type": "stream",
          "name": "stdout",
          "text": [
            "Model: \"model\"\n",
            "_________________________________________________________________\n",
            " Layer (type)                Output Shape              Param #   \n",
            "=================================================================\n",
            " input_1 (InputLayer)        [(None, 10, 5)]           0         \n",
            "                                                                 \n",
            " attention_layer (Attention  (None, 5)                 417       \n",
            " Layer)                                                          \n",
            "                                                                 \n",
            " dense_3 (Dense)             (None, 64)                384       \n",
            "                                                                 \n",
            " dense_4 (Dense)             (None, 32)                2080      \n",
            "                                                                 \n",
            " dense_5 (Dense)             (None, 1)                 33        \n",
            "                                                                 \n",
            "=================================================================\n",
            "Total params: 2914 (11.38 KB)\n",
            "Trainable params: 2914 (11.38 KB)\n",
            "Non-trainable params: 0 (0.00 Byte)\n",
            "_________________________________________________________________\n"
          ]
        }
      ]
    },
    {
      "cell_type": "code",
      "source": [
        "import tensorflow as tf\n",
        "from tensorflow import keras\n",
        "import numpy as np\n",
        "\n",
        "class MultiAttentionLayer(keras.layers.Layer):\n",
        "    def __init__(self, units, num_heads):\n",
        "        super(MultiAttentionLayer, self).__init__()\n",
        "        self.num_heads = num_heads\n",
        "        self.attention_layers = [AttentionLayer(units) for _ in range(num_heads)]\n",
        "\n",
        "    def call(self, inputs):\n",
        "        attention_outputs = [layer(inputs) for layer in self.attention_layers]\n",
        "        context_vectors, attention_weights = zip(*attention_outputs)\n",
        "        concat_context = tf.concat(context_vectors, axis=-1)\n",
        "        concat_weights = tf.concat(attention_weights, axis=-1)\n",
        "        return concat_context, concat_weights\n",
        "\n",
        "class AttentionLayer(keras.layers.Layer):\n",
        "    def __init__(self, units):\n",
        "        super(AttentionLayer, self).__init__()\n",
        "        self.W1 = keras.layers.Dense(units)\n",
        "        self.W2 = keras.layers.Dense(units)\n",
        "        self.V = keras.layers.Dense(1)\n",
        "\n",
        "    def call(self, inputs):\n",
        "        score = self.V(tf.nn.tanh(self.W1(inputs) + self.W2(inputs)))\n",
        "        attention_weights = tf.nn.softmax(score, axis=1)\n",
        "        context_vector = attention_weights * inputs\n",
        "        context_vector = tf.reduce_sum(context_vector, axis=1)\n",
        "        return context_vector, attention_weights\n",
        "\n",
        "def create_attention_only_model(input_shape, num_attention_layers, units_per_layer, heads_per_layer):\n",
        "    inputs = keras.layers.Input(shape=input_shape)\n",
        "    x = inputs\n",
        "    all_attention_weights = []\n",
        "\n",
        "    for _ in range(num_attention_layers):\n",
        "        x, attention_weights = MultiAttentionLayer(units_per_layer, heads_per_layer)(x)\n",
        "        all_attention_weights.append(attention_weights)\n",
        "        x = keras.layers.Reshape((1, -1))(x)  # Reshape for next attention layer\n",
        "\n",
        "    # Final projection to output\n",
        "    outputs = keras.layers.Dense(1)(x)\n",
        "    outputs = keras.layers.Flatten()(outputs)  # Flatten to match expected output shape\n",
        "\n",
        "    model = keras.Model(inputs=inputs, outputs=[outputs] + all_attention_weights)\n",
        "    model.compile(optimizer='adam', loss=['mse'] + [None] * num_attention_layers)\n",
        "    return model\n",
        "\n",
        "# 샘플 데이터 생성\n",
        "np.random.seed(0)\n",
        "X = np.random.rand(1000, 10, 5)  # (samples, time_steps, features)\n",
        "y = np.sum(X, axis=(1,2)).reshape(-1, 1)  # 간단한 목표값\n",
        "\n",
        "# 모델 생성 및 학습\n",
        "model = create_attention_only_model(\n",
        "    input_shape=(10, 5),\n",
        "    num_attention_layers=3,\n",
        "    units_per_layer=32,\n",
        "    heads_per_layer=4\n",
        ")\n",
        "\n",
        "# Prepare dummy outputs for attention weights (not used in loss calculation)\n",
        "dummy_attention_outputs = [np.zeros((len(X), 10, 4)) for _ in range(3)]  # 3 layers, 4 heads each\n",
        "model.fit(X, [y] + dummy_attention_outputs, epochs=10, batch_size=32, validation_split=0.2)\n",
        "\n",
        "# 예측 및 attention 가중치 추출\n",
        "X_test = np.random.rand(100, 10, 5)\n",
        "predictions_and_weights = model.predict(X_test)\n",
        "predictions = predictions_and_weights[0]\n",
        "attention_weights = predictions_and_weights[1:]\n",
        "\n",
        "print(\"예측 결과:\", predictions[:5])\n",
        "print(\"Attention Weights 형태 (각 레이어):\")\n",
        "for i, weights in enumerate(attention_weights):\n",
        "    print(f\"Layer {i+1}: {weights.shape}\")"
      ],
      "metadata": {
        "colab": {
          "base_uri": "https://localhost:8080/"
        },
        "id": "tS8NRREiMwaZ",
        "outputId": "2fcb6487-315f-4fe4-826f-af5826b6eff3"
      },
      "execution_count": null,
      "outputs": [
        {
          "output_type": "stream",
          "name": "stdout",
          "text": [
            "Epoch 1/10\n",
            "25/25 [==============================] - 27s 283ms/step - loss: 552.1841 - flatten_loss: 552.1841 - val_loss: 458.2108 - val_flatten_loss: 458.2108\n",
            "Epoch 2/10\n",
            "25/25 [==============================] - 1s 24ms/step - loss: 373.0143 - flatten_loss: 373.0143 - val_loss: 296.4544 - val_flatten_loss: 296.4544\n",
            "Epoch 3/10\n",
            "25/25 [==============================] - 1s 21ms/step - loss: 229.4543 - flatten_loss: 229.4543 - val_loss: 171.4536 - val_flatten_loss: 171.4536\n",
            "Epoch 4/10\n",
            "25/25 [==============================] - 1s 26ms/step - loss: 124.3441 - flatten_loss: 124.3441 - val_loss: 86.8665 - val_flatten_loss: 86.8665\n",
            "Epoch 5/10\n",
            "25/25 [==============================] - 1s 25ms/step - loss: 58.8548 - flatten_loss: 58.8548 - val_loss: 39.0030 - val_flatten_loss: 39.0030\n",
            "Epoch 6/10\n",
            "25/25 [==============================] - 1s 26ms/step - loss: 25.1168 - flatten_loss: 25.1168 - val_loss: 16.9590 - val_flatten_loss: 16.9590\n",
            "Epoch 7/10\n",
            "25/25 [==============================] - 1s 25ms/step - loss: 10.9387 - flatten_loss: 10.9387 - val_loss: 8.5715 - val_flatten_loss: 8.5715\n",
            "Epoch 8/10\n",
            "25/25 [==============================] - 1s 45ms/step - loss: 6.1300 - flatten_loss: 6.1300 - val_loss: 5.7799 - val_flatten_loss: 5.7799\n",
            "Epoch 9/10\n",
            "25/25 [==============================] - 1s 31ms/step - loss: 4.6708 - flatten_loss: 4.6708 - val_loss: 4.9797 - val_flatten_loss: 4.9797\n",
            "Epoch 10/10\n",
            "25/25 [==============================] - 1s 32ms/step - loss: 4.2916 - flatten_loss: 4.2916 - val_loss: 4.6590 - val_flatten_loss: 4.6590\n",
            "4/4 [==============================] - 4s 10ms/step\n",
            "예측 결과: [[21.53197 ]\n",
            " [24.589903]\n",
            " [27.743254]\n",
            " [25.952467]\n",
            " [21.758642]]\n",
            "Attention Weights 형태 (각 레이어):\n",
            "Layer 1: (100, 10, 4)\n",
            "Layer 2: (100, 1, 4)\n",
            "Layer 3: (100, 1, 4)\n"
          ]
        }
      ]
    },
    {
      "cell_type": "code",
      "source": [
        "# 시각화 (첫 번째 레이어의 첫 번째 헤드만)\n",
        "import matplotlib.pyplot as plt\n",
        "\n",
        "plt.figure(figsize=(10, 5))\n",
        "plt.imshow(attention_weights[0][0, :], aspect='auto', cmap='viridis')\n",
        "plt.title('Attention Weights for the First Sample (Layer 1, Head 1)')\n",
        "plt.xlabel('Time Steps')\n",
        "plt.ylabel('Weight')\n",
        "plt.colorbar()\n",
        "plt.show()"
      ],
      "metadata": {
        "colab": {
          "base_uri": "https://localhost:8080/",
          "height": 485
        },
        "id": "AL361MixMzcH",
        "outputId": "8613d00c-bc8d-4510-8bec-3243457ec8a6"
      },
      "execution_count": null,
      "outputs": [
        {
          "output_type": "display_data",
          "data": {
            "text/plain": [
              "<Figure size 1000x500 with 2 Axes>"
            ],
            "image/png": "[encoded data removed]"
          },
          "metadata": {}
        }
      ]
    },
    {
      "cell_type": "code",
      "source": [],
      "metadata": {
        "id": "oaqVxmiOkXQj"
      },
      "execution_count": null,
      "outputs": []
    },
    {
      "cell_type": "code",
      "source": [],
      "metadata": {
        "id": "eIe-qo0nkX-T"
      },
      "execution_count": null,
      "outputs": []
    },
    {
      "cell_type": "code",
      "source": [
        "model.summary()"
      ],
      "metadata": {
        "id": "-WaR_F1tM2EW"
      },
      "execution_count": null,
      "outputs": []
    }
  ]
}